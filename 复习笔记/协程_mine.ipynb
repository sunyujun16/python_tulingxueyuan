{
 "cells": [
  {
   "cell_type": "code",
   "execution_count": 3,
   "metadata": {},
   "outputs": [
    {
     "name": "stdout",
     "output_type": "stream",
     "text": [
      "<Thread-4>第1次尝试链接\n",
      "<Thread-5>第1次尝试链接\n",
      "\u001b[45m[Thread-6]正在检查mysql\u001b[0m\n",
      "<Thread-4>第2次尝试链接\n",
      "<Thread-5>第2次尝试链接\n",
      "<Thread-4>第3次尝试链接\n",
      "<Thread-5>第3次尝试链接\n"
     ]
    },
    {
     "name": "stderr",
     "output_type": "stream",
     "text": [
      "Exception in thread Thread-4:\n",
      "Traceback (most recent call last):\n",
      "  File \"/home/sun/anaconda3/lib/python3.6/threading.py\", line 916, in _bootstrap_inner\n",
      "    self.run()\n",
      "  File \"/home/sun/anaconda3/lib/python3.6/threading.py\", line 864, in run\n",
      "    self._target(*self._args, **self._kwargs)\n",
      "  File \"<ipython-input-3-dd3bc5b95882>\", line 8, in conn_mysql\n",
      "    raise TimeoutError('链接超时')\n",
      "TimeoutError: 链接超时\n",
      "\n",
      "Exception in thread Thread-5:\n",
      "Traceback (most recent call last):\n",
      "  File \"/home/sun/anaconda3/lib/python3.6/threading.py\", line 916, in _bootstrap_inner\n",
      "    self.run()\n",
      "  File \"/home/sun/anaconda3/lib/python3.6/threading.py\", line 864, in run\n",
      "    self._target(*self._args, **self._kwargs)\n",
      "  File \"<ipython-input-3-dd3bc5b95882>\", line 8, in conn_mysql\n",
      "    raise TimeoutError('链接超时')\n",
      "TimeoutError: 链接超时\n",
      "\n"
     ]
    }
   ],
   "source": [
    "from threading import Thread,Event\n",
    "import threading\n",
    "import time,random\n",
    "\n",
    "\n",
    "def conn_mysql():\n",
    "    count=1\n",
    "    while not event.is_set():\n",
    "        if count > 3:\n",
    "            raise TimeoutError('链接超时')\n",
    "        print('<%s>第%s次尝试链接' % (threading.current_thread().getName(), count))\n",
    "        event.wait(0.5)\n",
    "        count+=1\n",
    "    print('<%s>链接成功' %threading.current_thread().getName())\n",
    "    \n",
    "\n",
    "def check_mysql():\n",
    "    print('\\033[45m[%s]正在检查mysql\\033[0m' % threading.current_thread().getName())\n",
    "    time.sleep(random.randint(2,4))\n",
    "    event.set()\n",
    "    \n",
    "    \n",
    "if __name__ == '__main__':\n",
    "    event=Event()\n",
    "    conn1=Thread(target=conn_mysql)\n",
    "    conn2=Thread(target=conn_mysql)\n",
    "    check=Thread(target=check_mysql)\n",
    "\n",
    "    conn1.start()\n",
    "    conn2.start()\n",
    "    check.start()"
   ]
  },
  {
   "cell_type": "code",
   "execution_count": 36,
   "metadata": {},
   "outputs": [
    {
     "name": "stdout",
     "output_type": "stream",
     "text": [
      "100\n"
     ]
    }
   ],
   "source": [
    "import threading\n",
    "n = 0\n",
    "def foo():\n",
    "    global n\n",
    "    n += 1\n",
    "threads = []\n",
    "for i in range(100):\n",
    "    t = threading.Thread(target=foo)\n",
    "    threads.append(t)\n",
    "for t in threads:\n",
    "    t.start()\n",
    "for t in threads:\n",
    "    t.join()\n",
    "print(n)"
   ]
  },
  {
   "cell_type": "markdown",
   "metadata": {},
   "source": [
    "# 协程\n",
    "- 参考资料\n",
    "\n",
    "# 迭代器\n",
    "- 可迭代(Iterable):直接作用于for循环的变量\n",
    "- 迭代器(Iterable):不但可以作用于for循环, 还可以被next调用.\n",
    "- list是典型的可迭代对象, 但不是迭代器\n",
    "- 通过isinstance进行判断\n",
    "- 通过iter()进行转换"
   ]
  },
  {
   "cell_type": "code",
   "execution_count": 37,
   "metadata": {
    "scrolled": true
   },
   "outputs": [
    {
     "name": "stdout",
     "output_type": "stream",
     "text": [
      "[0, 1, 2, 3, 4, 5, 6, 7, 8, 9]\n",
      "0\n",
      "1\n",
      "2\n",
      "3\n",
      "4\n"
     ]
    }
   ],
   "source": [
    "# 可迭代\n",
    "l = [i for i in range(10)]\n",
    "print(l)\n",
    "\n",
    "# range是个迭代器\n",
    "for i in range(5):\n",
    "    print(i)"
   ]
  },
  {
   "cell_type": "code",
   "execution_count": 39,
   "metadata": {},
   "outputs": [
    {
     "name": "stdout",
     "output_type": "stream",
     "text": [
      "True\n",
      "False\n"
     ]
    }
   ],
   "source": [
    "# 判断是否可迭代\n",
    "\n",
    "from collections import Iterable\n",
    "from collections import Iterator\n",
    "\n",
    "l1 = [1,2,3,4,5]\n",
    "\n",
    "print(isinstance(l1, Iterable))\n",
    "print(isinstance(l1, Iterator))"
   ]
  },
  {
   "cell_type": "code",
   "execution_count": 47,
   "metadata": {
    "scrolled": true
   },
   "outputs": [
    {
     "name": "stdout",
     "output_type": "stream",
     "text": [
      "True\n",
      "False\n",
      "True\n",
      "True\n",
      "a.s.d.f.k.h.a.;.孙.宇.军.g.d.s.阿.斯.顿.j.j.k.\n",
      "完事儿里奥\n"
     ]
    }
   ],
   "source": [
    "# iter()转换\n",
    "s = 'asdfkha;孙宇军gds阿斯顿jjk'\n",
    "\n",
    "print(isinstance(s, Iterable))\n",
    "print(isinstance(s, Iterator))\n",
    "\n",
    "s_iter = iter(s)\n",
    "\n",
    "print(isinstance(s_iter, Iterable))\n",
    "print(isinstance(s_iter, Iterator))\n",
    "\n",
    "# 那么迭代器的话...就能next了吧↓\n",
    "    \n",
    "try:\n",
    "    while True:\n",
    "        print(next(s_iter), end='.')\n",
    "except StopIteration:\n",
    "    print(\"\\n完事儿里奥\")"
   ]
  },
  {
   "cell_type": "markdown",
   "metadata": {},
   "source": [
    "# 生成器(generator)\n",
    "- 一边循环, 一边计算下一个元素的机制/算法\n",
    "- 需要满足三个条件:\n",
    "    - 每次调用都生成for循环需要的下一个元素\n",
    "    - 如果打到最后一个, 爆出StopIteration异常\n",
    "    - 可以被next()函数调用\n",
    "- 如何制作一个生成器\n",
    "    - 直接使用\n",
    "    - 如果函数中包含yield, 则这个函数就叫生成器\n",
    "    - next调用函数, 遇到yield会返回"
   ]
  },
  {
   "cell_type": "code",
   "execution_count": 54,
   "metadata": {
    "scrolled": true
   },
   "outputs": [
    {
     "name": "stdout",
     "output_type": "stream",
     "text": [
      "<class 'list'>\n",
      "<class 'generator'>\n"
     ]
    }
   ],
   "source": [
    "# 直接使用生成器\n",
    "\n",
    "L = [x*x for x in range(5)]  # 放在中括号就是列表生成器\n",
    "\n",
    "g = (x*x for x in range(5))  # 放在小括号就是生成器\n",
    "\n",
    "print(type(L))\n",
    "print(type(g))\n"
   ]
  },
  {
   "cell_type": "code",
   "execution_count": 55,
   "metadata": {},
   "outputs": [
    {
     "name": "stdout",
     "output_type": "stream",
     "text": [
      "Step 1\n",
      "Step 2\n",
      "Step 3\n"
     ]
    }
   ],
   "source": [
    "# 函数案例\n",
    "\n",
    "def odd():\n",
    "    print('Step 1')\n",
    "    print('Step 2')\n",
    "    print('Step 3')\n",
    "    return None\n",
    "\n",
    "a = odd()"
   ]
  },
  {
   "cell_type": "code",
   "execution_count": 58,
   "metadata": {},
   "outputs": [
    {
     "name": "stdout",
     "output_type": "stream",
     "text": [
      "已经调用了\n",
      "Step 1\n",
      "1\n",
      "Step 2\n",
      "2\n",
      "Step 3\n",
      "3\n"
     ]
    }
   ],
   "source": [
    "# 生成器案例\n",
    "# 在odd函数中, yield负责返回\n",
    "def odd():\n",
    "    print('Step 1')\n",
    "    yield 1\n",
    "    print('Step 2')\n",
    "    yield 2\n",
    "    print('Step 3')\n",
    "    yield 3\n",
    "\n",
    "# odd()是调用生成器, 这里普通函数会打印'Step 1',然而此处并没有, 因为里面有yield, 是生成器.\n",
    "g = odd()\n",
    "print(\"已经调用了\")\n",
    "\n",
    "one = next(g) # 在调用next之前, 生成器一动不动像王八, 调用之后, 会一直执行到yield, 并按本句代码的要求把yield后面\n",
    "print(one)    # 的值赋给one然后就又一动不动像王八了. \n",
    "\n",
    "two = next(g)\n",
    "print(two)\n",
    "\n",
    "three = g.send('三')  # odd自会next, 无需再next\n",
    "# try:\n",
    "#     three = next(g)\n",
    "# except StopIteration:\n",
    "print(three)"
   ]
  },
  {
   "cell_type": "code",
   "execution_count": 23,
   "metadata": {},
   "outputs": [
    {
     "name": "stdout",
     "output_type": "stream",
     "text": [
      "1\n",
      "1\n",
      "2\n",
      "3\n",
      "5\n"
     ]
    }
   ],
   "source": [
    "# for 循环调用生成器\n",
    "\n",
    "def fib(max):\n",
    "    n, a, b = 0, 0, 1\n",
    "    while n < max:\n",
    "        print(b)\n",
    "        a, b = b, a+b\n",
    "        n += 1\n",
    "        \n",
    "    return None\n",
    "\n",
    "fib(5)"
   ]
  },
  {
   "cell_type": "code",
   "execution_count": 24,
   "metadata": {
    "scrolled": true
   },
   "outputs": [
    {
     "name": "stdout",
     "output_type": "stream",
     "text": [
      "1\n",
      "1\n",
      "2\n",
      "3\n",
      "5\n"
     ]
    },
    {
     "ename": "StopIteration",
     "evalue": "",
     "output_type": "error",
     "traceback": [
      "\u001b[0;31m---------------------------------------------------------------------------\u001b[0m",
      "\u001b[0;31mStopIteration\u001b[0m                             Traceback (most recent call last)",
      "\u001b[0;32m<ipython-input-24-4ce9701c104d>\u001b[0m in \u001b[0;36m<module>\u001b[0;34m()\u001b[0m\n\u001b[1;32m     13\u001b[0m \u001b[0;34m\u001b[0m\u001b[0m\n\u001b[1;32m     14\u001b[0m \u001b[0;32mfor\u001b[0m \u001b[0mi\u001b[0m \u001b[0;32min\u001b[0m \u001b[0mrange\u001b[0m\u001b[0;34m(\u001b[0m\u001b[0;36m6\u001b[0m\u001b[0;34m)\u001b[0m\u001b[0;34m:\u001b[0m\u001b[0;34m\u001b[0m\u001b[0m\n\u001b[0;32m---> 15\u001b[0;31m     \u001b[0mrst\u001b[0m \u001b[0;34m=\u001b[0m \u001b[0mnext\u001b[0m\u001b[0;34m(\u001b[0m\u001b[0mg\u001b[0m\u001b[0;34m)\u001b[0m\u001b[0;34m\u001b[0m\u001b[0m\n\u001b[0m\u001b[1;32m     16\u001b[0m     \u001b[0mprint\u001b[0m\u001b[0;34m(\u001b[0m\u001b[0mrst\u001b[0m\u001b[0;34m)\u001b[0m\u001b[0;34m\u001b[0m\u001b[0m\n",
      "\u001b[0;31mStopIteration\u001b[0m: "
     ]
    }
   ],
   "source": [
    "# feibonaqi数列生成器写法\n",
    "\n",
    "def fib(max):\n",
    "    n, a, b = 0, 0, 1\n",
    "    while n < max:\n",
    "        yield b\n",
    "        a, b = b, a+b\n",
    "        n += 1\n",
    "        \n",
    "    return None\n",
    "\n",
    "g = fib(5)  # 记住了, 这里函数一动没动.\n",
    "\n",
    "for i in range(6):\n",
    "    rst = next(g)  # 看见next, 生成器被激活, 执行到yield后暂停, 把b的值赋给g, 注意, 是\"暂停\"!!! \n",
    "                   # 直到next再次出现, 再继续奔向下一个yield\n",
    "    print(rst)"
   ]
  },
  {
   "cell_type": "code",
   "execution_count": 53,
   "metadata": {},
   "outputs": [
    {
     "name": "stdout",
     "output_type": "stream",
     "text": [
      "1,1,2,3,5,8,13,21,34,55,"
     ]
    }
   ],
   "source": [
    "ge = fib(10)\n",
    "\"\"\"\n",
    "生成器的典型用法就是在for循环里使用\n",
    "比较常用的典型生成器是range.\n",
    "\"\"\"\n",
    "# 我认为这里ge从一开始仍然是一动不动的, 直到for循环的出现, 它起到了next()的作用\n",
    "for i in ge:\n",
    "    print(i, end=',')\n"
   ]
  },
  {
   "cell_type": "markdown",
   "metadata": {},
   "source": [
    "# 协程\n",
    "\n",
    "- 历史历程\n",
    "    - 3.4引入协程, 用yield实现\n",
    "    - 3.5引入协程语法\n",
    "    - 实现协程比较好的包有: \n",
    "        - asyncio\n",
    "        - tornado\n",
    "        - gevent\n",
    "\n",
    "- 定义: 协程, 十位非抢占式多任务产生子程序的计算机程序组件, 协程允许不同入口点在不同位置暂停或开始执行程续.\n",
    "\n",
    "- 从技术角度讲, 协程就是一个你可以暂停执行的函数, 或者干脆把协程理解成生成器.\n",
    "\n",
    "- 协程的实现:\n",
    "    - yield调用\n",
    "    - send调用\n",
    "    \n",
    "- 协程的四个状态\n",
    "    - inspect.getgeneratorstate(...)函数确定, 该函数会返回下列字符串中的一个:\n",
    "    - GEN_CREATED: 等待开始\n",
    "    - GEN_RUNNIG: 解释器正在执行\n",
    "    - GEN_SUSPENDED: 在yield处暂停\n",
    "    - GEN_CLOSED: 执行结束\n",
    "    - next预激(prime)\n",
    "\n",
    "- 携程终止\n",
    "    - StopIteration\n",
    "    - 协程中未处理的异常会向上冒泡, 传给next函数或send方法的调用方 (即触发携程对象)\n",
    "    - 停止协程的一种方式: 发送某个哨符值, 让协程退出. 内置的None和Ellipsis 等常量经常用作哨符值==\n",
    "\n",
    "- yield from\n",
    "    - 调用协程为了得到返回值, 协程必须正常终止.\n",
    "    - 生成器正常终止会发出StopIteration异常.\n",
    "    - yield from 从内部捕获StopIteration异常\n",
    "    - 案例v03\n",
    "    - 委派生成器\n",
    "        - 包含yield from 表达式的生成器函数\n",
    "        - 委派生成器在yield from表达式处暂停, 调用方可以直接把数据发给子生成器\n",
    "        - 子生成器再把产生的值发给调用方\n",
    "        - 子生成器在最后, 解释器会抛出StopIteration异常, 并且把返回值附加到异常对象上.\n",
    "        - 案例04"
   ]
  },
  {
   "cell_type": "code",
   "execution_count": 61,
   "metadata": {
    "scrolled": false
   },
   "outputs": [
    {
     "name": "stdout",
     "output_type": "stream",
     "text": [
      "预激 12\n"
     ]
    },
    {
     "ename": "StopIteration",
     "evalue": "20",
     "output_type": "error",
     "traceback": [
      "\u001b[0;31m---------------------------------------------------------------------------\u001b[0m",
      "\u001b[0;31mStopIteration\u001b[0m                             Traceback (most recent call last)",
      "\u001b[0;32m<ipython-input-61-5c4c48253335>\u001b[0m in \u001b[0;36m<module>\u001b[0;34m\u001b[0m\n\u001b[1;32m     25\u001b[0m \u001b[0;34m\u001b[0m\u001b[0m\n\u001b[1;32m     26\u001b[0m \u001b[0msc\u001b[0m \u001b[0;34m=\u001b[0m \u001b[0msimple_coro\u001b[0m\u001b[0;34m(\u001b[0m\u001b[0;36m12\u001b[0m\u001b[0;34m)\u001b[0m  \u001b[0;31m# 这句话实际上右边是 sc = primer(12), 而后者返回值是经过预激的simple_coro(12)\u001b[0m\u001b[0;34m\u001b[0m\u001b[0;34m\u001b[0m\u001b[0m\n\u001b[0;32m---> 27\u001b[0;31m \u001b[0msc\u001b[0m\u001b[0;34m.\u001b[0m\u001b[0msend\u001b[0m\u001b[0;34m(\u001b[0m\u001b[0;36m18\u001b[0m\u001b[0;34m)\u001b[0m\u001b[0;34m\u001b[0m\u001b[0;34m\u001b[0m\u001b[0m\n\u001b[0m",
      "\u001b[0;31mStopIteration\u001b[0m: 20"
     ]
    }
   ],
   "source": [
    "# from functools import wraps\n",
    "\n",
    "def coroutinue(func):\n",
    "    '''\n",
    "    装饰器： 向前执行到第一个`yield`表达式，预激`func`\n",
    "    :param func: func name\n",
    "    :return: primer\n",
    "    '''    \n",
    "#     @wraps(func)\n",
    "    def primer(*args, **kwargs):\n",
    "        # 把装饰器生成器函数替换成这里的primer函数；调用primer函数时，返回预激后的生成器。\n",
    "        gen = func(*args, **kwargs)        # 调用被被装饰函数，获取生成器对象\n",
    "        next(gen)  # 预激生成器\n",
    "        return gen  # 返回生成器, 它正常情况是simple_coro的返回值, 但是由于有yield存在, 所以primer的返回值是一个生成器\n",
    "    return primer\n",
    "\n",
    "# 使用方法如下\n",
    "\n",
    "@coroutinue\n",
    "def simple_coro(a):\n",
    "    print(\"预激\",a)\n",
    "    a = yield\n",
    "    return a + 2\n",
    "    \n",
    "    \n",
    "sc = simple_coro(12)  # 这句话实际上右边是 sc = primer(12), 而后者返回值是经过预激的simple_coro(12), \n",
    "sc.send(18)           # 而参数a的实参值对于结果而言并没有意义\n"
   ]
  },
  {
   "cell_type": "code",
   "execution_count": 9,
   "metadata": {
    "scrolled": false
   },
   "outputs": [
    {
     "name": "stdout",
     "output_type": "stream",
     "text": [
      "Help on function wraps in module functools:\n",
      "\n",
      "wraps(wrapped, assigned=('__module__', '__name__', '__qualname__', '__doc__', '__annotations__'), updated=('__dict__',))\n",
      "    Decorator factory to apply update_wrapper() to a wrapper function\n",
      "    \n",
      "    Returns a decorator that invokes update_wrapper() with the decorated\n",
      "    function as the wrapper argument and the arguments to wraps() as the\n",
      "    remaining arguments. Default arguments are as for update_wrapper().\n",
      "    This is a convenience function to simplify applying partial() to\n",
      "    update_wrapper().\n",
      "\n"
     ]
    }
   ],
   "source": [
    "import functools\n",
    "help(functools.wraps)  # 网上示例所用， 不知道是什么意思"
   ]
  },
  {
   "cell_type": "code",
   "execution_count": 65,
   "metadata": {},
   "outputs": [
    {
     "name": "stdout",
     "output_type": "stream",
     "text": [
      "11111\n",
      "Started\n",
      "22222\n",
      "Recived 啥玩意?\n"
     ]
    },
    {
     "ename": "StopIteration",
     "evalue": "",
     "output_type": "error",
     "traceback": [
      "\u001b[0;31m---------------------------------------------------------------------------\u001b[0m",
      "\u001b[0;31mStopIteration\u001b[0m                             Traceback (most recent call last)",
      "\u001b[0;32m<ipython-input-65-c97079696ba7>\u001b[0m in \u001b[0;36m<module>\u001b[0;34m\u001b[0m\n\u001b[1;32m     13\u001b[0m \u001b[0;34m\u001b[0m\u001b[0m\n\u001b[1;32m     14\u001b[0m \u001b[0mprint\u001b[0m\u001b[0;34m(\u001b[0m\u001b[0;36m22222\u001b[0m\u001b[0;34m)\u001b[0m\u001b[0;34m\u001b[0m\u001b[0;34m\u001b[0m\u001b[0m\n\u001b[0;32m---> 15\u001b[0;31m \u001b[0msc\u001b[0m\u001b[0;34m.\u001b[0m\u001b[0msend\u001b[0m\u001b[0;34m(\u001b[0m\u001b[0;34m'啥玩意?'\u001b[0m\u001b[0;34m)\u001b[0m\u001b[0;34m\u001b[0m\u001b[0;34m\u001b[0m\u001b[0m\n\u001b[0m",
      "\u001b[0;31mStopIteration\u001b[0m: "
     ]
    }
   ],
   "source": [
    "# 协程代码案例1\n",
    "\n",
    "def simple_coroutine():\n",
    "    print('Started')\n",
    "    x = yield\n",
    "    print('Recived', x)\n",
    "\n",
    "    \n",
    "sc = simple_coroutine()\n",
    "\n",
    "print(11111)\n",
    "next(sc) # 预激\n",
    "\n",
    "print(22222)\n",
    "sc.send('啥玩意?')\n"
   ]
  },
  {
   "cell_type": "code",
   "execution_count": 74,
   "metadata": {},
   "outputs": [
    {
     "name": "stdout",
     "output_type": "stream",
     "text": [
      "A\n",
      "B\n"
     ]
    },
    {
     "ename": "StopIteration",
     "evalue": "3",
     "output_type": "error",
     "traceback": [
      "\u001b[0;31m---------------------------------------------------------------------------\u001b[0m",
      "\u001b[0;31mStopIteration\u001b[0m                             Traceback (most recent call last)",
      "\u001b[0;32m<ipython-input-74-208a2598e8dd>\u001b[0m in \u001b[0;36m<module>\u001b[0;34m\u001b[0m\n\u001b[1;32m      8\u001b[0m \u001b[0mprint\u001b[0m\u001b[0;34m(\u001b[0m\u001b[0mnext\u001b[0m\u001b[0;34m(\u001b[0m\u001b[0mg\u001b[0m\u001b[0;34m)\u001b[0m\u001b[0;34m)\u001b[0m\u001b[0;34m\u001b[0m\u001b[0;34m\u001b[0m\u001b[0m\n\u001b[1;32m      9\u001b[0m \u001b[0mprint\u001b[0m\u001b[0;34m(\u001b[0m\u001b[0mnext\u001b[0m\u001b[0;34m(\u001b[0m\u001b[0mg\u001b[0m\u001b[0;34m)\u001b[0m\u001b[0;34m)\u001b[0m\u001b[0;34m\u001b[0m\u001b[0;34m\u001b[0m\u001b[0m\n\u001b[0;32m---> 10\u001b[0;31m \u001b[0mprint\u001b[0m\u001b[0;34m(\u001b[0m\u001b[0mnext\u001b[0m\u001b[0;34m(\u001b[0m\u001b[0mg\u001b[0m\u001b[0;34m)\u001b[0m\u001b[0;34m)\u001b[0m\u001b[0;34m\u001b[0m\u001b[0;34m\u001b[0m\u001b[0m\n\u001b[0m\u001b[1;32m     11\u001b[0m \u001b[0;34m\u001b[0m\u001b[0m\n\u001b[1;32m     12\u001b[0m \u001b[0;31m# 等价代码：\u001b[0m\u001b[0;34m\u001b[0m\u001b[0;34m\u001b[0m\u001b[0;34m\u001b[0m\u001b[0m\n",
      "\u001b[0;31mStopIteration\u001b[0m: 3"
     ]
    }
   ],
   "source": [
    "def gen():\n",
    "    for c in \"AB\":\n",
    "        yield c\n",
    "    return 3\n",
    "\n",
    "g = gen()\n",
    "\n",
    "print(next(g))\n",
    "print(next(g))\n",
    "print(next(g))\n",
    "\n",
    "# 等价代码：(这也让我更好地理解了for循环的本质,)\n",
    "'''\n",
    "def gen():\n",
    "    \n",
    "    c = \"A\"\n",
    "    yield c\n",
    "    \n",
    "    c = \"B\"\n",
    "    yield c\n",
    "    \n",
    "    return 3\n",
    "'''"
   ]
  },
  {
   "cell_type": "code",
   "execution_count": 75,
   "metadata": {},
   "outputs": [
    {
     "name": "stdout",
     "output_type": "stream",
     "text": [
      "['A', 'B']\n",
      "['A', 'B']\n"
     ]
    }
   ],
   "source": [
    "# v03\n",
    "\n",
    "def gen():\n",
    "    for c in \"AB\":\n",
    "        yield c\n",
    "# list直接用生成器作为参数， list就是调用方, 也是个会自动next的货色.\n",
    "print(list(gen()))\n",
    "\n",
    "def gen_new():\n",
    "    yield from \"AB\"\n",
    "\n",
    "print(list(gen_new()))"
   ]
  },
  {
   "cell_type": "code",
   "execution_count": 92,
   "metadata": {},
   "outputs": [
    {
     "name": "stdout",
     "output_type": "stream",
     "text": [
      "我们之所以看到'多余'的'3dada,是因为什么呢, 是子生成器的StopIterration吗?'\n",
      "1dada,对应每个boy\n",
      "3dada,对应每次预激\n",
      "2dada,对应每次预激结束\n"
     ]
    },
    {
     "ename": "StopIteration",
     "evalue": "",
     "output_type": "error",
     "traceback": [
      "\u001b[0;31m---------------------------------------------------------------------------\u001b[0m",
      "\u001b[0;31mStopIteration\u001b[0m                             Traceback (most recent call last)",
      "\u001b[0;32m<ipython-input-92-519aa50b760f>\u001b[0m in \u001b[0;36m<module>\u001b[0;34m\u001b[0m\n\u001b[1;32m     69\u001b[0m \u001b[0mprint\u001b[0m\u001b[0;34m(\u001b[0m\u001b[0;34m\"我们之所以看到'多余'的'3dada,是因为什么呢, 是子生成器的StopIterration吗?'\"\u001b[0m\u001b[0;34m)\u001b[0m\u001b[0;34m\u001b[0m\u001b[0;34m\u001b[0m\u001b[0m\n\u001b[1;32m     70\u001b[0m \u001b[0;31m# run\u001b[0m\u001b[0;34m\u001b[0m\u001b[0;34m\u001b[0m\u001b[0;34m\u001b[0m\u001b[0m\n\u001b[0;32m---> 71\u001b[0;31m \u001b[0mclient\u001b[0m\u001b[0;34m(\u001b[0m\u001b[0;34m)\u001b[0m\u001b[0;34m\u001b[0m\u001b[0;34m\u001b[0m\u001b[0m\n\u001b[0m",
      "\u001b[0;32m<ipython-input-92-519aa50b760f>\u001b[0m in \u001b[0;36mclient\u001b[0;34m()\u001b[0m\n\u001b[1;32m     64\u001b[0m \u001b[0;34m\u001b[0m\u001b[0m\n\u001b[1;32m     65\u001b[0m         \u001b[0;31m# 终止协程\u001b[0m\u001b[0;34m\u001b[0m\u001b[0;34m\u001b[0m\u001b[0;34m\u001b[0m\u001b[0m\n\u001b[0;32m---> 66\u001b[0;31m         \u001b[0mcoroutine\u001b[0m\u001b[0;34m.\u001b[0m\u001b[0msend\u001b[0m\u001b[0;34m(\u001b[0m\u001b[0;32mNone\u001b[0m\u001b[0;34m)\u001b[0m\u001b[0;34m\u001b[0m\u001b[0;34m\u001b[0m\u001b[0m\n\u001b[0m\u001b[1;32m     67\u001b[0m     \u001b[0mprint\u001b[0m\u001b[0;34m(\u001b[0m\u001b[0mstorages\u001b[0m\u001b[0;34m)\u001b[0m\u001b[0;34m\u001b[0m\u001b[0;34m\u001b[0m\u001b[0m\n\u001b[1;32m     68\u001b[0m \u001b[0;34m\u001b[0m\u001b[0m\n",
      "\u001b[0;31mStopIteration\u001b[0m: "
     ]
    }
   ],
   "source": [
    "# 案例04, 委派生成器\n",
    "from collections import namedtuple\n",
    "\n",
    "ResClass = namedtuple('Res', 'count, average')\n",
    "\n",
    "# 子生成器\n",
    "def averager():\n",
    "    total = 0.0\n",
    "    count = 0\n",
    "    average = None\n",
    "    \n",
    "    while True:\n",
    "        if count == 0:\n",
    "            print(\"3dada,对应每次预激\")\n",
    "        term = yield  # 第一次预激是到这里暂停的.\n",
    "        \n",
    "        if term is None:\n",
    "            break\n",
    "        total += term\n",
    "        count += 1\n",
    "        average = total / count\n",
    "\n",
    "    return ResClass(count, average)\n",
    "\n",
    "# 委派生成器\n",
    "def grouper(storages, key):\n",
    "    while True:  \n",
    "        storages[key] = yield from averager()\n",
    "\n",
    "# 调用方代码\n",
    "def client():\n",
    "    process_data = {\n",
    "        'boys_1': [39.0, 40.8, 43.2, 40.8, 43.1, 38.6, 41.4, 40.6, 36.3],\n",
    "        'boys_2': [1.38, 1.5, 1.32, 1.25, 1.37, 1.48, 1.25, 1.49, 1.46]\n",
    "    }\n",
    "\n",
    "    storages = {}\n",
    "    for k, v in process_data.items():\n",
    "        # 获得协程\n",
    "        coroutine = grouper(storages, k)\n",
    "        \n",
    "        print('1dada,对应每个boy')\n",
    "        # 预激协程, 注意这时候子生成器也已经执行到yield了. 因为在yield from处暂停时会把右侧的代码执行完\n",
    "        next(coroutine)\n",
    "        print(\"2dada,对应每次预激结束\")\n",
    "        \n",
    "        # 发送数据到协程\n",
    "        for dt in v:\n",
    "            coroutine.send(dt)\n",
    "\n",
    "        # 终止协程\n",
    "        coroutine.send(None)\n",
    "    print(storages)\n",
    "'''\n",
    "我们之所以看到'多余'的'3dada,是因为什么呢, 原来是委派生成器的while循环导致的, 它会在最后一次返回值的时候,又循环到yield from的\n",
    "右侧,而此时count是等于0的,因为这次又从averager的最顶部开始跑到yield了.\n",
    "那么索性把委派生成器的while去掉不行吗? 尝试发现, 去掉之后,StopIteration异常在boy_1结束后就冒泡到调用方,导致程序终止.这又是\n",
    "为什么呢? debug走起.\n",
    "我整明白了， 我太牛逼了， 我草了， 啊\n",
    "- 过奖过奖， 具体看下个cell\n",
    "'''\n",
    "client()"
   ]
  },
  {
   "cell_type": "code",
   "execution_count": 94,
   "metadata": {},
   "outputs": [
    {
     "name": "stdout",
     "output_type": "stream",
     "text": [
      "1dada,对应每个boy\n",
      "3dada,对应每次预激\n",
      "2dada,对应每次预激结束\n",
      "我不会让异常出现的\n",
      "1dada,对应每个boy\n",
      "3dada,对应每次预激\n",
      "2dada,对应每次预激结束\n",
      "我不会让异常出现的\n",
      "{'boys_1': Res(count=9, average=40.422222222222224), 'boys_2': Res(count=9, average=1.3888888888888888)}\n",
      "完美!\n"
     ]
    }
   ],
   "source": [
    "'''\n",
    "书接上文, 我们在困惑为什么去掉while True时候就会爆出异常,\n",
    "思考: 异常谁爆出来的呢, 我们知道没有while True的时候, 在委派生成器中, 由于子生成器在识别到None时执行了return, 这时候, 委派生成器就会\n",
    "执行到yield from的左边, 把值(resclass元组)赋给字典, 那么委派生成器内部会继续向下执行, 这时候, 如果没有while true, 那代码就到了尽头\n",
    ", 到了尽头自然爆出StopIteration异常, 该异常向上冒泡, 就显示为coroutine.send(None)这句代码出现异常.\n",
    "那么如何在不用while True的情况下避免这个异常呢? 答案呼之欲出了, 自然是try, except代码块. 于是下面的代码就出现了, 完美解决了\n",
    "while True的困惑, 并且避免了使用while True的情况下\"3dada\"重复打印的情况.\n",
    "完美!\n",
    "不过能不能用更好的方式去解决呢, 或者说, 能不能把这种try/except的逻辑写成一段固定的代码, 用更简洁的语法来实现...可能已经有了吧.\n",
    "'''\n",
    "from collections import namedtuple\n",
    "\n",
    "ResClass = namedtuple('Res', 'count, average')\n",
    "\n",
    "def averager():\n",
    "    total = 0.0\n",
    "    count = 0\n",
    "    average = None\n",
    "    \n",
    "    while True:\n",
    "        if count == 0:\n",
    "            print(\"3dada,对应每次预激\")\n",
    "        term = yield  # 第一次预激是到这里暂停的.\n",
    "        \n",
    "        if term is None:\n",
    "            break\n",
    "        total += term\n",
    "        count += 1\n",
    "        average = total / count\n",
    "\n",
    "    return ResClass(count, average)\n",
    "\n",
    "\n",
    "def grouper(storages, key):\n",
    "    storages[key] = yield from averager()\n",
    "\n",
    "\n",
    "def client():\n",
    "    process_data = {\n",
    "        'boys_1': [39.0, 40.8, 43.2, 40.8, 43.1, 38.6, 41.4, 40.6, 36.3],\n",
    "        'boys_2': [1.38, 1.5, 1.32, 1.25, 1.37, 1.48, 1.25, 1.49, 1.46]\n",
    "    }\n",
    "\n",
    "    storages = {}\n",
    "    \n",
    "    for k, v in process_data.items():\n",
    "        coroutine = grouper(storages, k)\n",
    "        \n",
    "        print('1dada,对应每个boy')\n",
    "        next(coroutine)\n",
    "        print(\"2dada,对应每次预激结束\")\n",
    "        \n",
    "        for dt in v:\n",
    "            coroutine.send(dt)\n",
    "\n",
    "        try:\n",
    "            coroutine.send(None)\n",
    "        except StopIteration:\n",
    "            print(\"我不会让异常出现的\")\n",
    "            pass\n",
    "    print(storages)\n",
    "\n",
    "client()\n",
    "print(\"完美!\")"
   ]
  },
  {
   "cell_type": "markdown",
   "metadata": {
    "collapsed": true
   },
   "source": [
    "# 还剩下的内容\n",
    "- xml, json\n",
    "- re, xpath\n",
    "- 网络编程： socket, ftp, mail\n",
    "- http协议, ==http web server 小项目\n",
    "- django, 详细\n",
    "- 爬虫, API"
   ]
  },
  {
   "cell_type": "markdown",
   "metadata": {},
   "source": [
    "# asyncio (async I/O)原意:asynchronous IO, 即异步IO\n",
    "- python3.4开始引入标准库当中, 内置对异步IO的支持\n",
    "- asyncio本身是一个消息循环\n",
    "- 步骤:\n",
    "    - 创建消息循环\n",
    "    - 把携程导入\n",
    "    - 关闭"
   ]
  },
  {
   "cell_type": "code",
   "execution_count": 11,
   "metadata": {},
   "outputs": [
    {
     "name": "stdout",
     "output_type": "stream",
     "text": [
      "Help on function get_event_loop in module asyncio.events:\n",
      "\n",
      "get_event_loop()\n",
      "    Return an asyncio event loop.\n",
      "    \n",
      "    When called from a coroutine or a callback (e.g. scheduled with call_soon\n",
      "    or similar API), this function will always return the running event loop.\n",
      "    \n",
      "    If there is no running event loop set, the function will return\n",
      "    the result of `get_event_loop_policy().get_event_loop()` call.\n",
      "\n"
     ]
    }
   ],
   "source": [
    "help(asyncio.get_event_loop)"
   ]
  },
  {
   "cell_type": "code",
   "execution_count": 10,
   "metadata": {
    "scrolled": false
   },
   "outputs": [
    {
     "ename": "RuntimeError",
     "evalue": "This event loop is already running",
     "output_type": "error",
     "traceback": [
      "\u001b[0;31m---------------------------------------------------------------------------\u001b[0m",
      "\u001b[0;31mRuntimeError\u001b[0m                              Traceback (most recent call last)",
      "\u001b[0;32m<ipython-input-10-4129e3910aba>\u001b[0m in \u001b[0;36m<module>\u001b[0;34m\u001b[0m\n\u001b[1;32m     21\u001b[0m \u001b[0;34m\u001b[0m\u001b[0m\n\u001b[1;32m     22\u001b[0m \u001b[0;31m# asyncio使用wait等待task执行完毕\u001b[0m\u001b[0;34m\u001b[0m\u001b[0;34m\u001b[0m\u001b[0;34m\u001b[0m\u001b[0m\n\u001b[0;32m---> 23\u001b[0;31m \u001b[0mloop\u001b[0m\u001b[0;34m.\u001b[0m\u001b[0mrun_until_complete\u001b[0m\u001b[0;34m(\u001b[0m\u001b[0masyncio\u001b[0m\u001b[0;34m.\u001b[0m\u001b[0mwait\u001b[0m\u001b[0;34m(\u001b[0m\u001b[0mtasks\u001b[0m\u001b[0;34m)\u001b[0m\u001b[0;34m)\u001b[0m\u001b[0;34m\u001b[0m\u001b[0;34m\u001b[0m\u001b[0m\n\u001b[0m\u001b[1;32m     24\u001b[0m \u001b[0mloop\u001b[0m\u001b[0;34m.\u001b[0m\u001b[0mclose\u001b[0m\u001b[0;34m(\u001b[0m\u001b[0;34m)\u001b[0m\u001b[0;34m\u001b[0m\u001b[0;34m\u001b[0m\u001b[0m\n\u001b[1;32m     25\u001b[0m \u001b[0;34m\u001b[0m\u001b[0m\n",
      "\u001b[0;32m~/anaconda3/lib/python3.6/asyncio/base_events.py\u001b[0m in \u001b[0;36mrun_until_complete\u001b[0;34m(self, future)\u001b[0m\n\u001b[1;32m    473\u001b[0m         \u001b[0mfuture\u001b[0m\u001b[0;34m.\u001b[0m\u001b[0madd_done_callback\u001b[0m\u001b[0;34m(\u001b[0m\u001b[0m_run_until_complete_cb\u001b[0m\u001b[0;34m)\u001b[0m\u001b[0;34m\u001b[0m\u001b[0;34m\u001b[0m\u001b[0m\n\u001b[1;32m    474\u001b[0m         \u001b[0;32mtry\u001b[0m\u001b[0;34m:\u001b[0m\u001b[0;34m\u001b[0m\u001b[0;34m\u001b[0m\u001b[0m\n\u001b[0;32m--> 475\u001b[0;31m             \u001b[0mself\u001b[0m\u001b[0;34m.\u001b[0m\u001b[0mrun_forever\u001b[0m\u001b[0;34m(\u001b[0m\u001b[0;34m)\u001b[0m\u001b[0;34m\u001b[0m\u001b[0;34m\u001b[0m\u001b[0m\n\u001b[0m\u001b[1;32m    476\u001b[0m         \u001b[0;32mexcept\u001b[0m\u001b[0;34m:\u001b[0m\u001b[0;34m\u001b[0m\u001b[0;34m\u001b[0m\u001b[0m\n\u001b[1;32m    477\u001b[0m             \u001b[0;32mif\u001b[0m \u001b[0mnew_task\u001b[0m \u001b[0;32mand\u001b[0m \u001b[0mfuture\u001b[0m\u001b[0;34m.\u001b[0m\u001b[0mdone\u001b[0m\u001b[0;34m(\u001b[0m\u001b[0;34m)\u001b[0m \u001b[0;32mand\u001b[0m \u001b[0;32mnot\u001b[0m \u001b[0mfuture\u001b[0m\u001b[0;34m.\u001b[0m\u001b[0mcancelled\u001b[0m\u001b[0;34m(\u001b[0m\u001b[0;34m)\u001b[0m\u001b[0;34m:\u001b[0m\u001b[0;34m\u001b[0m\u001b[0;34m\u001b[0m\u001b[0m\n",
      "\u001b[0;32m~/anaconda3/lib/python3.6/asyncio/base_events.py\u001b[0m in \u001b[0;36mrun_forever\u001b[0;34m(self)\u001b[0m\n\u001b[1;32m    427\u001b[0m         \u001b[0mself\u001b[0m\u001b[0;34m.\u001b[0m\u001b[0m_check_closed\u001b[0m\u001b[0;34m(\u001b[0m\u001b[0;34m)\u001b[0m\u001b[0;34m\u001b[0m\u001b[0;34m\u001b[0m\u001b[0m\n\u001b[1;32m    428\u001b[0m         \u001b[0;32mif\u001b[0m \u001b[0mself\u001b[0m\u001b[0;34m.\u001b[0m\u001b[0mis_running\u001b[0m\u001b[0;34m(\u001b[0m\u001b[0;34m)\u001b[0m\u001b[0;34m:\u001b[0m\u001b[0;34m\u001b[0m\u001b[0;34m\u001b[0m\u001b[0m\n\u001b[0;32m--> 429\u001b[0;31m             \u001b[0;32mraise\u001b[0m \u001b[0mRuntimeError\u001b[0m\u001b[0;34m(\u001b[0m\u001b[0;34m'This event loop is already running'\u001b[0m\u001b[0;34m)\u001b[0m\u001b[0;34m\u001b[0m\u001b[0;34m\u001b[0m\u001b[0m\n\u001b[0m\u001b[1;32m    430\u001b[0m         \u001b[0;32mif\u001b[0m \u001b[0mevents\u001b[0m\u001b[0;34m.\u001b[0m\u001b[0m_get_running_loop\u001b[0m\u001b[0;34m(\u001b[0m\u001b[0;34m)\u001b[0m \u001b[0;32mis\u001b[0m \u001b[0;32mnot\u001b[0m \u001b[0;32mNone\u001b[0m\u001b[0;34m:\u001b[0m\u001b[0;34m\u001b[0m\u001b[0;34m\u001b[0m\u001b[0m\n\u001b[1;32m    431\u001b[0m             raise RuntimeError(\n",
      "\u001b[0;31mRuntimeError\u001b[0m: This event loop is already running"
     ]
    },
    {
     "name": "stdout",
     "output_type": "stream",
     "text": [
      "Hello world! (<_MainThread(MainThread, started 140626472912704)>)\n",
      "Start....... (<_MainThread(MainThread, started 140626472912704)>)\n",
      "Hello world! (<_MainThread(MainThread, started 140626472912704)>)\n",
      "Start....... (<_MainThread(MainThread, started 140626472912704)>)\n",
      "Done........ (<_MainThread(MainThread, started 140626472912704)>)\n",
      "Hello again! (<_MainThread(MainThread, started 140626472912704)>)\n",
      "Done........ (<_MainThread(MainThread, started 140626472912704)>)\n",
      "Hello again! (<_MainThread(MainThread, started 140626472912704)>)\n"
     ]
    }
   ],
   "source": [
    "import threading\n",
    "# 引入异步IO包\n",
    "import asyncio\n",
    "\n",
    "# 使用协程\n",
    "@asyncio.coroutine\n",
    "def hello():\n",
    "    print('Hello world! (%s)' % threading.currentThread())\n",
    "    print('Start....... (%s)' % threading.currentThread())\n",
    "    yield from asyncio.sleep(3)\n",
    "    print('Done........ (%s)' % threading.currentThread())\n",
    "    print('Hello again! (%s)' % threading.currentThread())\n",
    "\n",
    "# 启动消息循环    \n",
    "loop = asyncio.get_event_loop()\n",
    "# 定义任务\n",
    "tasks = [\n",
    "    asyncio.ensure_future(hello()), asyncio.ensure_future(hello())\n",
    "        ]\n",
    "                                                            \n",
    "# asyncio使用wait等待task执行完毕\n",
    "loop.run_until_complete(asyncio.wait(tasks))\n",
    "loop.close()\n",
    "\n",
    "# 协程本质上是在单线程内部运行的, 它是代码的一种运行规则."
   ]
  },
  {
   "cell_type": "markdown",
   "metadata": {},
   "source": [
    "# B站教程\n",
    "1. 协程不是计算机中真实存在的, 是程序员认为创造, 也叫微线程, 单线程内用户态上下文切换"
   ]
  },
  {
   "cell_type": "markdown",
   "metadata": {},
   "source": [
    "- 实现协程方法\n",
    "    - greenlet, 早期模块\n",
    "    - yield生成器, 关键字, 伪造, 没什么意义?\n",
    "    - asyncio, Pyhton3.4之后\n",
    "    - async await, Python3.5之后__推荐__"
   ]
  },
  {
   "cell_type": "code",
   "execution_count": 6,
   "metadata": {},
   "outputs": [
    {
     "name": "stdout",
     "output_type": "stream",
     "text": [
      "11\n",
      "21\n",
      "12\n",
      "22\n"
     ]
    }
   ],
   "source": [
    "from greenlet import greenlet\n",
    "\n",
    "def func1():\n",
    "    print(11)\n",
    "    gr2.switch()\n",
    "    print(12)\n",
    "    gr2.switch()\n",
    "    \n",
    "def func2():\n",
    "    print(21)\n",
    "    gr1.switch()\n",
    "    print(22)\n",
    "    \n",
    "gr1 = greenlet(func1)\n",
    "gr2 = greenlet(func2)\n",
    "\n",
    "gr1.switch()  # start from func1"
   ]
  },
  {
   "cell_type": "markdown",
   "metadata": {},
   "source": [
    "## asyncio\n",
    "- python3.4之后"
   ]
  },
  {
   "cell_type": "code",
   "execution_count": 15,
   "metadata": {
    "scrolled": true
   },
   "outputs": [
    {
     "ename": "RuntimeError",
     "evalue": "This event loop is already running",
     "output_type": "error",
     "traceback": [
      "\u001b[0;31m---------------------------------------------------------------------------\u001b[0m",
      "\u001b[0;31mRuntimeError\u001b[0m                              Traceback (most recent call last)",
      "\u001b[0;32m<ipython-input-15-ef357e39f394>\u001b[0m in \u001b[0;36m<module>\u001b[0;34m\u001b[0m\n\u001b[1;32m     20\u001b[0m \u001b[0;34m\u001b[0m\u001b[0m\n\u001b[1;32m     21\u001b[0m \u001b[0mloop\u001b[0m \u001b[0;34m=\u001b[0m \u001b[0masyncio\u001b[0m\u001b[0;34m.\u001b[0m\u001b[0mget_event_loop\u001b[0m\u001b[0;34m(\u001b[0m\u001b[0;34m)\u001b[0m\u001b[0;34m\u001b[0m\u001b[0;34m\u001b[0m\u001b[0m\n\u001b[0;32m---> 22\u001b[0;31m \u001b[0mloop\u001b[0m\u001b[0;34m.\u001b[0m\u001b[0mrun_until_complete\u001b[0m\u001b[0;34m(\u001b[0m\u001b[0masyncio\u001b[0m\u001b[0;34m.\u001b[0m\u001b[0mwait\u001b[0m\u001b[0;34m(\u001b[0m\u001b[0mtasks\u001b[0m\u001b[0;34m)\u001b[0m\u001b[0;34m)\u001b[0m\u001b[0;34m\u001b[0m\u001b[0;34m\u001b[0m\u001b[0m\n\u001b[0m\u001b[1;32m     23\u001b[0m \u001b[0mloop\u001b[0m\u001b[0;34m.\u001b[0m\u001b[0mclose\u001b[0m\u001b[0;34m(\u001b[0m\u001b[0;34m)\u001b[0m\u001b[0;34m\u001b[0m\u001b[0;34m\u001b[0m\u001b[0m\n",
      "\u001b[0;32m~/anaconda3/lib/python3.6/asyncio/base_events.py\u001b[0m in \u001b[0;36mrun_until_complete\u001b[0;34m(self, future)\u001b[0m\n\u001b[1;32m    473\u001b[0m         \u001b[0mfuture\u001b[0m\u001b[0;34m.\u001b[0m\u001b[0madd_done_callback\u001b[0m\u001b[0;34m(\u001b[0m\u001b[0m_run_until_complete_cb\u001b[0m\u001b[0;34m)\u001b[0m\u001b[0;34m\u001b[0m\u001b[0;34m\u001b[0m\u001b[0m\n\u001b[1;32m    474\u001b[0m         \u001b[0;32mtry\u001b[0m\u001b[0;34m:\u001b[0m\u001b[0;34m\u001b[0m\u001b[0;34m\u001b[0m\u001b[0m\n\u001b[0;32m--> 475\u001b[0;31m             \u001b[0mself\u001b[0m\u001b[0;34m.\u001b[0m\u001b[0mrun_forever\u001b[0m\u001b[0;34m(\u001b[0m\u001b[0;34m)\u001b[0m\u001b[0;34m\u001b[0m\u001b[0;34m\u001b[0m\u001b[0m\n\u001b[0m\u001b[1;32m    476\u001b[0m         \u001b[0;32mexcept\u001b[0m\u001b[0;34m:\u001b[0m\u001b[0;34m\u001b[0m\u001b[0;34m\u001b[0m\u001b[0m\n\u001b[1;32m    477\u001b[0m             \u001b[0;32mif\u001b[0m \u001b[0mnew_task\u001b[0m \u001b[0;32mand\u001b[0m \u001b[0mfuture\u001b[0m\u001b[0;34m.\u001b[0m\u001b[0mdone\u001b[0m\u001b[0;34m(\u001b[0m\u001b[0;34m)\u001b[0m \u001b[0;32mand\u001b[0m \u001b[0;32mnot\u001b[0m \u001b[0mfuture\u001b[0m\u001b[0;34m.\u001b[0m\u001b[0mcancelled\u001b[0m\u001b[0;34m(\u001b[0m\u001b[0;34m)\u001b[0m\u001b[0;34m:\u001b[0m\u001b[0;34m\u001b[0m\u001b[0;34m\u001b[0m\u001b[0m\n",
      "\u001b[0;32m~/anaconda3/lib/python3.6/asyncio/base_events.py\u001b[0m in \u001b[0;36mrun_forever\u001b[0;34m(self)\u001b[0m\n\u001b[1;32m    427\u001b[0m         \u001b[0mself\u001b[0m\u001b[0;34m.\u001b[0m\u001b[0m_check_closed\u001b[0m\u001b[0;34m(\u001b[0m\u001b[0;34m)\u001b[0m\u001b[0;34m\u001b[0m\u001b[0;34m\u001b[0m\u001b[0m\n\u001b[1;32m    428\u001b[0m         \u001b[0;32mif\u001b[0m \u001b[0mself\u001b[0m\u001b[0;34m.\u001b[0m\u001b[0mis_running\u001b[0m\u001b[0;34m(\u001b[0m\u001b[0;34m)\u001b[0m\u001b[0;34m:\u001b[0m\u001b[0;34m\u001b[0m\u001b[0;34m\u001b[0m\u001b[0m\n\u001b[0;32m--> 429\u001b[0;31m             \u001b[0;32mraise\u001b[0m \u001b[0mRuntimeError\u001b[0m\u001b[0;34m(\u001b[0m\u001b[0;34m'This event loop is already running'\u001b[0m\u001b[0;34m)\u001b[0m\u001b[0;34m\u001b[0m\u001b[0;34m\u001b[0m\u001b[0m\n\u001b[0m\u001b[1;32m    430\u001b[0m         \u001b[0;32mif\u001b[0m \u001b[0mevents\u001b[0m\u001b[0;34m.\u001b[0m\u001b[0m_get_running_loop\u001b[0m\u001b[0;34m(\u001b[0m\u001b[0;34m)\u001b[0m \u001b[0;32mis\u001b[0m \u001b[0;32mnot\u001b[0m \u001b[0;32mNone\u001b[0m\u001b[0;34m:\u001b[0m\u001b[0;34m\u001b[0m\u001b[0;34m\u001b[0m\u001b[0m\n\u001b[1;32m    431\u001b[0m             raise RuntimeError(\n",
      "\u001b[0;31mRuntimeError\u001b[0m: This event loop is already running"
     ]
    },
    {
     "name": "stdout",
     "output_type": "stream",
     "text": [
      "11\n",
      "21\n",
      "12\n",
      "22\n"
     ]
    }
   ],
   "source": [
    "# 遇到IO阻塞自动切换\n",
    "import asyncio\n",
    "\n",
    "@asyncio.coroutine\n",
    "def func1():\n",
    "    print(11)\n",
    "    yield from asyncio.sleep(0.5)\n",
    "    print(12)\n",
    "\n",
    "@asyncio.coroutine\n",
    "def func2():\n",
    "    print(21)\n",
    "    yield from asyncio.sleep(.5)\n",
    "    print(22)\n",
    "     \n",
    "        \n",
    "tasks = [\n",
    "    asyncio.ensure_future(func1()),\n",
    "    asyncio.ensure_future(func2())\n",
    "]\n",
    "                                                            \n",
    "loop = asyncio.get_event_loop()\n",
    "loop.run_until_complete(asyncio.wait(tasks))\n",
    "loop.close()"
   ]
  },
  {
   "cell_type": "markdown",
   "metadata": {},
   "source": [
    "## async & await 关键字\n",
    "- python3.5之后"
   ]
  },
  {
   "cell_type": "markdown",
   "metadata": {},
   "source": [
    "### 协程的意义\n",
    "- 在一个线程中遇到IO等待,线程不会傻等, 利用空闲时间处理其他任务\n",
    "- 顺序执行称之为'同步', 穿插执行称为'异步'."
   ]
  },
  {
   "cell_type": "code",
   "execution_count": 31,
   "metadata": {},
   "outputs": [],
   "source": [
    "# 案例:网络IO\n",
    "\n",
    "# import requests\n",
    "\n",
    "# def download_image(url):\n",
    "#     print(\"开始下载\", url)\n",
    "#     # 发送网络请求, 下载图片\n",
    "#     response = requests.get(url)\n",
    "#     print(\"搞定\")\n",
    "#     # 图片保存到本地\n",
    "#     file_name = url.rsplit('_')[36:]\n",
    "#     with open(file_name, mode='wb') as fb:\n",
    "#         fb.write(response.content)\n",
    "   \n",
    "# if __name__ == '__main__':\n",
    "#     url_list = [\n",
    "#         'http://wallpaperswide.com/download/silver_satin-wallpaper-1920x1080.jpg',\n",
    "#         'http://wallpaperswide.com/download/sexy_brunette_3-wallpaper-1920x1080.jpg',\n",
    "#         'http://wallpaperswide.com/download/red_lipstick-wallpaper-1920x1080.jpg',\n",
    "#         'http://wallpaperswide.com/download/beautiful_girl_retro_artwork-wallpaper-1920x1080.jpg',\n",
    "#         'http://wallpaperswide.com/download/kim_ha_yul-wallpaper-1920x1080.jpg'\n",
    "#     ]\n",
    "\n",
    "\n",
    "#     for item in url_list:\n",
    "#         download_image(item)\n"
   ]
  },
  {
   "cell_type": "markdown",
   "metadata": {},
   "source": [
    "## 异步编程\n",
    "- 事件循环\n",
    "    - task\n",
    "        - task_list= \\[asyncio.create_task(func()), \\]\n",
    "        - await asyncio.wait(task)\n",
    "    - asyncio.Future"
   ]
  },
  {
   "cell_type": "markdown",
   "metadata": {},
   "source": [
    "### concurrent.futures.Future对象\n",
    "- 进程池/线程池实现异步操作时用到的对象\n",
    "- 两个Future可能会需要交叉使用"
   ]
  },
  {
   "cell_type": "markdown",
   "metadata": {},
   "source": [
    "### 异步迭代器"
   ]
  },
  {
   "cell_type": "code",
   "execution_count": null,
   "metadata": {},
   "outputs": [],
   "source": []
  },
  {
   "cell_type": "code",
   "execution_count": null,
   "metadata": {},
   "outputs": [],
   "source": []
  },
  {
   "cell_type": "code",
   "execution_count": null,
   "metadata": {},
   "outputs": [],
   "source": []
  },
  {
   "cell_type": "code",
   "execution_count": null,
   "metadata": {},
   "outputs": [],
   "source": []
  },
  {
   "cell_type": "code",
   "execution_count": null,
   "metadata": {},
   "outputs": [],
   "source": []
  },
  {
   "cell_type": "markdown",
   "metadata": {},
   "source": [
    "# async and await\n",
    "- 为了更好的表示异步IO\n",
    "- 让协程代码更简洁\n",
    "- 使用上，可以进行简单的替换\n",
    "    - 用async替换@asyncio.coroutine\n",
    "    - await 替换 yield from\n",
    "    "
   ]
  },
  {
   "cell_type": "markdown",
   "metadata": {},
   "source": [
    "# aiohttp\n",
    "- asyncio实现单线程的并发IO，在客户端用处不大\n",
    "- 在服务器端可以asyncio+coroutine配合， 因为http是IO操作\n",
    "- asyncio实现了tcp, udp, ssl等协议\n",
    "- aiohttp是基于asyncio实现的http框架\n",
    "- pip install aiohttp"
   ]
  },
  {
   "cell_type": "code",
   "execution_count": null,
   "metadata": {},
   "outputs": [],
   "source": [
    "# aiohttp案例"
   ]
  },
  {
   "cell_type": "markdown",
   "metadata": {
    "collapsed": true
   },
   "source": [
    "# concurrent.futures\n",
    "- python3新增的库\n",
    "- 类似其他语言的线程池的概念\n",
    "- 利用multiprocession实现真正的并行计算\n",
    "- 核心原理：以子进程的形式， 并行运算多个python解释器\n",
    "- concurrent.futures.Executor\n",
    "    - ThreadPoolExecutor\n",
    "    - ProcessPoolExecutor\n",
    "    - 执行的时候需要自行选择\n",
    "- submit(fn, args, kwargs)\n",
    "    - fn 异步执行的参数\n",
    "    - args, kwargs\n",
    "    \n",
    "## Future\n",
    "    - "
   ]
  },
  {
   "cell_type": "markdown",
   "metadata": {},
   "source": [
    "## current map\n",
    "- map(fn, iterable, timeout=None)\n",
    "    - 函数需要异步执行"
   ]
  },
  {
   "cell_type": "code",
   "execution_count": null,
   "metadata": {},
   "outputs": [],
   "source": []
  },
  {
   "cell_type": "code",
   "execution_count": null,
   "metadata": {},
   "outputs": [],
   "source": []
  },
  {
   "cell_type": "code",
   "execution_count": null,
   "metadata": {},
   "outputs": [],
   "source": []
  },
  {
   "cell_type": "code",
   "execution_count": null,
   "metadata": {},
   "outputs": [],
   "source": []
  }
 ],
 "metadata": {
  "kernelspec": {
   "display_name": "Python 3",
   "language": "python",
   "name": "python3"
  },
  "language_info": {
   "codemirror_mode": {
    "name": "ipython",
    "version": 3
   },
   "file_extension": ".py",
   "mimetype": "text/x-python",
   "name": "python",
   "nbconvert_exporter": "python",
   "pygments_lexer": "ipython3",
   "version": "3.6.12"
  }
 },
 "nbformat": 4,
 "nbformat_minor": 2
}
