{
 "cells": [
  {
   "cell_type": "markdown",
   "metadata": {
    "collapsed": true
   },
   "source": [
    "# 文件\n",
    "- 长久保存信息的一种数据信息集合\n",
    "- 常用操作\n",
    "    - 打开关闭 (一旦打开, 需要关闭)\n",
    "    - 读写内容\n",
    "    - 查找\n",
    "# open函数\n",
    "- open函数负责打开文件, 带参数\n",
    "- 第一个参数:文件的路径和名称\n",
    "- mode: 表明文件用什么模式打开\n",
    "    - r: 　read 只读\n",
    "    - w: 　write 写入, 会覆盖原有内容\n",
    "    - x:　 创建方式打开, 如果已经存在, 则报错\n",
    "    - a:　 append模式, 以追加的方式对文件内容进行增加\n",
    "    - b:　 binary 二进制方式写入\n",
    "    - t:　 text 以文本方式打开\n",
    "    - +:　 可读写"
   ]
  },
  {
   "cell_type": "code",
   "execution_count": 2,
   "metadata": {
    "collapsed": true
   },
   "outputs": [],
   "source": [
    "# 打开文件, 用写的方式\n",
    "# r表示后面字符串内容不需要转义\n",
    "# f称为文件句柄\n",
    "f = open(\"test01.txt\", 'w')\n",
    "# 文件打开后需要关闭\n",
    "f.close()\n",
    "\n",
    "# 此案例说明, 以写方式打开文件, 默认是如果没有文件就创建"
   ]
  },
  {
   "cell_type": "markdown",
   "metadata": {},
   "source": [
    "# with语句\n",
    "- with语句使用的是技术是一种称为上下文管理协议的技术\n",
    "- 自动被判断文件的作用域, 自动关闭不在使用的打开的文件句柄"
   ]
  },
  {
   "cell_type": "code",
   "execution_count": 3,
   "metadata": {
    "collapsed": true
   },
   "outputs": [],
   "source": [
    "# with语句案例\n",
    "\n",
    "with open(r\"test01.txt\", 'a') as f:\n",
    "    f.write('西北玄天一片云\\n乌鸦落在凤凰群\\n满车尽是英雄汉\\n哪是君来哪是臣\\n')"
   ]
  },
  {
   "cell_type": "code",
   "execution_count": 4,
   "metadata": {
    "scrolled": false
   },
   "outputs": [
    {
     "name": "stdout",
     "output_type": "stream",
     "text": [
      "西北玄天一片云\n",
      "\n",
      "乌鸦落在凤凰群\n",
      "\n",
      "满车尽是英雄汉\n",
      "\n",
      "哪是君来哪是臣\n",
      "\n",
      "\n"
     ]
    }
   ],
   "source": [
    "with open(r\"test01.txt\", 'r') as f:\n",
    "    print(f.readline())\n",
    "    print(f.readline())\n",
    "    print(f.readline())\n",
    "    print(f.readline())\n",
    "    print(f.readline())"
   ]
  },
  {
   "cell_type": "code",
   "execution_count": 5,
   "metadata": {
    "scrolled": true
   },
   "outputs": [
    {
     "name": "stdout",
     "output_type": "stream",
     "text": [
      "西北玄天一片云\n",
      "\n",
      "乌鸦落在凤凰群\n",
      "\n",
      "满车尽是英雄汉\n",
      "\n",
      "哪是君来哪是臣\n",
      "\n"
     ]
    }
   ],
   "source": [
    "# with 案例\n",
    "with open(r\"test01.txt\", 'r') as f:\n",
    "    \n",
    "    # 按行读取内容\n",
    "    strline = f.readline()\n",
    "    \n",
    "    # 此结构保证能够完整读取文件直到结束\n",
    "    while strline:\n",
    "        print(strline)    \n",
    "        strline = f.readline()\n",
    "\n",
    "    "
   ]
  },
  {
   "cell_type": "code",
   "execution_count": 6,
   "metadata": {},
   "outputs": [
    {
     "name": "stdout",
     "output_type": "stream",
     "text": [
      "西北玄天一片云\n",
      "\n",
      "乌鸦落在凤凰群\n",
      "\n",
      "满车尽是英雄汉\n",
      "\n",
      "哪是君来哪是臣\n",
      "\n"
     ]
    }
   ],
   "source": [
    "with open(r\"test01.txt\", 'r') as f:\n",
    "    strlines = f.readlines()  \n",
    "    for line in strlines:\n",
    "        print(line)\n"
   ]
  },
  {
   "cell_type": "code",
   "execution_count": 7,
   "metadata": {},
   "outputs": [
    {
     "name": "stdout",
     "output_type": "stream",
     "text": [
      "西北玄天一片云\n",
      "\n",
      "乌鸦落在凤凰群\n",
      "\n",
      "满车尽是英雄汉\n",
      "\n",
      "哪是君来哪是臣\n",
      "\n"
     ]
    }
   ],
   "source": [
    "with open(r\"test01.txt\", 'r') as f:\n",
    "    l = list(f)  \n",
    "    for line in l:\n",
    "        print(line)"
   ]
  },
  {
   "cell_type": "code",
   "execution_count": 8,
   "metadata": {
    "collapsed": true
   },
   "outputs": [],
   "source": [
    "# read是安字符读取文件内容\n",
    "# 允许时输入参数决定读取几个字符, 如果没有指定, 从当前位置读取到文件结尾\n",
    "# 否则, 从当前位置读取指定个数的字符\n",
    "\n"
   ]
  },
  {
   "cell_type": "code",
   "execution_count": 9,
   "metadata": {},
   "outputs": [
    {
     "name": "stdout",
     "output_type": "stream",
     "text": [
      "10\n",
      "西北玄天一片云\n",
      "乌鸦\n"
     ]
    }
   ],
   "source": [
    "with open(r\"test01.txt\", 'r') as f:\n",
    "    strChar = f.read(10)\n",
    "    print(len(strChar))\n",
    "    print(strChar)"
   ]
  },
  {
   "cell_type": "code",
   "execution_count": 10,
   "metadata": {},
   "outputs": [
    {
     "name": "stdout",
     "output_type": "stream",
     "text": [
      "西北玄天一片云\n",
      "乌鸦落在凤凰群\n",
      "满车尽是英雄汉\n",
      "哪是君来哪是臣\n"
     ]
    }
   ],
   "source": [
    "with open(r\"test01.txt\", 'r') as f:\n",
    "    strChar = f.read(1)\n",
    "    while strChar:\n",
    "        print(strChar, end='')\n",
    "        strChar = f.read(1)\n",
    "# from the result, 可以明显看出换行符的存在\n",
    "# help(f.read)"
   ]
  },
  {
   "cell_type": "markdown",
   "metadata": {},
   "source": [
    "# seek (offset, from)\n",
    "- 移动文件的读取位置, 也叫读取指针\n",
    "- from的取值范围\n",
    "    - 0: 从文件头开始偏移\n",
    "    - 1: 从文件当前位置开始偏移\n",
    "    - 2: 从文件末尾开始偏移\n",
    "- 移动的单位是字节(byte)\n",
    "- 一个汉子有若干个字节组成\n",
    "- 返回文件只针对当前位置"
   ]
  },
  {
   "cell_type": "code",
   "execution_count": 47,
   "metadata": {
    "scrolled": true
   },
   "outputs": [
    {
     "name": "stdout",
     "output_type": "stream",
     "text": [
      "玄天一片云\n",
      "\n",
      "Help on built-in function seek:\n",
      "\n",
      "seek(cookie, whence=0, /) method of _io.TextIOWrapper instance\n",
      "    Change stream position.\n",
      "    \n",
      "    Change the stream position to the given byte offset. The offset is\n",
      "    interpreted relative to the position indicated by whence.  Values\n",
      "    for whence are:\n",
      "    \n",
      "    * 0 -- start of stream (the default); offset should be zero or positive\n",
      "    * 1 -- current stream position; offset may be negative\n",
      "    * 2 -- end of stream; offset is usually negative\n",
      "    \n",
      "    Return the new absolute position.\n",
      "\n"
     ]
    }
   ],
   "source": [
    "# seek案例\n",
    "# 打开文件后, 从第五个字节开始读\n",
    "\n",
    "# 打开之后, 默认指针位置在0\n",
    "with open(r\"test01.txt\", 'r') as f:\n",
    "    # \n",
    "    f.seek(6, 0)\n",
    "    s = f.read(6)\n",
    "    print(s)\n",
    "\n",
    "help(f.seek)"
   ]
  },
  {
   "cell_type": "code",
   "execution_count": 11,
   "metadata": {},
   "outputs": [
    {
     "name": "stdout",
     "output_type": "stream",
     "text": [
      "西北玄天一片云\n",
      "乌鸦落在凤凰群\n",
      "满车尽是英雄汉\n",
      "哪是君来哪是臣\n"
     ]
    }
   ],
   "source": [
    "# 关于读取文件的练习\n",
    "# 打开文件, 三个字符一组读出内容, 然后显示在屏幕上\n",
    "# 每读取一次, 休息一秒钟\n",
    "\n",
    "import time\n",
    "with open(r\"test01.txt\", 'r') as f:\n",
    "    # read参数的单位是字符, 一个汉字是一个字符\n",
    "    s = f.read(3)\n",
    "    while s:\n",
    "        time.sleep(0.5)\n",
    "        print(s,end='')\n",
    "        s = f.read(3)"
   ]
  },
  {
   "cell_type": "code",
   "execution_count": 12,
   "metadata": {},
   "outputs": [
    {
     "name": "stdout",
     "output_type": "stream",
     "text": [
      "9\n",
      "西北玄\n",
      "18\n",
      "天一片\n",
      "25\n",
      "云\n",
      "乌\n",
      "34\n",
      "鸦落在\n",
      "43\n",
      "凤凰群\n",
      "50\n",
      "\n",
      "满车\n",
      "59\n",
      "尽是英\n",
      "66\n",
      "雄汉\n",
      "\n",
      "75\n",
      "哪是君\n",
      "84\n",
      "来哪是\n",
      "88\n",
      "臣\n",
      "\n"
     ]
    }
   ],
   "source": [
    "# tell函数, 显示文件读写指针的当前位置\n",
    "with open(r\"test01.txt\", 'r') as f:\n",
    "    s = f.read(3)\n",
    "    pos = f.tell()\n",
    "    \n",
    "    while s:\n",
    "        print(pos)\n",
    "        print(s,end='')\n",
    "        print()\n",
    "        s = f.read(3)\n",
    "        pos = f.tell()\n",
    "# 以上结果说明tell返回数字的单位是byte\n",
    "# read是字符, 不是byte"
   ]
  },
  {
   "cell_type": "markdown",
   "metadata": {},
   "source": [
    "# 文件的写操作\n",
    "- write(str)\n",
    "- writelines(str)\n",
    "- 区别:\n",
    "    - write参数是字符串only\n",
    "    - writelines参数可以是字符串或者字符序列"
   ]
  },
  {
   "cell_type": "code",
   "execution_count": 6,
   "metadata": {
    "collapsed": true
   },
   "outputs": [],
   "source": [
    "# write案例\n",
    "# 追加\n",
    "with open(r\"test01.txt\", 'a') as f:\n",
    "    f.write('生活不止眼前的苟且,\\n还有远方的苦难.\\n')"
   ]
  },
  {
   "cell_type": "code",
   "execution_count": 11,
   "metadata": {},
   "outputs": [
    {
     "name": "stdout",
     "output_type": "stream",
     "text": [
      "Help on built-in function writelines:\n",
      "\n",
      "writelines(lines, /) method of _io.TextIOWrapper instance\n",
      "\n"
     ]
    }
   ],
   "source": [
    "with open(r\"test01.txt\", 'a') as f:\n",
    "    f.writelines(['生活不止眼前的苟且,', '还有远方的苦难.'])\n",
    "# 然而这里并不会换行, 还是要记得手动加标记.\n",
    "help(f.writelines)"
   ]
  },
  {
   "cell_type": "markdown",
   "metadata": {
    "collapsed": true
   },
   "source": [
    "# 持久化 - pickle\n",
    "- 序列化(持久化,落地): 把程序运行中的信息保存在磁盘上\n",
    "- 反序列化\n",
    "- pickle: Python提供的序列化模块\n",
    "- pickle.dump: 序列化\n",
    "- pickle.load: 反序列化"
   ]
  },
  {
   "cell_type": "code",
   "execution_count": 2,
   "metadata": {
    "collapsed": true
   },
   "outputs": [],
   "source": [
    "# 序列化案例\n",
    "import pickle\n",
    "age = 19\n",
    "with open(r\"test01.txt\", 'wb') as f:\n",
    "    pickle.dump(age, f)\n"
   ]
  },
  {
   "cell_type": "code",
   "execution_count": 4,
   "metadata": {},
   "outputs": [
    {
     "name": "stdout",
     "output_type": "stream",
     "text": [
      "19\n"
     ]
    }
   ],
   "source": [
    "with open(r\"test01.txt\", 'rb') as f:\n",
    "    age = pickle.load(f)\n",
    "    print(age)"
   ]
  },
  {
   "cell_type": "code",
   "execution_count": 5,
   "metadata": {},
   "outputs": [
    {
     "name": "stdout",
     "output_type": "stream",
     "text": [
      "[19, 'sunyujun', 'I love liuyihan', [185, 76]]\n"
     ]
    }
   ],
   "source": [
    "# 序列案例, 序列可以结构化存储数据. 而write则不行, 下一个cell中可以看出这点\n",
    "a = [19, 'sunyujun', 'I love liuyihan', [185, 76]]\n",
    "\n",
    "with open(r\"test01.txt\", 'wb') as f:\n",
    "    pickle.dump(a, f)\n",
    "    \n",
    "with open(r\"test01.txt\", 'rb') as f:\n",
    "    a = pickle.load(f)\n",
    "    print(a)"
   ]
  },
  {
   "cell_type": "code",
   "execution_count": 7,
   "metadata": {},
   "outputs": [
    {
     "ename": "TypeError",
     "evalue": "write() argument must be str, not int",
     "output_type": "error",
     "traceback": [
      "\u001b[0;31m---------------------------------------------------------------------------\u001b[0m",
      "\u001b[0;31mTypeError\u001b[0m                                 Traceback (most recent call last)",
      "\u001b[0;32m<ipython-input-7-ccfc2f9fbd93>\u001b[0m in \u001b[0;36m<module>\u001b[0;34m()\u001b[0m\n\u001b[1;32m      2\u001b[0m \u001b[0;34m\u001b[0m\u001b[0m\n\u001b[1;32m      3\u001b[0m \u001b[0;32mwith\u001b[0m \u001b[0mopen\u001b[0m\u001b[0;34m(\u001b[0m\u001b[0;34mr\"test01.txt\"\u001b[0m\u001b[0;34m,\u001b[0m \u001b[0;34m'w'\u001b[0m\u001b[0;34m)\u001b[0m \u001b[0;32mas\u001b[0m \u001b[0mf\u001b[0m\u001b[0;34m:\u001b[0m\u001b[0;34m\u001b[0m\u001b[0m\n\u001b[0;32m----> 4\u001b[0;31m     \u001b[0mf\u001b[0m\u001b[0;34m.\u001b[0m\u001b[0mwritelines\u001b[0m\u001b[0;34m(\u001b[0m\u001b[0ma\u001b[0m\u001b[0;34m)\u001b[0m\u001b[0;34m\u001b[0m\u001b[0m\n\u001b[0m\u001b[1;32m      5\u001b[0m \u001b[0;34m\u001b[0m\u001b[0m\n\u001b[1;32m      6\u001b[0m \u001b[0;32mwith\u001b[0m \u001b[0mopen\u001b[0m\u001b[0;34m(\u001b[0m\u001b[0;34mr\"test01.txt\"\u001b[0m\u001b[0;34m,\u001b[0m \u001b[0;34m'r'\u001b[0m\u001b[0;34m)\u001b[0m \u001b[0;32mas\u001b[0m \u001b[0mf\u001b[0m\u001b[0;34m:\u001b[0m\u001b[0;34m\u001b[0m\u001b[0m\n",
      "\u001b[0;31mTypeError\u001b[0m: write() argument must be str, not int"
     ]
    }
   ],
   "source": [
    "a = [19, 'sunyujun', 'I love liuyihan', [185, 76]]\n",
    "\n",
    "with open(r\"test01.txt\", 'w') as f:\n",
    "    f.writelines(a)\n",
    "    \n",
    "with open(r\"test01.txt\", 'r') as f:\n",
    "    a = f.read()\n",
    "    print(a)"
   ]
  },
  {
   "cell_type": "markdown",
   "metadata": {},
   "source": [
    "# 持久化 - shelve (数据库)\n",
    "- 持久化工具\n",
    "- 类似字典, 对kv键值对保存数据, 存取方式跟字典类似\n",
    "- open, close"
   ]
  },
  {
   "cell_type": "code",
   "execution_count": 9,
   "metadata": {
    "collapsed": true
   },
   "outputs": [],
   "source": [
    "# 使用shelve创建文件并使用\n",
    "import shelve\n",
    "# 打开文件\n",
    "shv = shelve.open(r'shv.db')\n",
    "shv['one'] = 1\n",
    "shv['two'] = 2\n",
    "shv['love'] = 'yihan'\n",
    "\n",
    "shv.close()\n",
    "\n",
    "\n",
    "# 以上案例发现:: shelve创建的不仅仅是一个shv.db文件还包括其他文件, 实际上是一个数据库\n",
    "    "
   ]
  },
  {
   "cell_type": "code",
   "execution_count": 15,
   "metadata": {},
   "outputs": [
    {
     "name": "stdout",
     "output_type": "stream",
     "text": [
      "<bound method Mapping.items of <shelve.DbfilenameShelf object at 0x7f725f5cb630>>\n",
      "one , 1\n",
      "two , 2\n",
      "love , yihan\n"
     ]
    }
   ],
   "source": [
    "# shelve读取案例\n",
    "shv = shelve.open(r'shv.db')\n",
    "\n",
    "try:\n",
    "    print(shv.items)\n",
    "    for k,v in shv.items():\n",
    "        print(k, ',', v)\n",
    "finally:  # 防止报错导致无法关闭\n",
    "    shv.close()\n"
   ]
  },
  {
   "cell_type": "markdown",
   "metadata": {},
   "source": [
    "# shelve\n",
    "- 不支持多个应用并行写入\n",
    "    - 为了解决这个问题, open的时候可以使用flag = r\n",
    "- 写回问题\n",
    "    - shelve\n",
    "    \n",
    "    - 解决方法: 强制写回: writeback = True"
   ]
  },
  {
   "cell_type": "code",
   "execution_count": 14,
   "metadata": {},
   "outputs": [
    {
     "name": "stdout",
     "output_type": "stream",
     "text": [
      "{'eins': 1, 'zwei': 2, 'drei': 3}\n"
     ]
    }
   ],
   "source": [
    "# shelve之只读打开\n",
    "import shelve\n",
    "\n",
    "shv = shelve.open(r'shv.db', flag='r')\n",
    "\n",
    "try:\n",
    "    k1 = shv['one']\n",
    "    print(k1)\n",
    "finally:\n",
    "    shv.close()\n"
   ]
  },
  {
   "cell_type": "code",
   "execution_count": 15,
   "metadata": {},
   "outputs": [
    {
     "name": "stdout",
     "output_type": "stream",
     "text": [
      "{'eins': 1, 'zwei': 2, 'drei': 3}\n"
     ]
    }
   ],
   "source": [
    "import shelve\n",
    "\n",
    "# a = [19, 'sunyujun', 'I love liuyihan', [185, 76]]\n",
    "\n",
    "shv = shelve.open(r'shv.db')\n",
    "\n",
    "try:\n",
    "    shv['one'] = {'eins':1, 'zwei':2, 'drei':3}\n",
    "    shv['name'] = 'yujun'\n",
    "finally:\n",
    "    shv.close()\n",
    "\n",
    "shv = shelve.open(r'shv.db')\n",
    "try:\n",
    "    k1 = shv['one']\n",
    "    print(k1)\n",
    "finally:\n",
    "    shv.close()"
   ]
  },
  {
   "cell_type": "code",
   "execution_count": 16,
   "metadata": {
    "scrolled": true
   },
   "outputs": [
    {
     "name": "stdout",
     "output_type": "stream",
     "text": [
      "{'eins': 1, 'zwei': 2, 'drei': 3}\n",
      "{'eins': 1, 'zwei': 2, 'drei': 3}\n"
     ]
    }
   ],
   "source": [
    "# shelve忘记写回, 需要使用强制写回\n",
    "shv = shelve.open(r'shv.db')\n",
    "try:\n",
    "    k1 = shv['one']\n",
    "    print(k1)\n",
    "    # 此时一旦shelve关闭, 则下面这句还是在内存中, 没有写入文件.\n",
    "    k1[\"eins\"] = 100\n",
    "finally:\n",
    "    shv.close()\n",
    "    \n",
    "shv = shelve.open(r'shv.db')\n",
    "try:\n",
    "    k1 = shv['one']\n",
    "    print(k1)\n",
    "    # 可以看见, 赋值没有生效\n",
    "finally:\n",
    "    shv.close()"
   ]
  },
  {
   "cell_type": "code",
   "execution_count": 17,
   "metadata": {},
   "outputs": [
    {
     "name": "stdout",
     "output_type": "stream",
     "text": [
      "{'eins': 1, 'zwei': 2, 'drei': 3}\n",
      "{'eins': 100, 'zwei': 2, 'drei': 3}\n"
     ]
    }
   ],
   "source": [
    "# 此时, shelve忘记写回, 需要使用强制写回\n",
    "shv = shelve.open(r'shv.db', writeback=True)\n",
    "try:\n",
    "    k1 = shv['one']\n",
    "    print(k1)\n",
    "    # 此时由于打开时设定的参数, 下面这句会被强制写入文件, 而不会滞留在内存中.\n",
    "    k1[\"eins\"] = 100\n",
    "finally:\n",
    "    shv.close()\n",
    "    \n",
    "shv = shelve.open(r'shv.db')\n",
    "try:\n",
    "    k1 = shv['one']\n",
    "    print(k1)\n",
    "finally:\n",
    "    shv.close()"
   ]
  },
  {
   "cell_type": "code",
   "execution_count": 18,
   "metadata": {},
   "outputs": [
    {
     "name": "stdout",
     "output_type": "stream",
     "text": [
      "{'eins': 100, 'zwei': 2, 'drei': 3}\n",
      "{'eins': 1, 'zwei': 2, 'drei': 3}\n"
     ]
    }
   ],
   "source": [
    "# shelve使用with管理上下文环境\n",
    "\n",
    "with shelve.open(r'shv.db', writeback=True) as shv:\n",
    "    print(shv['one'])\n",
    "    k1 = shv['one']\n",
    "    k1['eins'] = 1    \n",
    "    \n",
    "with shelve.open(r'shv.db') as shv:\n",
    "    print(shv['one'])"
   ]
  },
  {
   "cell_type": "markdown",
   "metadata": {},
   "source": [
    "# LOG \n",
    "- 见项目根目录/CookBook_and_code-master/10-LOG笔记"
   ]
  },
  {
   "cell_type": "code",
   "execution_count": null,
   "metadata": {
    "collapsed": true
   },
   "outputs": [],
   "source": []
  },
  {
   "cell_type": "code",
   "execution_count": null,
   "metadata": {
    "collapsed": true
   },
   "outputs": [],
   "source": []
  },
  {
   "cell_type": "code",
   "execution_count": null,
   "metadata": {
    "collapsed": true
   },
   "outputs": [],
   "source": []
  },
  {
   "cell_type": "code",
   "execution_count": null,
   "metadata": {
    "collapsed": true
   },
   "outputs": [],
   "source": []
  }
 ],
 "metadata": {
  "kernelspec": {
   "display_name": "Python 3",
   "language": "python",
   "name": "python3"
  },
  "language_info": {
   "codemirror_mode": {
    "name": "ipython",
    "version": 3
   },
   "file_extension": ".py",
   "mimetype": "text/x-python",
   "name": "python",
   "nbconvert_exporter": "python",
   "pygments_lexer": "ipython3",
   "version": "3.6.12"
  }
 },
 "nbformat": 4,
 "nbformat_minor": 2
}
