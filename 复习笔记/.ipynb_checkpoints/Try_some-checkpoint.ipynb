{
 "cells": [
  {
   "cell_type": "code",
   "execution_count": 1,
   "metadata": {},
   "outputs": [
    {
     "name": "stdout",
     "output_type": "stream",
     "text": [
      "Help on class groupby in module itertools:\n",
      "\n",
      "class groupby(builtins.object)\n",
      " |  groupby(iterable, key=None) -> make an iterator that returns consecutive\n",
      " |  keys and groups from the iterable.  If the key function is not specified or\n",
      " |  is None, the element itself is used for grouping.\n",
      " |  \n",
      " |  Methods defined here:\n",
      " |  \n",
      " |  __getattribute__(self, name, /)\n",
      " |      Return getattr(self, name).\n",
      " |  \n",
      " |  __iter__(self, /)\n",
      " |      Implement iter(self).\n",
      " |  \n",
      " |  __new__(*args, **kwargs) from builtins.type\n",
      " |      Create and return a new object.  See help(type) for accurate signature.\n",
      " |  \n",
      " |  __next__(self, /)\n",
      " |      Implement next(self).\n",
      " |  \n",
      " |  __reduce__(...)\n",
      " |      Return state information for pickling.\n",
      " |  \n",
      " |  __setstate__(...)\n",
      " |      Set state information for unpickling.\n",
      "\n"
     ]
    }
   ],
   "source": [
    "# groupby\n",
    "from itertools import groupby\n",
    "\n",
    "help(groupby)"
   ]
  },
  {
   "cell_type": "code",
   "execution_count": 5,
   "metadata": {},
   "outputs": [
    {
     "name": "stdout",
     "output_type": "stream",
     "text": [
      "[(1, 15), (1, 17), (1, 13), (1, 14), (2, 29), (2, 22), (2, 23), (2, 24), (3, 31), (3, 32), (3, 36), (3, 34), (4, 41), (4, 42), (4, 43), (4, 46)]\n",
      "**************************************************\n",
      "1 [(1, 13), (1, 14), (1, 15), (1, 17)]\n",
      "2 [(2, 22), (2, 23), (2, 24), (2, 29)]\n",
      "3 [(3, 31), (3, 32), (3, 34), (3, 36)]\n",
      "4 [(4, 41), (4, 42), (4, 43), (4, 46)]\n"
     ]
    }
   ],
   "source": [
    "from itertools import groupby\n",
    "\n",
    "x = [1,1,1,1,2,2,2,2,3,3,3,3,4,4,4,4]\n",
    "y = [15,17,13,14,29,22,23,24,31,32,36,34,41,42,43,46]\n",
    "\n",
    "print(list(zip(x,y)))\n",
    "print('*'*50)\n",
    "\n",
    "for x, y in groupby(sorted(zip(x, y)), key=lambda _: _[0]):\n",
    "    print(x, list(y))"
   ]
  },
  {
   "cell_type": "code",
   "execution_count": 7,
   "metadata": {},
   "outputs": [
    {
     "name": "stdout",
     "output_type": "stream",
     "text": [
      "(1, 11, 111, 1111) (2, 22, 222, 2222)\n"
     ]
    }
   ],
   "source": [
    "l1 = [1,2]\n",
    "l2 = [11,22]\n",
    "l3 = [111,222]\n",
    "l4 = [1111,2222]\n",
    "print(*zip(l1,l2,l3,l4))"
   ]
  },
  {
   "cell_type": "code",
   "execution_count": null,
   "metadata": {},
   "outputs": [],
   "source": []
  },
  {
   "cell_type": "code",
   "execution_count": null,
   "metadata": {},
   "outputs": [],
   "source": []
  },
  {
   "cell_type": "code",
   "execution_count": null,
   "metadata": {},
   "outputs": [],
   "source": []
  },
  {
   "cell_type": "code",
   "execution_count": null,
   "metadata": {},
   "outputs": [],
   "source": []
  },
  {
   "cell_type": "code",
   "execution_count": null,
   "metadata": {},
   "outputs": [],
   "source": []
  },
  {
   "cell_type": "code",
   "execution_count": null,
   "metadata": {},
   "outputs": [],
   "source": []
  },
  {
   "cell_type": "code",
   "execution_count": null,
   "metadata": {},
   "outputs": [],
   "source": []
  },
  {
   "cell_type": "code",
   "execution_count": null,
   "metadata": {},
   "outputs": [],
   "source": []
  },
  {
   "cell_type": "code",
   "execution_count": null,
   "metadata": {},
   "outputs": [],
   "source": []
  },
  {
   "cell_type": "code",
   "execution_count": null,
   "metadata": {},
   "outputs": [],
   "source": []
  }
 ],
 "metadata": {
  "kernelspec": {
   "display_name": "Python 3",
   "language": "python",
   "name": "python3"
  },
  "language_info": {
   "codemirror_mode": {
    "name": "ipython",
    "version": 3
   },
   "file_extension": ".py",
   "mimetype": "text/x-python",
   "name": "python",
   "nbconvert_exporter": "python",
   "pygments_lexer": "ipython3",
   "version": "3.6.12"
  }
 },
 "nbformat": 4,
 "nbformat_minor": 4
}
