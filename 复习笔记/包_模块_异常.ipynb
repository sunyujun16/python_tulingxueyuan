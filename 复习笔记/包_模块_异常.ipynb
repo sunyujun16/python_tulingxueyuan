{
 "cells": [
  {
   "cell_type": "markdown",
   "metadata": {},
   "source": [
    "# 模块\n",
    "\n",
    "- 一个模块就是一个包含Python代码的文件, 后缀名是py, 模块就是个Python文件.\n",
    "\n",
    "- 为什么要用模块\n",
    "    - 程序太大，编写维护比较困难，需要拆分。\n",
    "    - 模块可以增加代码重复利用的方式。\n",
    "    - 当做命名空间使用，避免命名冲突。\n",
    "\n",
    "- 定义模块\n",
    "    - 模块就是个普通文件\n",
    "    - 不过根据模块的规范，最好在模块中编写以下内容：\n",
    "        - 函数（单一功能）\n",
    "        - 类\n",
    "        - 测试代码\n",
    "\n",
    "- 如何使用模块\n",
    "    - 直接导入， import 模块名\n",
    "    - importlib\n",
    "    - import x as y.\n",
    "    \n",
    "- if __name__ == \"__main__\"\n",
    "    - 建议作为所有程序的入口\n",
    "\n",
    "## 模块的搜索\n",
    "- 什么是模块的搜索路径\n",
    "    - 加载模块的时候, 系统会在哪些地方寻找此模块\n",
    "- 系统默认的模块搜索路径\n",
    "             \n",
    "             import sys\n",
    "             sys.path \n",
    "- 模块的加载顺序\n",
    "    1 内存中加载好的模块\n",
    "    2 内置模块\n",
    "    3 搜索sys.path路径们"
   ]
  },
  {
   "cell_type": "markdown",
   "metadata": {
    "collapsed": true
   },
   "source": [
    "# 包\n",
    "\n",
    "- 包是一种组织管理代码的方式,包里存放的是模块们\n",
    "\n",
    "- 用于将模块们包含在一起的文件夹就是包\n",
    "\n",
    "- 自定义包的结构\n",
    "\n",
    "            /---包\n",
    "            /---/---__init__.py 包的标志文件\n",
    "            /---/---模块1\n",
    "            /---/---模块2\n",
    "            /---/---子包\n",
    "            /---/---/---__init__.py\n",
    "            /---/---/---子包模块1\n",
    "\n",
    "- 包的导入操作\n",
    "\n",
    "    - import package_name\n",
    "        - 直接导入一个包, 可以使用__init__.py中的内容\n",
    "        - 使用方式是:\n",
    "        \n",
    "                package_name.func_name()\n",
    "                package_name.class_name.func_name()\n",
    "                \n",
    "    - import package_name as nick_name\n",
    "        - 具体用法和作用方式, 和上述简单导入是一致的\n",
    "        - 注意此种方法是默认对__init__.py内容的导入\n",
    "        \n",
    "    - import package_name.module_name\n",
    "        -导入包里面某一个具体的模块\n",
    "                \n",
    "                package_name.module_name.func_name()\n",
    "                package_name.module_name.class_name()\n",
    "                package_name.module_name.variable_name\n",
    "                \n",
    "    - from package import *\n",
    "        - 导入\"__init__.py\"模块中的类和函数\n",
    "        \n",
    "    - \"__all__\"的用法\n",
    "        - 在使用from package import * 的时候, * 可以导入的内容\n",
    "        - __init__文件中如果文件为空, 或者没有__all__, 那么只可以把__init__中的内容导入\n",
    "        - __init__如果设置了__all__的值, 那么按照__all__指定的子包或者模块进行导入, 如此则不会载入__init__中的内容\n",
    "        - __All__ = ['module1', module2, 'package1', ...]\n",
    "        \n",
    "# 命名空间\n",
    "- 用于区分不同位置不同功能但同名的函数或者变量的一个特定前缀\n",
    "- 作用是防止命名冲突\n",
    "\n",
    "        setName()\n",
    "        Student.setName()\n",
    "        Dog.setName()"
   ]
  },
  {
   "cell_type": "markdown",
   "metadata": {
    "collapsed": true
   },
   "source": [
    "# 异常\n",
    "- 广义上的错误分为错误和异常\n",
    "- 错误指的是可以人为避免\n",
    "- 异常是指在语法逻辑正确的前提下,出现的问题\n",
    "- 在Python里面, 异常是一个类, 可以处理和使用"
   ]
  },
  {
   "cell_type": "markdown",
   "metadata": {
    "collapsed": true
   },
   "source": [
    "# 异常的分类\n",
    "\n",
    "    AssertError 断言语句（assert）失败\n",
    "    AttributeError 尝试访问未知的对象属性\n",
    "    EOFError 用户输入文件末尾标志EOF（Ctrl+d）\n",
    "    FloatingPointError 浮点计算错误\n",
    "    GeneratorExit generator.close()方法被调用的时候\n",
    "    ImportError 导入模块失败的时候\n",
    "    IndexError 索引超出序列的范围\n",
    "    KeyError 字典中查找一个不存在的关键字\n",
    "    KeyboardInterrupt 用户输入中断键（Ctrl+c）\n",
    "    MemoryError 内存溢出（可通过删除对象释放内存）\n",
    "    NameError 尝试访问一个不存在的变量\n",
    "    NotImplementedError 尚未实现的方法\n",
    "    OSError 操作系统产生的异常（例如打开一个不存在的文件）\n",
    "    OverflowError 数值运算超出最大限制\n",
    "    ReferenceError 弱引用（weak reference）试图访问一个已经被垃圾回收机制回收了的对象\n",
    "    RuntimeError 一般的运行时错误\n",
    "    StopIteration 迭代器没有更多的值\n",
    "    SyntaxError Python的语法错误\n",
    "    IndentationError 缩进错误\n",
    "    TabError Tab和空格混合使用\n",
    "    SystemError Python编译器系统错误\n",
    "    SystemExit Python编译器进程被关闭\n",
    "    TypeError 不同类型间的无效操作\n",
    "    UnboundLocalError 访问一个未初始化的本地变量（NameError的子类）\n",
    "    UnicodeError Unicode相关的错误（ValueError的子类）\n",
    "    UnicodeEncodeError Unicode编码时的错误（UnicodeError的子类）\n",
    "    UnicodeDecodeError Unicode解码时的错误（UnicodeError的子类）\n",
    "    UnicodeTranslateError Unicode转换时的错误（UnicodeError的子类）\n",
    "    ValueError 传入无效的参数\n",
    "    ZeroDivisionError 除数为零\n"
   ]
  },
  {
   "cell_type": "markdown",
   "metadata": {
    "collapsed": true
   },
   "source": [
    "# 异常处理\n",
    "- 不能保证程序永远正确运行\n",
    "- 但是,必须保证在最坏情况下的问题被妥善处理\n",
    "- Python的异常处理模块全部语法为:\n",
    "\n",
    "        try:\n",
    "            尝试实现某个操作，\n",
    "            如果没出现异常，任务就可以完成\n",
    "            如果出现异常，将异常从当前代码块扔出去尝试解决异常\n",
    "        \n",
    "        except 异常类型1:\n",
    "            解决方案1：用于尝试在此处处理异常解决问题\n",
    "        \n",
    "        except 异常类型2：\n",
    "            解决方案2：用于尝试在此处处理异常解决问题\n",
    "\n",
    "        except (异常类型1,异常类型2...)\n",
    "            解决方案：针对多个异常使用相同的处理方式\n",
    "\n",
    "        excpet:\n",
    "            解决方案：所有异常的解决方案\n",
    "\n",
    "        else:\n",
    "            如果没有出现任何异常，将会执行此处代码\n",
    "\n",
    "        finally:\n",
    "            管你有没有异常都要执行的代码\n",
    "    \n",
    "- 流程\n",
    "    1. 执行try下面语句\n",
    "    2. 如果出现异常,则在except语句里查找对应异常的处理方法\n",
    "    3. 如果没有出现异常,则执行else语句\n",
    "    4. 最后, finally\n",
    "- except必须有, else和finally可选."
   ]
  },
  {
   "cell_type": "code",
   "execution_count": 1,
   "metadata": {},
   "outputs": [
    {
     "name": "stdout",
     "output_type": "stream",
     "text": [
      "please input a number:的\n",
      "这是啥啊\n"
     ]
    }
   ],
   "source": [
    "# 简单案例\n",
    "# 给出提示信息\n",
    "try:\n",
    "    num = int(input(\"please input a number:\"))\n",
    "    a = 100/num\n",
    "    print(\"The result is: {0}\".format(int(a)))\n",
    "# 捕获异常后, 把异常实例化, 出错信息会在实例中\n",
    "    \n",
    "except ZeroDivisionError as e:\n",
    "    print(\"Fuck you baby\")\n",
    "    print(e)\n",
    "    exit()\n",
    "    \n",
    "except NameError as e:\n",
    "    print('语法书写不对')\n",
    "    print(e)\n",
    "    exit()\n",
    "    \n",
    "except AttributeError as e:\n",
    "    print(e)\n",
    "    exit()\n",
    "\n",
    "# 所有的异常都是Exception的子类\n",
    "except Exception:\n",
    "    print(\"这是啥啊\")\n",
    "    exit()\n",
    "    \n",
    "# 为什么我们可以直接打印出实例e ?\n",
    "# 答 __repr__或者是__str__.在这个魔法函数中返回字符串."
   ]
  },
  {
   "cell_type": "code",
   "execution_count": 2,
   "metadata": {},
   "outputs": [
    {
     "name": "stdout",
     "output_type": "stream",
     "text": [
      "关闭文件\n"
     ]
    }
   ],
   "source": [
    "# rubor案例\n",
    "try:\n",
    "    fh = open(\"testfile\", \"w\")\n",
    "    try:\n",
    "        fh.write(\"这是一个测试文件，用于测试异常!!\")\n",
    "    finally:\n",
    "        print (\"关闭文件\")\n",
    "        fh.close()\n",
    "except IOError:\n",
    "    print (\"Error: 没有找到文件或读取文件失败\")"
   ]
  },
  {
   "cell_type": "markdown",
   "metadata": {},
   "source": [
    "## 用户手动引发异常\n",
    "- 当某些情况, 用户希望自己引发一个异常\n",
    "- raise 关键字来引发一场"
   ]
  },
  {
   "cell_type": "code",
   "execution_count": 3,
   "metadata": {},
   "outputs": [
    {
     "name": "stdout",
     "output_type": "stream",
     "text": [
      "我爱王祖贤\n",
      "3.1415926\n",
      "值错误了哦\n",
      "总会有我的\n"
     ]
    }
   ],
   "source": [
    "# raise案例\n",
    "try:\n",
    "    print(\"我爱王祖贤\")\n",
    "    print(3.1415926)\n",
    "    # 手动引发异常. raise 后面跟异常类名\n",
    "    raise ValueError\n",
    "    print(\"还没完呢*****\")\n",
    "except NameError as e:\n",
    "    print(\"name error\")\n",
    "except ValueError as e:\n",
    "    print(\"值错误了哦\")\n",
    "except Exception:\n",
    "    print(1234567890)\n",
    "finally:\n",
    "    print(\"总会有我的\")"
   ]
  },
  {
   "cell_type": "code",
   "execution_count": 50,
   "metadata": {
    "scrolled": true
   },
   "outputs": [
    {
     "name": "stdout",
     "output_type": "stream",
     "text": [
      "我爱王祖贤\n",
      "这是一个宇军式的失误, 卡利乌斯, 南雄太灵魂附体\n",
      "******自定义错误\n"
     ]
    }
   ],
   "source": [
    "# raise案例\n",
    "# 自定义异常\n",
    "\n",
    "# 需要注意: 自定义异常一般都继承Exception类, 别格楞子.\n",
    "class YujunError(Exception):\n",
    "    def __str__(self):\n",
    "#         x = '这是一个宇军式的失误, 卡利乌斯, 南雄太灵魂附体'\n",
    "        return '这是一个宇军式的失误, 卡利乌斯, 南雄太灵魂附体'\n",
    "\n",
    "try:\n",
    "    print(\"我爱王祖贤\")\n",
    "#     print(3.1415926)\n",
    "    # 手动引发异常. raise 后面跟异常类名\n",
    "    raise YujunError\n",
    "    print(\"还没完呢\")\n",
    "    \n",
    "except YujunError as e:\n",
    "    print(e)\n",
    "    print(\"******自定义错误\")\n",
    "\n",
    "except Exception:\n",
    "    print(1234567890)\n",
    "    \n",
    "# finally:\n",
    "#     print(\"总会有我的\")"
   ]
  },
  {
   "cell_type": "code",
   "execution_count": 39,
   "metadata": {},
   "outputs": [
    {
     "name": "stdout",
     "output_type": "stream",
     "text": [
      "123456\n"
     ]
    }
   ],
   "source": [
    "class A():\n",
    "    def __repr__(self):\n",
    "        return \"123456\"\n",
    "a = A()\n",
    "print(a)"
   ]
  },
  {
   "cell_type": "code",
   "execution_count": 59,
   "metadata": {},
   "outputs": [
    {
     "name": "stdout",
     "output_type": "stream",
     "text": [
      "1\n"
     ]
    }
   ],
   "source": [
    "class A():\n",
    "    def __init__(self,name):\n",
    "        self.name=name\n",
    "    def __str__(self):\n",
    "        return '1'  #此处模仿object类中__str__方法的返回值\n",
    " \n",
    "a = A('ales')\n",
    "print(a) "
   ]
  },
  {
   "cell_type": "code",
   "execution_count": null,
   "metadata": {
    "collapsed": true
   },
   "outputs": [],
   "source": []
  },
  {
   "cell_type": "code",
   "execution_count": 14,
   "metadata": {
    "scrolled": true
   },
   "outputs": [
    {
     "name": "stdout",
     "output_type": "stream",
     "text": [
      "please input a number:18\n",
      "The result is: 5.555555555555555\n",
      "没错,没毛病.\n",
      "哪儿都有我\n"
     ]
    }
   ],
   "source": [
    "# else案例\n",
    "try:\n",
    "    num = int(input(\"please input a number:\"))\n",
    "    a = 100/num\n",
    "    print(\"The result is: {0}\".format(a))\n",
    "# 捕获异常后, 把异常实例化, 出错信息会在实例中\n",
    "    \n",
    "except ZeroDivisionError as e:\n",
    "    print(\"Fuck you baby\")\n",
    "    print(e)\n",
    "    \n",
    "except NameError as e:\n",
    "    print('语法书写不对')\n",
    "    print(e)\n",
    "    \n",
    "except AttributeError as e:\n",
    "    print(e)\n",
    "\n",
    "except Exception:\n",
    "    print(\"这是啥啊\")\n",
    "    \n",
    "else:\n",
    "    print(\"没错,没毛病.\")\n",
    "\n",
    "finally:\n",
    "    print(\"哪儿都有我\")"
   ]
  },
  {
   "cell_type": "code",
   "execution_count": 24,
   "metadata": {},
   "outputs": [
    {
     "ename": "TypeError",
     "evalue": "catching classes that do not inherit from BaseException is not allowed",
     "output_type": "error",
     "traceback": [
      "\u001b[0;31m---------------------------------------------------------------------------\u001b[0m",
      "\u001b[0;31mValueError\u001b[0m                                Traceback (most recent call last)",
      "\u001b[0;32m<ipython-input-24-5591b7aeb1d8>\u001b[0m in \u001b[0;36mtemp_convert\u001b[0;34m(var)\u001b[0m\n\u001b[1;32m      3\u001b[0m     \u001b[0;32mtry\u001b[0m\u001b[0;34m:\u001b[0m\u001b[0;34m\u001b[0m\u001b[0m\n\u001b[0;32m----> 4\u001b[0;31m         \u001b[0;32mreturn\u001b[0m \u001b[0mint\u001b[0m\u001b[0;34m(\u001b[0m\u001b[0mvar\u001b[0m\u001b[0;34m)\u001b[0m\u001b[0;34m\u001b[0m\u001b[0m\n\u001b[0m\u001b[1;32m      5\u001b[0m     \u001b[0;32mexcept\u001b[0m \u001b[0mValueError\u001b[0m\u001b[0;34m(\u001b[0m\u001b[0mvar\u001b[0m\u001b[0;34m)\u001b[0m\u001b[0;34m:\u001b[0m\u001b[0;34m\u001b[0m\u001b[0m\n",
      "\u001b[0;31mValueError\u001b[0m: invalid literal for int() with base 10: 'xyz'",
      "\nDuring handling of the above exception, another exception occurred:\n",
      "\u001b[0;31mTypeError\u001b[0m                                 Traceback (most recent call last)",
      "\u001b[0;32m<ipython-input-24-5591b7aeb1d8>\u001b[0m in \u001b[0;36m<module>\u001b[0;34m()\u001b[0m\n\u001b[1;32m      7\u001b[0m \u001b[0;34m\u001b[0m\u001b[0m\n\u001b[1;32m      8\u001b[0m \u001b[0;31m# 调用函数\u001b[0m\u001b[0;34m\u001b[0m\u001b[0;34m\u001b[0m\u001b[0m\n\u001b[0;32m----> 9\u001b[0;31m \u001b[0mtemp_convert\u001b[0m\u001b[0;34m(\u001b[0m\u001b[0;34m\"xyz\"\u001b[0m\u001b[0;34m)\u001b[0m\u001b[0;34m;\u001b[0m\u001b[0;34m\u001b[0m\u001b[0m\n\u001b[0m",
      "\u001b[0;32m<ipython-input-24-5591b7aeb1d8>\u001b[0m in \u001b[0;36mtemp_convert\u001b[0;34m(var)\u001b[0m\n\u001b[1;32m      3\u001b[0m     \u001b[0;32mtry\u001b[0m\u001b[0;34m:\u001b[0m\u001b[0;34m\u001b[0m\u001b[0m\n\u001b[1;32m      4\u001b[0m         \u001b[0;32mreturn\u001b[0m \u001b[0mint\u001b[0m\u001b[0;34m(\u001b[0m\u001b[0mvar\u001b[0m\u001b[0;34m)\u001b[0m\u001b[0;34m\u001b[0m\u001b[0m\n\u001b[0;32m----> 5\u001b[0;31m     \u001b[0;32mexcept\u001b[0m \u001b[0mValueError\u001b[0m\u001b[0;34m(\u001b[0m\u001b[0mvar\u001b[0m\u001b[0;34m)\u001b[0m\u001b[0;34m:\u001b[0m\u001b[0;34m\u001b[0m\u001b[0m\n\u001b[0m\u001b[1;32m      6\u001b[0m         \u001b[0mprint\u001b[0m \u001b[0;34m(\u001b[0m\u001b[0;34m\"参数没有包含数字\\n\"\u001b[0m\u001b[0;34m,\u001b[0m \u001b[0mArgument\u001b[0m\u001b[0;34m)\u001b[0m\u001b[0;34m\u001b[0m\u001b[0m\n\u001b[1;32m      7\u001b[0m \u001b[0;34m\u001b[0m\u001b[0m\n",
      "\u001b[0;31mTypeError\u001b[0m: catching classes that do not inherit from BaseException is not allowed"
     ]
    }
   ],
   "source": [
    "# 定义函数\n",
    "def temp_convert(var):\n",
    "    try:\n",
    "        return int(var)\n",
    "    except ValueError(var):\n",
    "        print (\"参数没有包含数字\\n\", Argument)\n",
    "\n",
    "# 调用函数\n",
    "temp_convert(\"xyz\");"
   ]
  },
  {
   "cell_type": "markdown",
   "metadata": {},
   "source": [
    "## 关于自定义异常\n",
    "- 只要你是贱贱地想要raise一个异常, 最好是自定义一个\n",
    "- 自定义异常时候, 一般包含以下内容:\n",
    "    - 自定义发生异常的异常代码\n",
    "    - 自定义发生异常后的异常提示\n",
    "    - 自定义发生异常的行数\n",
    "- 最终目的是, 一旦发生异常, 方便程序员快速定位问题所在"
   ]
  },
  {
   "cell_type": "code",
   "execution_count": 32,
   "metadata": {},
   "outputs": [
    {
     "name": "stdout",
     "output_type": "stream",
     "text": [
      "1 level不能小于1\n"
     ]
    }
   ],
   "source": [
    "def functionName( level ):\n",
    "    if level < 1:\n",
    "        raise Exception(\"Invalid level!\", level)\n",
    "        # 触发异常后，后面的代码就不会再执行\n",
    "    print(\"我是谁?\")    \n",
    "    \n",
    "try:\n",
    "    functionName(0)\n",
    "except Exception:\n",
    "    print(1, \"level不能小于1\")\n",
    "    "
   ]
  },
  {
   "cell_type": "code",
   "execution_count": null,
   "metadata": {
    "collapsed": true
   },
   "outputs": [],
   "source": []
  },
  {
   "cell_type": "markdown",
   "metadata": {
    "collapsed": true
   },
   "source": [
    "# 常用模块\n",
    "- calendar\n",
    "- time\n",
    "- datetime\n",
    "- timeit\n",
    "- os\n",
    "- shutil\n",
    "- zip\n",
    "- math\n",
    "- random\n",
    "- string\n",
    "- 使用前先导入,除了str.\n",
    "- calendar, time, datetime区别参考中文意思"
   ]
  },
  {
   "cell_type": "markdown",
   "metadata": {},
   "source": [
    "# calendar"
   ]
  },
  {
   "cell_type": "code",
   "execution_count": 4,
   "metadata": {},
   "outputs": [
    {
     "name": "stdout",
     "output_type": "stream",
     "text": [
      "Help on method formatyear in module calendar:\n",
      "\n",
      "formatyear(theyear, w=2, l=1, c=6, m=3) method of calendar.TextCalendar instance\n",
      "    Returns a year's calendar as a multi-line string.\n",
      "\n"
     ]
    }
   ],
   "source": [
    "import calendar\n",
    "help(calendar.calendar)"
   ]
  },
  {
   "cell_type": "code",
   "execution_count": 5,
   "metadata": {
    "collapsed": true
   },
   "outputs": [],
   "source": [
    "## calendar\n",
    "\n",
    "# 获取一年的日历字符串\n",
    "# 参数\n",
    "# w = 每个日期之间的间隔字符数\n",
    "# l = 每周所占用行数\n",
    "# c = 每个月之间的间隔字符数"
   ]
  },
  {
   "cell_type": "code",
   "execution_count": 7,
   "metadata": {
    "scrolled": true
   },
   "outputs": [
    {
     "name": "stdout",
     "output_type": "stream",
     "text": [
      "                                 2020\n",
      "\n",
      "      January                  February                  March\n",
      "Mo Tu We Th Fr Sa Su     Mo Tu We Th Fr Sa Su     Mo Tu We Th Fr Sa Su\n",
      "       1  2  3  4  5                     1  2                        1\n",
      " 6  7  8  9 10 11 12      3  4  5  6  7  8  9      2  3  4  5  6  7  8\n",
      "13 14 15 16 17 18 19     10 11 12 13 14 15 16      9 10 11 12 13 14 15\n",
      "20 21 22 23 24 25 26     17 18 19 20 21 22 23     16 17 18 19 20 21 22\n",
      "27 28 29 30 31           24 25 26 27 28 29        23 24 25 26 27 28 29\n",
      "                                                  30 31\n",
      "\n",
      "       April                     May                      June\n",
      "Mo Tu We Th Fr Sa Su     Mo Tu We Th Fr Sa Su     Mo Tu We Th Fr Sa Su\n",
      "       1  2  3  4  5                  1  2  3      1  2  3  4  5  6  7\n",
      " 6  7  8  9 10 11 12      4  5  6  7  8  9 10      8  9 10 11 12 13 14\n",
      "13 14 15 16 17 18 19     11 12 13 14 15 16 17     15 16 17 18 19 20 21\n",
      "20 21 22 23 24 25 26     18 19 20 21 22 23 24     22 23 24 25 26 27 28\n",
      "27 28 29 30              25 26 27 28 29 30 31     29 30\n",
      "\n",
      "        July                    August                 September\n",
      "Mo Tu We Th Fr Sa Su     Mo Tu We Th Fr Sa Su     Mo Tu We Th Fr Sa Su\n",
      "       1  2  3  4  5                     1  2         1  2  3  4  5  6\n",
      " 6  7  8  9 10 11 12      3  4  5  6  7  8  9      7  8  9 10 11 12 13\n",
      "13 14 15 16 17 18 19     10 11 12 13 14 15 16     14 15 16 17 18 19 20\n",
      "20 21 22 23 24 25 26     17 18 19 20 21 22 23     21 22 23 24 25 26 27\n",
      "27 28 29 30 31           24 25 26 27 28 29 30     28 29 30\n",
      "                         31\n",
      "\n",
      "      October                  November                 December\n",
      "Mo Tu We Th Fr Sa Su     Mo Tu We Th Fr Sa Su     Mo Tu We Th Fr Sa Su\n",
      "          1  2  3  4                        1         1  2  3  4  5  6\n",
      " 5  6  7  8  9 10 11      2  3  4  5  6  7  8      7  8  9 10 11 12 13\n",
      "12 13 14 15 16 17 18      9 10 11 12 13 14 15     14 15 16 17 18 19 20\n",
      "19 20 21 22 23 24 25     16 17 18 19 20 21 22     21 22 23 24 25 26 27\n",
      "26 27 28 29 30 31        23 24 25 26 27 28 29     28 29 30 31\n",
      "                         30\n",
      "\n"
     ]
    }
   ],
   "source": [
    "# m是每行放几个月.\n",
    "cal = calendar.calendar(2020, w=1, l=0, c=5, m=3)\n",
    "print(cal)"
   ]
  },
  {
   "cell_type": "code",
   "execution_count": 6,
   "metadata": {},
   "outputs": [
    {
     "data": {
      "text/plain": [
       "True"
      ]
     },
     "execution_count": 6,
     "metadata": {},
     "output_type": "execute_result"
    }
   ],
   "source": [
    "# isleap: 判断是否是闰年\n",
    "calendar.isleap(2020)"
   ]
  },
  {
   "cell_type": "code",
   "execution_count": 8,
   "metadata": {},
   "outputs": [
    {
     "data": {
      "text/plain": [
       "25"
      ]
     },
     "execution_count": 8,
     "metadata": {},
     "output_type": "execute_result"
    }
   ],
   "source": [
    "# leapdays: 获取区间的闰年数\n",
    "calendar.leapdays(1900, 2001)"
   ]
  },
  {
   "cell_type": "code",
   "execution_count": 62,
   "metadata": {},
   "outputs": [
    {
     "name": "stdout",
     "output_type": "stream",
     "text": [
      "        October 2020\n",
      "Mon Tue Wed Thu Fri Sat Sun\n",
      "              1   2   3   4\n",
      "  5   6   7   8   9  10  11\n",
      " 12  13  14  15  16  17  18\n",
      " 19  20  21  22  23  24  25\n",
      " 26  27  28  29  30  31\n",
      "\n"
     ]
    }
   ],
   "source": [
    "print(calendar.month(2020, 10, w=3, l=1))"
   ]
  },
  {
   "cell_type": "code",
   "execution_count": 53,
   "metadata": {},
   "outputs": [
    {
     "data": {
      "text/plain": [
       "(3, 31)"
      ]
     },
     "execution_count": 53,
     "metadata": {},
     "output_type": "execute_result"
    }
   ],
   "source": [
    "# 看一哈这个月第一天是周几,有多少天.\n",
    "calendar.monthrange(2020, 10)"
   ]
  },
  {
   "cell_type": "code",
   "execution_count": 72,
   "metadata": {},
   "outputs": [
    {
     "name": "stdout",
     "output_type": "stream",
     "text": [
      "[[0, 0, 0, 1, 2, 3, 4], [5, 6, 7, 8, 9, 10, 11], [12, 13, 14, 15, 16, 17, 18], [19, 20, 21, 22, 23, 24, 25], [26, 27, 28, 29, 30, 31, 0]]\n",
      "===================================================================================================================\n",
      "[0, 0, 0, 1, 2, 3, 4]\n",
      "[5, 6, 7, 8, 9, 10, 11]\n",
      "[12, 13, 14, 15, 16, 17, 18]\n",
      "[19, 20, 21, 22, 23, 24, 25]\n",
      "[26, 27, 28, 29, 30, 31, 0]\n"
     ]
    }
   ],
   "source": [
    "# 返回这个月的矩阵\n",
    "m = calendar.monthcalendar(2020, 10)\n",
    "print(m)\n",
    "print('='*115)\n",
    "for i in m:\n",
    "    print(i)"
   ]
  },
  {
   "cell_type": "code",
   "execution_count": 77,
   "metadata": {
    "scrolled": true
   },
   "outputs": [
    {
     "name": "stdout",
     "output_type": "stream",
     "text": [
      "                                  2020\n",
      "\n",
      "      January                   February                   March\n",
      "Mo Tu We Th Fr Sa Su      Mo Tu We Th Fr Sa Su      Mo Tu We Th Fr Sa Su\n",
      "       1  2  3  4  5                      1  2                         1\n",
      " 6  7  8  9 10 11 12       3  4  5  6  7  8  9       2  3  4  5  6  7  8\n",
      "13 14 15 16 17 18 19      10 11 12 13 14 15 16       9 10 11 12 13 14 15\n",
      "20 21 22 23 24 25 26      17 18 19 20 21 22 23      16 17 18 19 20 21 22\n",
      "27 28 29 30 31            24 25 26 27 28 29         23 24 25 26 27 28 29\n",
      "                                                    30 31\n",
      "\n",
      "       April                      May                       June\n",
      "Mo Tu We Th Fr Sa Su      Mo Tu We Th Fr Sa Su      Mo Tu We Th Fr Sa Su\n",
      "       1  2  3  4  5                   1  2  3       1  2  3  4  5  6  7\n",
      " 6  7  8  9 10 11 12       4  5  6  7  8  9 10       8  9 10 11 12 13 14\n",
      "13 14 15 16 17 18 19      11 12 13 14 15 16 17      15 16 17 18 19 20 21\n",
      "20 21 22 23 24 25 26      18 19 20 21 22 23 24      22 23 24 25 26 27 28\n",
      "27 28 29 30               25 26 27 28 29 30 31      29 30\n",
      "\n",
      "        July                     August                  September\n",
      "Mo Tu We Th Fr Sa Su      Mo Tu We Th Fr Sa Su      Mo Tu We Th Fr Sa Su\n",
      "       1  2  3  4  5                      1  2          1  2  3  4  5  6\n",
      " 6  7  8  9 10 11 12       3  4  5  6  7  8  9       7  8  9 10 11 12 13\n",
      "13 14 15 16 17 18 19      10 11 12 13 14 15 16      14 15 16 17 18 19 20\n",
      "20 21 22 23 24 25 26      17 18 19 20 21 22 23      21 22 23 24 25 26 27\n",
      "27 28 29 30 31            24 25 26 27 28 29 30      28 29 30\n",
      "                          31\n",
      "\n",
      "      October                   November                  December\n",
      "Mo Tu We Th Fr Sa Su      Mo Tu We Th Fr Sa Su      Mo Tu We Th Fr Sa Su\n",
      "          1  2  3  4                         1          1  2  3  4  5  6\n",
      " 5  6  7  8  9 10 11       2  3  4  5  6  7  8       7  8  9 10 11 12 13\n",
      "12 13 14 15 16 17 18       9 10 11 12 13 14 15      14 15 16 17 18 19 20\n",
      "19 20 21 22 23 24 25      16 17 18 19 20 21 22      21 22 23 24 25 26 27\n",
      "26 27 28 29 30 31         23 24 25 26 27 28 29      28 29 30 31\n",
      "                          30\n",
      "\n"
     ]
    }
   ],
   "source": [
    "# 打印日历...这玩意和calendar.calendar()有鸡毛区别???? 奥...我造了,\n",
    "# 是返回值.这个返回__str__的结果, 易读性好. 上面那个返回的是带转义字符的字符串, 其本质上调用的显然是__repr__方法. 便于开发但不易读.\n",
    "calendar.prcal(2020)"
   ]
  },
  {
   "cell_type": "code",
   "execution_count": 14,
   "metadata": {},
   "outputs": [
    {
     "name": "stdout",
     "output_type": "stream",
     "text": [
      "Help on method pryear in module calendar:\n",
      "\n",
      "pryear(theyear, w=0, l=0, c=6, m=3) method of calendar.TextCalendar instance\n",
      "    Print a year's calendar.\n",
      "\n"
     ]
    }
   ],
   "source": [
    "help(calendar.prcal)\n",
    "# w = 每个日期之间的间隔字符数\n",
    "# l = 每周所占用行数\n",
    "# c = 每个月之间的间隔字符数\n",
    "# m = 月份的列数(每行显示几个月)"
   ]
  },
  {
   "cell_type": "code",
   "execution_count": 18,
   "metadata": {
    "scrolled": true
   },
   "outputs": [
    {
     "name": "stdout",
     "output_type": "stream",
     "text": [
      "    October 2020\n",
      "Mo Tu We Th Fr Sa Su\n",
      "          1  2  3  4\n",
      " 5  6  7  8  9 10 11\n",
      "12 13 14 15 16 17 18\n",
      "19 20 21 22 23 24 25\n",
      "26 27 28 29 30 31\n"
     ]
    }
   ],
   "source": [
    "calendar.prmonth(2020, 10)"
   ]
  },
  {
   "cell_type": "code",
   "execution_count": 15,
   "metadata": {},
   "outputs": [
    {
     "data": {
      "text/plain": [
       "1"
      ]
     },
     "execution_count": 15,
     "metadata": {},
     "output_type": "execute_result"
    }
   ],
   "source": [
    "import datetime\n",
    "calendar.weekday(2020,10,6)  # 这天礼拜几呀"
   ]
  },
  {
   "cell_type": "markdown",
   "metadata": {},
   "source": [
    "# time 模块"
   ]
  },
  {
   "cell_type": "markdown",
   "metadata": {},
   "source": [
    "### 时间戳\n",
    "    - 一个时间表示, 根据不同语言, 可以是整数或者浮点数\n",
    "    - 是从1970年1月1日0时0分0秒到现在经历的秒数\n",
    "    - 如果表示的时间是70年以前或者遥远的未来, 可能出现异常\n",
    "    - 32位操作系统能够支持到2038年\n",
    "\n",
    "### UTC时间\n",
    "    - 世界协调时间, 世界标准时间, 格林尼治时间\n",
    "    - 我国北京时间是UTC+8, 即东八区\n",
    "    \n",
    "### 夏令时\n",
    "    - 夏令时就是在夏天时将时间调快一小时,本意是督促大家早睡早起节省蜡烛, 每天变成25个小时, 实际上是脱裤子放屁.\n",
    "\n",
    "### 时间元祖\n",
    "    - 一个包含时间内容的普通元祖\n",
    "        \n",
    "           索引     内容       属性        值\n",
    "\n",
    "            0       年       tm_year     2015\n",
    "            1       月       tm_mon      1～12\n",
    "            2       日       tm_mday     1～31\n",
    "            3       时       tm_hour     0～23\n",
    "            4       分       tm_min      0～59\n",
    "            5       秒       tm_sec      0～61  60表示闰秒  61保留值\n",
    "            6       周几     tm_wday     0～6\n",
    "            7       第几天    tm_yday     1～366\n",
    "            8       夏令时    tm_isdst    0，1，-1（表示夏令时） daylight saving time"
   ]
  },
  {
   "cell_type": "code",
   "execution_count": 16,
   "metadata": {
    "collapsed": true
   },
   "outputs": [],
   "source": [
    "# 需要导入\n",
    "import time"
   ]
  },
  {
   "cell_type": "code",
   "execution_count": 21,
   "metadata": {},
   "outputs": [
    {
     "name": "stdout",
     "output_type": "stream",
     "text": [
      "-28800\n",
      "-28800\n",
      "0\n"
     ]
    }
   ],
   "source": [
    "# timezone 打印当前时区和UTC时间相差的秒数, 在没有夏令时的情况下的间隔, 东八区是-28800.\n",
    "# altzone 获取当前时区与...., 在有夏令时情况下...怎么地\n",
    "print(time.timezone)\n",
    "print(time.altzone)\n",
    "print(time.daylight)"
   ]
  },
  {
   "cell_type": "code",
   "execution_count": 32,
   "metadata": {},
   "outputs": [
    {
     "data": {
      "text/plain": [
       "1601943345.0160046"
      ]
     },
     "execution_count": 32,
     "metadata": {},
     "output_type": "execute_result"
    }
   ],
   "source": [
    "# 得到时间戳\n",
    "time.time()"
   ]
  },
  {
   "cell_type": "code",
   "execution_count": 42,
   "metadata": {},
   "outputs": [
    {
     "name": "stdout",
     "output_type": "stream",
     "text": [
      "time.struct_time(tm_year=2020, tm_mon=10, tm_mday=6, tm_hour=8, tm_min=23, tm_sec=10, tm_wday=1, tm_yday=280, tm_isdst=0)\n",
      "====================================================================================================\n",
      "280\n"
     ]
    }
   ],
   "source": [
    "# time.localtime()\n",
    "# 获取结构性的时间数据, 即时间元祖\n",
    "print(time.localtime())\n",
    "print('='*100)\n",
    "\n",
    "# 可以通过点操作获取单一属性\n",
    "print(time.localtime().tm_yday)"
   ]
  },
  {
   "cell_type": "code",
   "execution_count": 43,
   "metadata": {},
   "outputs": [
    {
     "name": "stdout",
     "output_type": "stream",
     "text": [
      "Tue Oct  6 08:23:10 2020\n",
      "Help on built-in function asctime in module time:\n",
      "\n",
      "asctime(...)\n",
      "    asctime([tuple]) -> string\n",
      "    \n",
      "    Convert a time tuple to a string, e.g. 'Sat Jun 06 16:26:11 1998'.\n",
      "    When the time tuple is not present, current time as returned by localtime()\n",
      "    is used.\n",
      "\n"
     ]
    }
   ],
   "source": [
    "# time.asctime()\n",
    "print(time.asctime())\n",
    "help(time.asctime)"
   ]
  },
  {
   "cell_type": "code",
   "execution_count": 44,
   "metadata": {},
   "outputs": [
    {
     "data": {
      "text/plain": [
       "'Tue Oct  6 08:23:11 2020'"
      ]
     },
     "execution_count": 44,
     "metadata": {},
     "output_type": "execute_result"
    }
   ],
   "source": [
    "# ctime 获取字符串化的当前时间\n",
    "time.ctime()"
   ]
  },
  {
   "cell_type": "code",
   "execution_count": 34,
   "metadata": {},
   "outputs": [
    {
     "data": {
      "text/plain": [
       "1601778217.0"
      ]
     },
     "execution_count": 34,
     "metadata": {},
     "output_type": "execute_result"
    }
   ],
   "source": [
    "# mktime() 使用时间元祖获取相应的时间戳\n",
    "t = time.localtime()\n",
    "time.mktime(t)"
   ]
  },
  {
   "cell_type": "code",
   "execution_count": 40,
   "metadata": {},
   "outputs": [
    {
     "name": "stdout",
     "output_type": "stream",
     "text": [
      "0.0005140000000003475\n"
     ]
    }
   ],
   "source": [
    "# clock: CPU时钟. 获取CPU时间, 3.0-3.3版本直接使用, 3.6调用有问题\n",
    "t1 = time.clock()\n",
    "time.sleep(1)\n",
    "t2 = time.clock()\n",
    "print(t2 - t1)"
   ]
  },
  {
   "cell_type": "code",
   "execution_count": 46,
   "metadata": {
    "scrolled": true
   },
   "outputs": [
    {
     "name": "stdout",
     "output_type": "stream",
     "text": [
      "0123456789"
     ]
    }
   ],
   "source": [
    "# sleep: 使程序进入睡眠, n秒后继续.\n",
    "for i in range(10):\n",
    "#     time.sleep(0.5)\n",
    "    print(i,end='')"
   ]
  },
  {
   "cell_type": "markdown",
   "metadata": {},
   "source": [
    "### strftime: 将时间元祖转化为自定义的字符串格式\n",
    "\n",
    "        格式  含义  备注\n",
    "        %a  本地（locale）简化星期名称    \n",
    "        %A  本地完整星期名称    \n",
    "        %b  本地简化月份名称    \n",
    "        %B  本地完整月份名称    \n",
    "        %c  本地相应的日期和时间表示    \n",
    "        %d  一个月中的第几天（01 - 31）   \n",
    "        %H  一天中的第几个小时（24 小时制，00 - 23）   \n",
    "        %I  一天中的第几个小时（12 小时制，01 - 12）   \n",
    "        %j  一年中的第几天（001 - 366）  \n",
    "        %m  月份（01 - 12） \n",
    "        %M  分钟数（00 - 59）    \n",
    "        %p  本地 am 或者 pm 的相应符    注1\n",
    "        %S  秒（01 - 61）  注2\n",
    "        %U  一年中的星期数（00 - 53 星期天是一个星期的开始）第一个星期天之前的所有天数都放在第 0 周   注3\n",
    "        %w  一个星期中的第几天（0 - 6，0 是星期天） 注3\n",
    "        %W  和 %U 基本相同，不同的是 %W 以星期一为一个星期的开始  \n",
    "        %x  本地相应日期  \n",
    "        %X  本地相应时间  \n",
    "        %y  去掉世纪的年份（00 - 99）    \n",
    "        %Y  完整的年份   \n",
    "        %z  用 +HHMM 或 -HHMM 表示距离格林威治的时区偏移（H 代表十进制的小时数，M 代表十进制的分钟数）      \n",
    "        %%  %号本身\n",
    "\n",
    "### 把时间表示成， 2018年3月26日 21:05\n",
    "        t = time.localtime()\n",
    "        ft = time.strftime(\"%Y年%m月%d日 %H:%M\" , t)\n",
    "        print(ft)"
   ]
  },
  {
   "cell_type": "code",
   "execution_count": 41,
   "metadata": {},
   "outputs": [
    {
     "name": "stdout",
     "output_type": "stream",
     "text": [
      "2020年10月04日 10:43\n"
     ]
    }
   ],
   "source": [
    "# 把时间表示成2020年10月03日 10:45\n",
    "t = time.localtime()\n",
    "\n",
    "ft = time.strftime(\"%Y年%m月%d日 %H:%M\", t)\n",
    "print(ft)"
   ]
  },
  {
   "cell_type": "markdown",
   "metadata": {},
   "source": [
    "# datetime 模块\n",
    "- 提供日期和时间的运算和表示"
   ]
  },
  {
   "cell_type": "code",
   "execution_count": 42,
   "metadata": {
    "collapsed": true
   },
   "outputs": [],
   "source": [
    "import datetime"
   ]
  },
  {
   "cell_type": "code",
   "execution_count": 45,
   "metadata": {},
   "outputs": [
    {
     "name": "stdout",
     "output_type": "stream",
     "text": [
      "3\n",
      "10\n"
     ]
    }
   ],
   "source": [
    "# datetime 常见属性\n",
    "# datetime.date : 一个理想的日期, 提供year, month, day 属性\n",
    "\n",
    "dt = datetime.date(2020, 10, 3)\n",
    "print(dt.day)\n",
    "print(dt.month)"
   ]
  },
  {
   "cell_type": "code",
   "execution_count": 46,
   "metadata": {
    "collapsed": true
   },
   "outputs": [],
   "source": [
    "# datetime.time : 提供一个理想和的时间\n",
    "# datetime.datetime : 提供日期和时间的组合\n",
    "# datetime.timedelta : 提供一个时间差, 时间长度"
   ]
  },
  {
   "cell_type": "code",
   "execution_count": 47,
   "metadata": {},
   "outputs": [
    {
     "name": "stdout",
     "output_type": "stream",
     "text": [
      "2020-10-06 08:36:22.434550\n",
      "2020-10-06 08:36:22.438497\n",
      "2020-10-06 00:36:22.438818\n",
      "2020-10-06 08:36:22.438919\n"
     ]
    }
   ],
   "source": [
    "# datetime.datetime\n",
    "from datetime import datetime\n",
    "# 常用类方法\n",
    "# today, now, utcnow, fromtimestamp\n",
    "\n",
    "dt = datetime(2020, 6, 3)  # 这里传入的参数并没有什么卵用, 就是实例化一下, instance\n",
    "print(dt.today())\n",
    "print(dt.now())\n",
    "print(dt.utcnow())\n",
    "print(dt.fromtimestamp(time.time()))  # 从时间戳里获取时间\n"
   ]
  },
  {
   "cell_type": "code",
   "execution_count": 48,
   "metadata": {},
   "outputs": [
    {
     "name": "stdout",
     "output_type": "stream",
     "text": [
      "2020-10-06 08:36:24.116760\n",
      "2020年10月07日 08:36:24\n"
     ]
    }
   ],
   "source": [
    "# datetime.timedelta\n",
    "# 表示一个时间间隔\n",
    "\n",
    "from datetime import datetime, timedelta\n",
    "\n",
    "t1 = datetime.now()\n",
    "print(t1)\n",
    "\n",
    "# td表示以天数为1的时间差\n",
    "td = timedelta(days=1)  # 生成一个时间间隔\n",
    "# 加上这个时间间隔, 再格式化输出\n",
    "print((t1+td).strftime(\"%Y年%m月%d日 %H:%M:%S\"))"
   ]
  },
  {
   "cell_type": "code",
   "execution_count": 91,
   "metadata": {},
   "outputs": [
    {
     "name": "stdout",
     "output_type": "stream",
     "text": [
      "1.6027483940124512\n"
     ]
    }
   ],
   "source": [
    "# timeit : 时间测量工具\n",
    "# 测量程序运行时间间隔实验\n",
    "\n",
    "def p():\n",
    "    time.sleep(1.6)\n",
    "\n",
    "t1 = time.time()\n",
    "p()\n",
    "print(time.time()-t1)"
   ]
  },
  {
   "cell_type": "code",
   "execution_count": 50,
   "metadata": {},
   "outputs": [
    {
     "name": "stdout",
     "output_type": "stream",
     "text": [
      "0.2568159590000505\n",
      "0.5080404290001752\n"
     ]
    }
   ],
   "source": [
    "import timeit\n",
    "# 生成列表两种方法的比较\n",
    "# 如果单纯比较生成一个列表的时间, 可能很难实现\n",
    "c = '''\n",
    "sum = []\n",
    "for i in range(1000):\n",
    "    sum.append(i)\n",
    "'''\n",
    "\n",
    "# 利用timeit调用代码, 执行100000次, 查看运行时间\n",
    "t1 = timeit.timeit(stmt=\"[i for i in range(1000)]\", number=10000)\n",
    "# 测量代码c执行100000次的结果\n",
    "t2 = timeit.timeit(stmt=c, number=10000)\n",
    "print(t1)\n",
    "print(t2)"
   ]
  },
  {
   "cell_type": "code",
   "execution_count": 51,
   "metadata": {},
   "outputs": [
    {
     "name": "stdout",
     "output_type": "stream",
     "text": [
      "Help on function timeit in module timeit:\n",
      "\n",
      "timeit(stmt='pass', setup='pass', timer=<built-in function perf_counter>, number=1000000, globals=None)\n",
      "    Convenience function to create Timer object and call timeit method.\n",
      "\n"
     ]
    }
   ],
   "source": [
    "help(timeit.timeit)"
   ]
  },
  {
   "cell_type": "code",
   "execution_count": 63,
   "metadata": {
    "scrolled": true
   },
   "outputs": [
    {
     "name": "stdout",
     "output_type": "stream",
     "text": [
      "Repeat for 0, Repeat for 1, Repeat for 2, Repeat for 0, Repeat for 1, Repeat for 2, Repeat for 0, Repeat for 1, Repeat for 2, Repeat for 0, Repeat for 1, Repeat for 2, Repeat for 0, Repeat for 1, Repeat for 2, Repeat for 0, Repeat for 1, Repeat for 2, Repeat for 0, Repeat for 1, Repeat for 2, Repeat for 0, Repeat for 1, Repeat for 2, Repeat for 0, Repeat for 1, Repeat for 2, Repeat for 0, Repeat for 1, Repeat for 2, 0.004231200000049284\n"
     ]
    }
   ],
   "source": [
    "# timeit 可以执行一个函数, 来测量一个函数的执行时间\n",
    "\n",
    "def do_it():\n",
    "    num = 3\n",
    "    for i in range(num):\n",
    "        print(\"Repeat for {0}\".format(i),end=', ')\n",
    "# 执行函数重复10次 \n",
    "t = timeit.timeit(stmt=do_it, number=10)\n",
    "print(t)"
   ]
  },
  {
   "cell_type": "code",
   "execution_count": 61,
   "metadata": {
    "scrolled": true
   },
   "outputs": [
    {
     "name": "stdout",
     "output_type": "stream",
     "text": [
      "Repeat for 0, Repeat for 1, Repeat for 2, Repeat for 0, Repeat for 1, Repeat for 2, Repeat for 0, Repeat for 1, Repeat for 2, Repeat for 0, Repeat for 1, Repeat for 2, Repeat for 0, Repeat for 1, Repeat for 2, Repeat for 0, Repeat for 1, Repeat for 2, Repeat for 0, Repeat for 1, Repeat for 2, Repeat for 0, Repeat for 1, Repeat for 2, Repeat for 0, Repeat for 1, Repeat for 2, Repeat for 0, Repeat for 1, Repeat for 2, 0.004598235999765166\n"
     ]
    }
   ],
   "source": [
    "s = '''\n",
    "def do_it(num):\n",
    "    for i in range(num):\n",
    "        print(\"Repeat for {0}\".format(i),end=', ')\n",
    "'''\n",
    "# 执行的是do_it, setup负责准备好环境变量\n",
    "t = timeit.timeit(\"do_it(num)\", setup=s+\"num=3\", number=10)\n",
    "print(t)"
   ]
  },
  {
   "cell_type": "code",
   "execution_count": 60,
   "metadata": {},
   "outputs": [
    {
     "name": "stdout",
     "output_type": "stream",
     "text": [
      "3\n",
      "1\n",
      "\n",
      "None\n",
      "3\n"
     ]
    }
   ],
   "source": [
    "a = 1\n",
    "b = 2\n",
    "print(eval('a + b'))\n",
    "print(a)\n",
    "print()\n",
    "print(exec(\"a += b\"))\n",
    "print(a)"
   ]
  },
  {
   "cell_type": "markdown",
   "metadata": {},
   "source": [
    "## datetime.datetime.模块\n",
    "- 提供比较好用的时间"
   ]
  },
  {
   "cell_type": "code",
   "execution_count": 95,
   "metadata": {},
   "outputs": [
    {
     "name": "stdout",
     "output_type": "stream",
     "text": [
      "2020-10-04 14:28:19.576125\n"
     ]
    }
   ],
   "source": [
    "from datetime import datetime as dt\n",
    "\n",
    "print(dt.now())"
   ]
  },
  {
   "cell_type": "markdown",
   "metadata": {},
   "source": [
    "# os - 操作系统相关\n",
    "- 跟操作系统相关, 主要是文件操作\n",
    "- 跟操作系统相关的操作, 包含在约3个模块里\n",
    "    - os, 操过系统目录相关\n",
    "    - os.path, 系统路径相关操作\n",
    "    - shutil, 高级文件操作, 目录树的操作, 文件赋值, 删除, 移动\n",
    "- 路径:\n",
    "    - 绝对路径: 从系统根目录开始\n",
    "    - 相对路径: 以当前环境开始的相对的地方"
   ]
  },
  {
   "cell_type": "markdown",
   "metadata": {},
   "source": [
    "## os模块"
   ]
  },
  {
   "cell_type": "code",
   "execution_count": 74,
   "metadata": {},
   "outputs": [
    {
     "name": "stdout",
     "output_type": "stream",
     "text": [
      "/home/tlxy/tulingxueyuan\n"
     ]
    }
   ],
   "source": [
    "import os\n",
    "# getcwd() 获取当前的工作目录\n",
    "# 格式: os.getcwd()\n",
    "# 返回:当前工作目录的字符串\n",
    "# 当前目录就是程序在进行文件相关操作, 默认查找文件的目录\n",
    "\n",
    "my_dir = os.getcwd()\n",
    "print(my_dir)"
   ]
  },
  {
   "cell_type": "code",
   "execution_count": 75,
   "metadata": {},
   "outputs": [
    {
     "name": "stdout",
     "output_type": "stream",
     "text": [
      "/home/tlxy\n",
      "/home/tlxy/tulingxueyuan\n"
     ]
    }
   ],
   "source": [
    "# chdir() 改变当前工作目录\n",
    "# 格式: os.chdir()\n",
    "# 返回值无\n",
    "\n",
    "os.chdir('/home/tlxy')\n",
    "my_dir = os.getcwd()\n",
    "print(my_dir)\n",
    "\n",
    "os.chdir('/home/tlxy/tulingxueyuan/')\n",
    "my_dir = os.getcwd()\n",
    "print(my_dir)"
   ]
  },
  {
   "cell_type": "code",
   "execution_count": 76,
   "metadata": {},
   "outputs": [
    {
     "name": "stdout",
     "output_type": "stream",
     "text": [
      "['基础概念复习 + OOP.ipynb', 'TKinter-贪吃蛇.ipynb', 'testfile', 'str_num.txt', 'venv', 'Tkinter项目-屏保.ipynb', 'note_oop.py', 'img', 'CookBook_and_code-master', 'math_random模块.py', 'Tkinter-计算器-飞机大战.ipynb', '函数式编程.ipynb', 'test_cfg.py', 'OOP复习.ipynb', 'War_AirPlane', 'test_config.cfg', '.idea', '.ipynb_checkpoints', 'README.md', 'note_oop.md', '.git', '包_模块_异常.ipynb', 'venv1']\n"
     ]
    }
   ],
   "source": [
    "# listdir() 获取一个目录中所有子目录和文件的名称列表\n",
    "# 格式: os.listdir(路径)\n",
    "# \n",
    "ld = os.listdir()\n",
    "print(ld)"
   ]
  },
  {
   "cell_type": "code",
   "execution_count": 77,
   "metadata": {},
   "outputs": [
    {
     "name": "stdout",
     "output_type": "stream",
     "text": [
      "None\n"
     ]
    }
   ],
   "source": [
    "# makedirs()  递归创建文件夹\n",
    "# 格式: os.makedirs(递归路径)\n",
    "# 递归路径: 多个文件夹层层包含的路径就是递归路径\n",
    "'''Help on function makedirs in module os:\n",
    "\n",
    "makedirs(name, mode=511, exist_ok=False)\n",
    "    makedirs(name [, mode=0o777][, exist_ok=False])\n",
    "    \n",
    "    Super-mkdir; create a leaf directory and all intermediate ones.  Works like\n",
    "    mkdir, except that any intermediate path segment (not just the rightmost)\n",
    "    will be created if it does not exist. If the target directory already\n",
    "    exists, raise an OSError if exist_ok is False. Otherwise no exception is\n",
    "    raised.  This is recursive.\n",
    "'''\n",
    "\n",
    "rst = os.makedirs('Sunshine', mode=511, exist_ok=False)\n",
    "print(rst)"
   ]
  },
  {
   "cell_type": "code",
   "execution_count": 78,
   "metadata": {},
   "outputs": [
    {
     "name": "stdout",
     "output_type": "stream",
     "text": [
      "0\n"
     ]
    }
   ],
   "source": [
    "# system()运行系统shell命令\n",
    "# 格式: os.system(系统命令)\n",
    "# 返回值: 打开一个shell或者终端\n",
    "# ls是列出当前文件和文件夹的系统命令\n",
    "# 一般推荐使用subprocess代替.\n",
    "\n",
    "# rst = os.system(\"ls\")\n",
    "# print(rst)\n",
    "\n",
    "# 创建一个文件dana.haha\n",
    "rst = os.system(\"touch dana.haha\")\n",
    "print(rst)"
   ]
  },
  {
   "cell_type": "code",
   "execution_count": 79,
   "metadata": {},
   "outputs": [
    {
     "name": "stdout",
     "output_type": "stream",
     "text": [
      "/var/sw/anaconda3/bin:/home/tlxy/bin:/home/tlxy/.local/bin:/var/sw/anaconda3/bin:/usr/local/sbin:/usr/local/bin:/usr/sbin:/usr/bin:/sbin:/bin:/usr/games:/usr/local/games:/snap/bin\n"
     ]
    }
   ],
   "source": [
    "# getenv() 获取指定的系统环境变量值  # 对应的还有putenv()\n",
    "# 格式: os.getenv('环境变量名')\n",
    "# 返回值: 指定环境变量名对应的值\n",
    "rst = os.getenv('PATH')\n",
    "print(rst)"
   ]
  },
  {
   "cell_type": "code",
   "execution_count": 80,
   "metadata": {
    "collapsed": true
   },
   "outputs": [],
   "source": [
    "# exit()  退出当前程序\n",
    "# 格式: exit()\n",
    "# 返回值:无"
   ]
  },
  {
   "cell_type": "markdown",
   "metadata": {},
   "source": [
    "## 值部分\n",
    "- os.curdir: current directory, \n",
    "- os.pardir: parent directory, \n",
    "- os.sep: 当前系统的路径分隔符\n",
    "    - win:\\\n",
    "    - linux:/\n",
    "- os.linesep: 当前系统的换行符\n",
    "    - win: \\r\\n\n",
    "    - unix, linux, macos: \\n\n",
    "- os.name: 当前系统名称\n",
    "    - win: nt\n",
    "    - mac, unix, linux: posix\n",
    "\n",
    "- 换行符不要手敲,要用模块来操作,否则切换操作系统时候,会蛋疼."
   ]
  },
  {
   "cell_type": "code",
   "execution_count": 81,
   "metadata": {
    "scrolled": true
   },
   "outputs": [
    {
     "name": "stdout",
     "output_type": "stream",
     "text": [
      ".\n",
      "..\n",
      "/\n",
      "\n",
      "\n",
      "posix\n"
     ]
    }
   ],
   "source": [
    "print(os.curdir)\n",
    "print(os.pardir)\n",
    "print(os.sep)\n",
    "print(os.linesep)\n",
    "# linux操作系统的名称是posix.\n",
    "print(os.name)"
   ]
  },
  {
   "cell_type": "markdown",
   "metadata": {},
   "source": [
    "## os.path 模块, 和路径相关的模块"
   ]
  },
  {
   "cell_type": "code",
   "execution_count": 82,
   "metadata": {},
   "outputs": [
    {
     "name": "stdout",
     "output_type": "stream",
     "text": [
      "/home/tlxy/tulingxueyuan\n"
     ]
    }
   ],
   "source": [
    "import os.path as op\n",
    "# abspath() 将路径转化为绝对路径 absolute\n",
    "# linux中,    .代表当前目录     ..代表父目录\n",
    "\n",
    "absp = op.abspath(\".\")\n",
    "print(absp)"
   ]
  },
  {
   "cell_type": "code",
   "execution_count": 83,
   "metadata": {},
   "outputs": [
    {
     "name": "stdout",
     "output_type": "stream",
     "text": [
      "tulingxueyuan\n"
     ]
    }
   ],
   "source": [
    "# basename()获取路径中的文件名部分\n",
    "# 返回值: 文件名的字符串\n",
    "\n",
    "bn = op.basename(\"/home/tlxy/tulingxueyuan\")\n",
    "print(bn)"
   ]
  },
  {
   "cell_type": "code",
   "execution_count": 84,
   "metadata": {},
   "outputs": [
    {
     "name": "stdout",
     "output_type": "stream",
     "text": [
      "/home/tlxy/dana.haha\n"
     ]
    }
   ],
   "source": [
    "# join() 将多个路径拼合成一个路径\n",
    "# 格式: os.path.join(路径1,路径2...)\n",
    "# 返回: 新路径的字符串形式 help(op.join)\n",
    "\n",
    "bd = \"/home/tlxy/\"\n",
    "fn = \"dana.haha\"\n",
    "\n",
    "j = op.join(bd, fn)\n",
    "print(j)\n"
   ]
  },
  {
   "cell_type": "code",
   "execution_count": 85,
   "metadata": {},
   "outputs": [
    {
     "name": "stdout",
     "output_type": "stream",
     "text": [
      "('/home/tlxy', 'dana.haha')\n"
     ]
    }
   ],
   "source": [
    "# split() 将路径切割为文件夹部分和当前文件夹部分\n",
    "# 格式:\n",
    "# 返回值: 元祖\n",
    "\n",
    "t = op.split(\"/home/tlxy/dana.haha\")\n",
    "print(t)"
   ]
  },
  {
   "cell_type": "code",
   "execution_count": 86,
   "metadata": {},
   "outputs": [
    {
     "name": "stdout",
     "output_type": "stream",
     "text": [
      "True\n",
      "False\n"
     ]
    }
   ],
   "source": [
    "# isdir #检测是否是目录\n",
    "rst = op.isdir(\"/home/tlxy/\")\n",
    "print(rst)\n",
    "rst = op.isdir(\"/home/tlxy/dana.haha\")\n",
    "print(rst)"
   ]
  },
  {
   "cell_type": "code",
   "execution_count": 126,
   "metadata": {},
   "outputs": [
    {
     "name": "stdout",
     "output_type": "stream",
     "text": [
      "True\n",
      "/home/tlxy/tulingxueyuan/dana.haha\n"
     ]
    }
   ],
   "source": [
    "# exists() 检测文件或者目录是否存在\n",
    "\n",
    "e = op.exists(\"dana.haha\")\n",
    "s = op.abspath(\"dana.haha\")\n",
    "print(e)\n",
    "print(s)"
   ]
  },
  {
   "cell_type": "markdown",
   "metadata": {},
   "source": [
    "# Shutil 模块\n",
    "- 复制粘贴等等"
   ]
  },
  {
   "cell_type": "code",
   "execution_count": 87,
   "metadata": {},
   "outputs": [
    {
     "name": "stdout",
     "output_type": "stream",
     "text": [
      "/home/tlxy/tulingxueyuan/haha.haha\n"
     ]
    }
   ],
   "source": [
    "import shutil\n",
    "# copy() 复制文件\n",
    "# 格式: shutil.copy(来源路径, 目标路径)\n",
    "\n",
    "rst = shutil.copy(\"/home/tlxy/tulingxueyuan/dana.haha\", \"/home/tlxy/tulingxueyuan/haha.haha\")\n",
    "print(rst)"
   ]
  },
  {
   "cell_type": "code",
   "execution_count": 88,
   "metadata": {
    "collapsed": true
   },
   "outputs": [],
   "source": [
    "# copy2() 复制文件, 保留元数据(文件信息)\n",
    "# 格式同上\n",
    "# 返回值: 目标路径,同上\n",
    "# 和copy()的唯一区别是复制文件时尽量保留元数据.比如创建时间, 修改人等."
   ]
  },
  {
   "cell_type": "code",
   "execution_count": 89,
   "metadata": {},
   "outputs": [
    {
     "data": {
      "text/plain": [
       "'/home/tlxy/tulingxueyuan/haha.haha'"
      ]
     },
     "execution_count": 89,
     "metadata": {},
     "output_type": "execute_result"
    }
   ],
   "source": [
    "# copyfile() 将一个文件中的内容复制到另一个文件当中\n",
    "\n",
    "shutil.copyfile(\"/home/tlxy/tulingxueyuan/dana.haha\", \"/home/tlxy/tulingxueyuan/haha.haha\")"
   ]
  },
  {
   "cell_type": "code",
   "execution_count": 90,
   "metadata": {},
   "outputs": [
    {
     "name": "stdout",
     "output_type": "stream",
     "text": [
      "/home/tlxy/dana.haha\n",
      "/home/tlxy/tulingxueyuan/dana.haha\n"
     ]
    }
   ],
   "source": [
    "# move(file, path) 移动文件/文件夹\n",
    "rst = shutil.move(\"/home/tlxy/tulingxueyuan/dana.haha\", \"/home/tlxy/\")\n",
    "print(rst)\n",
    "rst = shutil.move(\"/home/tlxy/dana.haha\", \"/home/tlxy/tulingxueyuan\")\n",
    "print(rst)"
   ]
  },
  {
   "cell_type": "markdown",
   "metadata": {},
   "source": [
    "## 归档和压缩\n",
    "- 归档: 把多个文件或者文件夹合并到一个文件当中.\n",
    "- 压缩: 用算法把多个文件或者文件夹无损或者有损合并到一个文件当中."
   ]
  },
  {
   "cell_type": "code",
   "execution_count": 91,
   "metadata": {},
   "outputs": [
    {
     "name": "stdout",
     "output_type": "stream",
     "text": [
      "/home/tlxy/tulingxueyuan/Sunshine.zip\n"
     ]
    }
   ],
   "source": [
    "# make_archive() 归档操作\n",
    "# 格式: shutil.make_archive('归.档后的目录和文件名', '后缀', '需要归档的文件夹')\n",
    "# 返回值: 归档后的地址/home/tlxy/tulingxueyuan/Sunshine/\n",
    "\n",
    "rst = shutil.make_archive(\"/home/tlxy/tulingxueyuan/Sunshine\", 'zip', \"/home/tlxy/tulingxueyuan/Sunshine\")\n",
    "print(rst)"
   ]
  },
  {
   "cell_type": "code",
   "execution_count": 94,
   "metadata": {},
   "outputs": [
    {
     "name": "stdout",
     "output_type": "stream",
     "text": [
      "Help on function unpack_archive in module shutil:\n",
      "\n",
      "unpack_archive(filename, extract_dir=None, format=None)\n",
      "    Unpack an archive.\n",
      "    \n",
      "    `filename` is the name of the archive.\n",
      "    \n",
      "    `extract_dir` is the name of the target directory, where the archive\n",
      "    is unpacked. If not provided, the current working directory is used.\n",
      "    \n",
      "    `format` is the archive format: one of \"zip\", \"tar\", \"gztar\", \"bztar\",\n",
      "    or \"xztar\".  Or any other registered format.  If not provided,\n",
      "    unpack_archive will use the filename extension and see if an unpacker\n",
      "    was registered for that extension.\n",
      "    \n",
      "    In case none is found, a ValueError is raised.\n",
      "\n"
     ]
    }
   ],
   "source": [
    "# unpack_archive() 反向归档操作, 相当于解压\n",
    "help(shutil.unpack_archive)"
   ]
  },
  {
   "cell_type": "markdown",
   "metadata": {},
   "source": [
    "## zip - 压缩包\n",
    "- 模块名称叫 zipfile"
   ]
  },
  {
   "cell_type": "code",
   "execution_count": 143,
   "metadata": {
    "collapsed": true
   },
   "outputs": [],
   "source": [
    "import zipfile\n",
    "# zipfile.ZipFile()\n",
    "# 创建一个ZipFile对象,表示一个zip文件\n",
    "\n",
    "zf = zipfile.ZipFile(\"/home/tlxy/tulingxueyuan/Sunshine.zip\")"
   ]
  },
  {
   "cell_type": "code",
   "execution_count": 146,
   "metadata": {},
   "outputs": [
    {
     "name": "stdout",
     "output_type": "stream",
     "text": [
      "<ZipInfo filename='dana.haha' compress_type=deflate filemode='-rw-rw-r--' file_size=245 compress_size=213>\n"
     ]
    }
   ],
   "source": [
    "# ZipFile.getinfo(name)\n",
    "# 获取zip文件内指定文件名的各项信息\n",
    "\n",
    "rst = zf.getinfo(\"dana.haha\")\n",
    "print(rst)"
   ]
  },
  {
   "cell_type": "code",
   "execution_count": 147,
   "metadata": {},
   "outputs": [
    {
     "name": "stdout",
     "output_type": "stream",
     "text": [
      "['haha.haha', 'dana.haha']\n"
     ]
    }
   ],
   "source": [
    "# ZipFile.namelist()\n",
    "# 获取压缩包内文件列表\n",
    "\n",
    "nl = zf.namelist()\n",
    "print(nl)"
   ]
  },
  {
   "cell_type": "code",
   "execution_count": 149,
   "metadata": {},
   "outputs": [
    {
     "name": "stdout",
     "output_type": "stream",
     "text": [
      "None\n"
     ]
    }
   ],
   "source": [
    "# ZipFile.extractall()\n",
    "# 解压zip文档中的所有文件到指定目录, 默认为当前目录.\n",
    "\n",
    "rst = zf.extractall(\"/home/tlxy/tulingxueyuan/newdir\")\n",
    "print(rst)"
   ]
  },
  {
   "cell_type": "markdown",
   "metadata": {},
   "source": [
    "# random模块\n",
    "- 随机数\n",
    "- 所有的随机模块都是伪随机"
   ]
  },
  {
   "cell_type": "code",
   "execution_count": null,
   "metadata": {
    "collapsed": true
   },
   "outputs": [],
   "source": [
    "# random() 获取0-1之间的随机小数\n",
    "# 参见py文件笔记"
   ]
  },
  {
   "cell_type": "code",
   "execution_count": null,
   "metadata": {
    "collapsed": true
   },
   "outputs": [],
   "source": []
  }
 ],
 "metadata": {
  "kernelspec": {
   "display_name": "Python 3",
   "language": "python",
   "name": "python3"
  },
  "language_info": {
   "codemirror_mode": {
    "name": "ipython",
    "version": 3
   },
   "file_extension": ".py",
   "mimetype": "text/x-python",
   "name": "python",
   "nbconvert_exporter": "python",
   "pygments_lexer": "ipython3",
   "version": "3.6.3"
  }
 },
 "nbformat": 4,
 "nbformat_minor": 2
}
