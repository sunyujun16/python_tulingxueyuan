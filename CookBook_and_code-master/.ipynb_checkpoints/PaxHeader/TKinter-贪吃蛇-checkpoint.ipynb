102 path=tulingxueyuan/CookBook_and_code-master/.ipynb_checkpoints/TKinter-贪吃蛇-checkpoint.ipynb
27 atime=1602642322.924934
