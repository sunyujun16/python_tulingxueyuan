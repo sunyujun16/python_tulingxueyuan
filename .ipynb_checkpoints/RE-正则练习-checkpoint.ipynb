{
 "cells": [
  {
   "cell_type": "markdown",
   "metadata": {},
   "source": [
    "# RE使用大致步骤\n",
    "1. 使用compile将表示正则的字符串编译为一个pattern对象\n",
    "2. 通过pattern对象提供一系列方法对文本进行查找匹配, 获得匹配结果, 一个Match对象\n",
    "- 最后通过使用match对象提供的属性和方法获得信息, 根据需要进行操作\n",
    "\n",
    "# RE常用函数\n",
    "- group():获得一个或者多个分组匹配的字符串, 当要获得整个匹配的子串时, 直接使用group或者group()\n",
    "- start:获取分组匹配的子串在整个字符串中的起始位置,参数默认为0\n",
    "- end:获取结束位置\n",
    "- span:返回的结构技术\n"
   ]
  },
  {
   "cell_type": "markdown",
   "metadata": {},
   "source": [
    "#### 正则的写法\n",
    "- .(点号):表示任意一个字符，除了\\n, 比如查找所有的一个字符 \\.\n",
    "- []: 匹配中括号中列举的任意字符，比如[L,Y,0] , LLY, Y0,   LIU(不行)\n",
    "- \\d: 任意一个数字         decimal\n",
    "- \\D:除了数字都可以\n",
    "- \\s:表示空格，tab键          space,tab\n",
    "- \\S:除了空白符号\n",
    "- \\w: 单词字符， 就是a-z, A-Z, 0-9, _            writers\n",
    "- \\W: 除了\n",
    "- \\*： 表示前面内容重复零次或者多次，\\w* , 可以没有\n",
    "- +: 表示前面内容至少出现一次, 必须有\n",
    "- ？： 前面才出现的内容零次或者一次\n",
    "- {m,n}:允许前面内容出现最少m次，最多n次\n",
    "- ^:匹配字符串的开始\n",
    "- $:匹配字符串的结尾\n",
    "- \\b:匹配单词的边界\n",
    "- ():对正则表达式内容进行分组， 从第一个括号开始，编号逐渐增大\n",
    "    \n",
    "        验证一个数字： ^\\d$\n",
    "        必须有一个数字，最少一位：^\\d+$\n",
    "        只能出现数字，且位数为5-10位： ^\\d{5,10}$\n",
    "        注册者输入年龄，要求16岁以上，99岁以下： ^[16-99]$\n",
    "        只能输入英文字符和数字： ^[A-Za-z0-9]$\n",
    "        验证qq号码： [0-9]{5,12}\n",
    "        \n",
    "- \\A: 只匹配字符串开头， \\Aabcd, 则abcd\n",
    "- \\Z: 仅匹配字符串末尾， abcd\\Z, abcd\n",
    "- |: 左右任意一个\n",
    "- (?P<name>...): 分组，除了原来的编号再制定一个别名， (?P<id>12345){2}， 1234512345\n",
    "- (?P=name): 引用分组， \n"
   ]
  },
  {
   "cell_type": "markdown",
   "metadata": {},
   "source": [
    "## match"
   ]
  },
  {
   "cell_type": "code",
   "execution_count": 3,
   "metadata": {},
   "outputs": [
    {
     "name": "stdout",
     "output_type": "stream",
     "text": [
      "<_sre.SRE_Match object; span=(0, 25), match='one12twothree12334four546'>\n",
      "None\n"
     ]
    }
   ],
   "source": [
    "import re\n",
    "\n",
    "s = 'I love Liuyihan'\n",
    "\n",
    "# 查找数字\n",
    "p = re.compile(r'\\w+')\n",
    "\n",
    "# 按照p的规则对字符串进行查找\n",
    "m = p.match(\"one12twothree12334four546,fuck her.\")\n",
    "\n",
    "print(m)\n",
    "\n",
    "p = re.compile(r'\\d+')\n",
    "m = p.match('das fd, dd34fa. *& asd1f^$%fgggg ggd ')\n",
    "print(m)"
   ]
  },
  {
   "cell_type": "code",
   "execution_count": 6,
   "metadata": {},
   "outputs": [
    {
     "name": "stdout",
     "output_type": "stream",
     "text": [
      "<_sre.SRE_Match object; span=(3, 5), match='12'>\n"
     ]
    }
   ],
   "source": [
    "import re\n",
    "\n",
    "s = 'I love Liuyihan'\n",
    "\n",
    "# 查找数字\n",
    "p = re.compile(r'\\d+')\n",
    "\n",
    "# 按照p的规则对字符串进行查找\n",
    "# 参数3,16表示查找范围,下标\n",
    "m = p.match(\"one12twoth ree12334four546,fuck her.\", 3, 16)\n",
    "\n",
    "print(m)\n",
    "\n",
    "# match只返回一个结果, 即找到的第一个\n",
    "# 除了参数输入3, 否则都返回None, 草他妈的傻逼老师"
   ]
  },
  {
   "cell_type": "code",
   "execution_count": 7,
   "metadata": {
    "scrolled": false
   },
   "outputs": [
    {
     "name": "stdout",
     "output_type": "stream",
     "text": [
      "12\n",
      "3\n",
      "5\n"
     ]
    }
   ],
   "source": [
    "print(m[0])\n",
    "print(m.start(0))\n",
    "print(m.end())"
   ]
  },
  {
   "cell_type": "code",
   "execution_count": 12,
   "metadata": {},
   "outputs": [
    {
     "name": "stdout",
     "output_type": "stream",
     "text": [
      "<_sre.SRE_Match object; span=(9, 22), match='love Liuyihan'>\n"
     ]
    }
   ],
   "source": [
    "import re\n",
    "\n",
    "# re.I 表示忽略大小写\n",
    "p = re.compile(r'([a-z]+) ([a-z]+)', re.I)\n",
    "\n",
    "m = p.match(\"I really love Liuyihan ?\",9)\n",
    "print(m)"
   ]
  },
  {
   "cell_type": "code",
   "execution_count": 9,
   "metadata": {
    "scrolled": true
   },
   "outputs": [
    {
     "name": "stdout",
     "output_type": "stream",
     "text": [
      "love Liuyihan\n",
      "9\n",
      "22\n"
     ]
    }
   ],
   "source": [
    "# 0表示全部, 下标从1开始. group 指的是 love 和 yihan 两个组\n",
    "print(m.group(0))\n",
    "print(m.start())\n",
    "print(m.end())"
   ]
  },
  {
   "cell_type": "code",
   "execution_count": 10,
   "metadata": {
    "scrolled": false
   },
   "outputs": [
    {
     "name": "stdout",
     "output_type": "stream",
     "text": [
      "love\n",
      "9\n",
      "13\n",
      "14\n",
      "22\n"
     ]
    }
   ],
   "source": [
    "print(m.group(1))\n",
    "print(m.start(1))\n",
    "print(m.end(1))\n",
    "print(m.start(2))\n",
    "print(m.end(2))"
   ]
  },
  {
   "cell_type": "code",
   "execution_count": 51,
   "metadata": {
    "scrolled": true
   },
   "outputs": [
    {
     "name": "stdout",
     "output_type": "stream",
     "text": [
      "('love', 'Liuyihan')\n"
     ]
    }
   ],
   "source": [
    "print(m.groups()) # 调用出元组形式"
   ]
  },
  {
   "cell_type": "markdown",
   "metadata": {},
   "source": [
    "## 查找\n",
    "- search(str, [, pos[, endpos]]):\n",
    "- findall:查找所有\n",
    "- finditer: 返回查找结果的可迭代形式"
   ]
  },
  {
   "cell_type": "code",
   "execution_count": 13,
   "metadata": {},
   "outputs": [
    {
     "name": "stdout",
     "output_type": "stream",
     "text": [
      "12\n"
     ]
    }
   ],
   "source": [
    "import re\n",
    "\n",
    "p = re.compile(r'\\d+')\n",
    "\n",
    "m = p.search(\"one12two34three567four\")\n",
    "\n",
    "print(m.group())\n",
    "# match找不到, search能找到,嘿!"
   ]
  },
  {
   "cell_type": "code",
   "execution_count": 15,
   "metadata": {},
   "outputs": [
    {
     "name": "stdout",
     "output_type": "stream",
     "text": [
      "['12', '34', '567']\n",
      "['54', '34', '567']\n"
     ]
    }
   ],
   "source": [
    "r = p.findall(\"one12two34three567four\")\n",
    "\n",
    "print(r)\n",
    "r[0] = '54'\n",
    "print(r)"
   ]
  },
  {
   "cell_type": "code",
   "execution_count": null,
   "metadata": {},
   "outputs": [],
   "source": [
    "# sub替换(rep1,str[, count])\n",
    "\n",
    "import re\n",
    "\n",
    "p = re.compile(r'(\\w+) (\\w+)')\n",
    "\n",
    "s = \"hello 123 Liu 456 yihan, I love you.\"\n",
    "\n",
    "r = p.sub(r'Hello World', s)"
   ]
  },
  {
   "cell_type": "code",
   "execution_count": null,
   "metadata": {},
   "outputs": [],
   "source": []
  },
  {
   "cell_type": "code",
   "execution_count": null,
   "metadata": {},
   "outputs": [],
   "source": []
  },
  {
   "cell_type": "code",
   "execution_count": null,
   "metadata": {},
   "outputs": [],
   "source": []
  }
 ],
 "metadata": {
  "kernelspec": {
   "display_name": "Python 3",
   "language": "python",
   "name": "python3"
  },
  "language_info": {
   "codemirror_mode": {
    "name": "ipython",
    "version": 3
   },
   "file_extension": ".py",
   "mimetype": "text/x-python",
   "name": "python",
   "nbconvert_exporter": "python",
   "pygments_lexer": "ipython3",
   "version": "3.6.12"
  }
 },
 "nbformat": 4,
 "nbformat_minor": 4
}
