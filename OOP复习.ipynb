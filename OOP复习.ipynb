{
 "cells": [
  {
   "cell_type": "markdown",
   "metadata": {
    "collapsed": true
   },
   "source": [
    "# oop习题"
   ]
  },
  {
   "cell_type": "markdown",
   "metadata": {},
   "source": [
    "### 定义一个学生类，有下面的属性\n",
    "- 姓名\n",
    "- 年龄\n",
    "- 成绩（语文数学英语）每科成绩显示整数，四舍五入，类方法\n",
    "- 获取学生的姓名，get_name，返回类型str\n",
    "- 获取学生的年纪，get_age，返回类型int\n",
    "- 返回3门科目中的最高分数，get_course()返回类型int"
   ]
  },
  {
   "cell_type": "code",
   "execution_count": 32,
   "metadata": {},
   "outputs": [
    {
     "name": "stdout",
     "output_type": "stream",
     "text": [
      "98\n",
      "刘奕含\n",
      "26\n",
      "75\n",
      "刘奕含\n"
     ]
    }
   ],
   "source": [
    "class Student(object):\n",
    "\n",
    "    name = None\n",
    "    age = None\n",
    "    chs_grade = 0\n",
    "    mth_grade = 0\n",
    "    eng_grade = 0\n",
    "    \n",
    "    def get_name(self,name):\n",
    "        self.name = str(name)\n",
    "        return self.name\n",
    "    \n",
    "    def get_age(self,age):\n",
    "        self.age = int(age)\n",
    "        return self.age\n",
    "    \n",
    "    def get_course(self,chs_grade,mth_grade,eng_grade):\n",
    "        self.chs_grade = round(chs_grade)\n",
    "        self.mth_grade = round(mth_grade)\n",
    "        self.eng_grade = round(eng_grade)\n",
    "        return max(self.chs_grade,self.mth_grade,self.eng_grade)\n",
    "    \n",
    "me = Student()\n",
    "\n",
    "print(me.get_course(75.3,98.14,85.21))\n",
    "\n",
    "print(me.get_name('刘奕含'))\n",
    "print(me.get_age(26))\n",
    "\n",
    "print(me.chs_grade)\n",
    "print(me.name)"
   ]
  },
  {
   "cell_type": "code",
   "execution_count": 69,
   "metadata": {
    "scrolled": true
   },
   "outputs": [
    {
     "name": "stdout",
     "output_type": "stream",
     "text": [
      "英语,96\n",
      "孙宇军\n",
      "26\n"
     ]
    }
   ],
   "source": [
    "class Student(object):\n",
    "\n",
    "    def __init__(self,name,age,chs_grade,mth_grade,eng_grade):\n",
    "        self.name = str(name)\n",
    "        self.age = int(age)\n",
    "        self.chs_grade = round(chs_grade)\n",
    "        self.mth_grade = round(mth_grade)\n",
    "        self.eng_grade = round(eng_grade)\n",
    "        self.grade = {self.chs_grade:'语文',self.mth_grade:'数学',self.eng_grade:'英语'}\n",
    "        \n",
    "# '''  这段画蛇添足，还写错了好像......\n",
    "#     def __repr__(self,name,age,chs_grade,mth_grade,eng_grade):\n",
    "#         return self.name\n",
    "#         return self.age\n",
    "#         return self.chs_grade\n",
    "#         return self.mth_grade\n",
    "#         return self.eng_grade   \n",
    "# ''' \n",
    "\n",
    "    def get_name(self):\n",
    "        return self.name\n",
    "    \n",
    "    def get_age(self):\n",
    "        return self.age\n",
    "    \n",
    "    def get_course(self):\n",
    "        a = max(self.chs_grade,self.mth_grade,self.eng_grade)\n",
    "        kemu = self.grade.get(a)\n",
    "        return kemu + ',' + str(a)\n",
    "me = Student('孙宇军',26,54.3,58.6,95.7)\n",
    "\n",
    "print(me.get_course())\n",
    "\n",
    "print(me.get_name())\n",
    "print(me.get_age())\n",
    "\n",
    "# 啊哈哈哈，啊哈哈哈哈哈哈"
   ]
  },
  {
   "cell_type": "markdown",
   "metadata": {},
   "source": [
    "### 定义一个字典类：DictClass，具备如下功能\n",
    "- 删除某个key,del_key(key),返回删除后的字典\n",
    "- 判断某个键是否在字典里get_dict()，如果在返回对应的值，如果不在返回‘not found’\n",
    "- 返回键组成的列表get_key()，返回类型：list\n",
    "- 合并字典，并且返回合并后字典的values组成的列表，update_dict()"
   ]
  },
  {
   "cell_type": "code",
   "execution_count": 127,
   "metadata": {
    "scrolled": true
   },
   "outputs": [
    {
     "name": "stdout",
     "output_type": "stream",
     "text": [
      "没有这个key，你整错了\n",
      "{'a': 1, 'b': 2, 'c': 3, 'd': 4}\n",
      "= = = = = = = = = = = = = = = = = = = = \n",
      "not found\n",
      "= = = = = = = = = = = = = = = = = = = = \n",
      "dict_keys(['a', 'b', 'c', 'd'])\n",
      "= = = = = = = = = = = = = = = = = = = = \n",
      "dict_values([1, 2, 3, 4, 5])\n",
      "{'a': 1, 'b': 2, 'c': 3, 'd': 4, 'e': 5}\n"
     ]
    }
   ],
   "source": [
    "class DictClass():\n",
    "    \n",
    "    def __init__(self,dick):\n",
    "        self.dict = dict(dick)\n",
    "    \n",
    "#     def __repr__(self):\n",
    "#         return self.dict\n",
    "\n",
    "    def del_key(self,key):\n",
    "        print(self.dict.pop(key,'没有这个key，你整错了')) # \n",
    "        return self.dict\n",
    "    \n",
    "    def get_dict(self,key):\n",
    "        \n",
    "        if key in self.dict.keys():\n",
    "            return self.dict[key]\n",
    "        else:\n",
    "            return 'not found'\n",
    "    \n",
    "    def get_key(self):\n",
    "        return self.dict.keys()\n",
    "            \n",
    "    def update_dict(self,dict2):\n",
    "        self.dict.update(dict2)\n",
    "        return self.dict.values()\n",
    "        \n",
    "\n",
    "# a = {'a':1,'b':2,'c':3,'d':4}\n",
    "a = [('a',1),('b',2),('c',3),('d',4)] # 这证明了构造函数中dict()语句的必要性\n",
    "dict1 = DictClass(a)\n",
    "\n",
    "# print(dict1.dict)\n",
    "\n",
    "# print(a)\n",
    "# print('= '*20) # * * * * * * *\n",
    "\n",
    "print(dict1.del_key('o'))\n",
    "print('= '*20) # * * * * * * *\n",
    "\n",
    "print(dict1.get_dict('e'))\n",
    "print('= '*20) # * * * * * * * notfound\n",
    "\n",
    "print(dict1.get_key())\n",
    "print('= '*20) # * * * * * * *\n",
    "\n",
    "print(dict1.update_dict({'c':3,'e':5}))\n",
    "print(dict1.dict)"
   ]
  },
  {
   "cell_type": "markdown",
   "metadata": {},
   "source": [
    "### 定义一个列表的操作类ListInfo\n",
    "- 包括的方法、\n",
    "    - 列表元素添加:add_key\n",
    "    - 列表元素取值:get_key\n",
    "    - 列表合并:update_key\n",
    "    - 删除并且返回最后一个元素：del_key"
   ]
  },
  {
   "cell_type": "code",
   "execution_count": 146,
   "metadata": {},
   "outputs": [
    {
     "name": "stdout",
     "output_type": "stream",
     "text": [
      "添加成功\n",
      "[0, 1, 2, 3, 4, 5]\n",
      "= = = = = = = = = = = = = = = = = = = = = = = = = = = = = = \n",
      "3\n",
      "= = = = = = = = = = = = = = = = = = = = = = = = = = = = = = \n",
      "合并成功\n",
      "[0, 1, 2, 3, 4, 5, 6, 7, 8, 9, 10]\n",
      "= = = = = = = = = = = = = = = = = = = = = = = = = = = = = = \n",
      "5\n"
     ]
    }
   ],
   "source": [
    "class ListInfo():\n",
    "    # 定义self.list\n",
    "    def __init__(self,list_in):\n",
    "        self.list = list(list_in)\n",
    "        pass\n",
    "    \n",
    "    # 定义添加元素方法\n",
    "    def add_key(self,key1):\n",
    "        if isinstance(key1,(str,int)):            \n",
    "            self.list.append(key1)\n",
    "            print('添加成功')\n",
    "            return self.list\n",
    "        else:\n",
    "            return '输入字符串或整型'\n",
    "\n",
    "    # 列表取值\n",
    "    def get_key(self,n):\n",
    "        return self.list[n]\n",
    "    \n",
    "    # 定义列表合并\n",
    "    def update_key(self,list2):\n",
    "        self.list.extend(list2)\n",
    "        print('合并成功')\n",
    "        return self.list\n",
    "    \n",
    "    # 删除并返回最后一个元素\n",
    "    def del_key(self,i):\n",
    "        return self.list.pop(i)\n",
    "\n",
    "a = [0,1,2,3,4]    \n",
    "li = ListInfo(a)\n",
    "key1 = 5\n",
    "list2 = [6,7,8,9,10]\n",
    "n = 3\n",
    "\n",
    "print(li.add_key(key1))\n",
    "print('= '*30)\n",
    "\n",
    "print(li.get_key(n))\n",
    "print('= '*30)\n",
    "\n",
    "print(li.update_key(list2))\n",
    "print('= '*30)\n",
    "\n",
    "print(li.del_key(5))"
   ]
  },
  {
   "cell_type": "code",
   "execution_count": null,
   "metadata": {
    "collapsed": true
   },
   "outputs": [],
   "source": []
  },
  {
   "cell_type": "markdown",
   "metadata": {},
   "source": [
    "### 定义一个集合的操作类\n",
    "- 包括的方法\n",
    "    - 集合元素添加\n",
    "    - 集合的交集\n",
    "    - 集合的并集\n",
    "    - 集合的差集"
   ]
  },
  {
   "cell_type": "code",
   "execution_count": 158,
   "metadata": {},
   "outputs": [
    {
     "name": "stdout",
     "output_type": "stream",
     "text": [
      "添加成功\n",
      "{1, 2, 3, 4, 5, 6, 7, 46, 88}\n",
      "==============================\n",
      "{4, 5, 7}\n",
      "交集如上\n",
      "==============================\n",
      "{1, 2, 3, 4, 5, 6, 7, 200, 100, 300, 46, 88}\n",
      "并集如上\n",
      "==============================\n",
      "{3, 4, 6, 7, 46, 88}\n"
     ]
    }
   ],
   "source": [
    "class SetInfo():\n",
    "    \n",
    "    def __init__(self,s_input):\n",
    "        self.set = s_input\n",
    "    \n",
    "    def add_set(self,k):\n",
    "        if k in self.set:\n",
    "            print('已存在')\n",
    "        else:\n",
    "            self.set.add(k)\n",
    "            print('添加成功')\n",
    "            return self.set\n",
    "    \n",
    "    def intsp_set(self,s_intsc):\n",
    "        print(self.set.intersection(s_intsc))\n",
    "        return '交集如上'\n",
    "    \n",
    "    def union_set(self,s_uni):\n",
    "        print(self.set.union(s_uni))\n",
    "        return '并集如上'\n",
    "    \n",
    "    def diff_set(self,s_diff):\n",
    "        self.set.difference_update(s_diff)\n",
    "        return self.set\n",
    "\n",
    "a = {1,2,3,4,5,6,7,46}    \n",
    "s = SetInfo(a)\n",
    "b = {654,874,651,8,112,2,12,0,1,2,5,100,200}\n",
    "\n",
    "print(s.add_set(88))\n",
    "print('='*30)\n",
    "\n",
    "print(s.intsp_set({4,5,7,8,9}))\n",
    "print('='*30)\n",
    "\n",
    "print(s.union_set({100,200,300}))\n",
    "print('='*30)\n",
    "\n",
    "print(s.diff_set(b))"
   ]
  },
  {
   "cell_type": "code",
   "execution_count": 163,
   "metadata": {
    "collapsed": true
   },
   "outputs": [],
   "source": [
    "# 交集符号&\n",
    "# 并集符号|\n",
    "# 差集符号-\n",
    "# 交集，并集，差集的普通写法和缩写中，执行后的返回值，都是具备一个新的id的集合，而不会修改原集合，除了differen_update()"
   ]
  },
  {
   "cell_type": "code",
   "execution_count": 164,
   "metadata": {},
   "outputs": [
    {
     "name": "stdout",
     "output_type": "stream",
     "text": [
      "添加成功\n",
      "{1, 2, 3, 4, 5, 6, 7, 46, 88}\n",
      "==============================\n",
      "{4, 5, 7}\n",
      "交集如上\n",
      "==============================\n",
      "{1, 2, 3, 4, 5, 6, 7, 200, 100, 300, 46, 88}\n",
      "并集如上\n",
      "==============================\n",
      "{3, 4, 6, 7, 46, 88}\n"
     ]
    }
   ],
   "source": [
    "# 集合符号使用案例：\n",
    "class SetInfo():\n",
    "    \n",
    "    def __init__(self,s_input):\n",
    "        self.set = s_input\n",
    "    \n",
    "    def add_set(self,k):\n",
    "        if k in self.set:\n",
    "            print('已存在')\n",
    "        else:\n",
    "            self.set.add(k)\n",
    "            print('添加成功')\n",
    "            return self.set\n",
    "    \n",
    "    def intsp_set(self,s_intsc):\n",
    "        print(self.set & s_intsc)\n",
    "        return '交集如上'\n",
    "    \n",
    "    def union_set(self,s_uni):\n",
    "        print(self.set | s_uni)\n",
    "        return '并集如上'\n",
    "    \n",
    "    def diff_set(self,s_diff):\n",
    "        self.set.difference_update(s_diff)\n",
    "        return self.set\n",
    "\n",
    "a = {1,2,3,4,5,6,7,46}    \n",
    "s = SetInfo(a)\n",
    "b = {654,874,651,8,112,2,12,0,1,2,5,100,200}\n",
    "\n",
    "print(s.add_set(88))\n",
    "print('='*30)\n",
    "\n",
    "print(s.intsp_set({4,5,7,8,9}))\n",
    "print('='*30)\n",
    "\n",
    "print(s.union_set({100,200,300}))\n",
    "print('='*30)\n",
    "\n",
    "print(s.diff_set(b))"
   ]
  },
  {
   "cell_type": "markdown",
   "metadata": {},
   "source": [
    "### 创建北京和成都两个校区\n",
    "- 创建Linux和Python两个课程\n",
    "- 创建北京校区的Python 3期课程，和成都校区的Linux 1期课程\n",
    "- 管理员创建了北京校区的学员小张，并将其分配在了Python 3期\n",
    "- 管理员创建了讲师小周，并将其分配给了Python 3期\n",
    "- 讲师小周 创建了一条Python 3期的上课记录Day02\n",
    "- 讲师小周为Day02这节课所有的学员批改了作业，小张得了A，小王得了B\n",
    "- 学员小张查看了自己所报的课程\n",
    "- 学员小张查看了自己在Python 3 的成绩列表然后退出了\n",
    "- 学员小张给了讲师小周好评"
   ]
  },
  {
   "cell_type": "markdown",
   "metadata": {},
   "source": [
    "- 先捋一捋所有涉及到的属性和动作,好像是个多继承问题\n",
    "- 属性：\n",
    "    - 两门课；两个校区；讲师小周；学员（张.王.李）；上课记录；成绩单；\n",
    "- 动作：\n",
    "    - 管理员动作：创建讲师、学员，分配讲师、学员\n",
    "    - 讲师动作：创建上课记录，记录中有上课学员信息，给学员赋分\n",
    "    - 学员动作：查看自己报了什么课程，查看成绩，对老师进行评价"
   ]
  },
  {
   "cell_type": "code",
   "execution_count": 1,
   "metadata": {
    "collapsed": true
   },
   "outputs": [],
   "source": [
    "# 这道题先搁置了，题目出得语无伦次，不知道到底想要什么  \n",
    "     "
   ]
  },
  {
   "cell_type": "markdown",
   "metadata": {
    "collapsed": true
   },
   "source": [
    "### 定义一个门票系统\n",
    "- 门票原价100元\n",
    "- 周末时候涨价20%\n",
    "- 小孩半票，12岁\n",
    "- 计算两个成人和一个小孩的平日票价"
   ]
  },
  {
   "cell_type": "markdown",
   "metadata": {
    "collapsed": true
   },
   "source": [
    "- 思路：\n",
    "    - 定义一个游客类，属性含price\n",
    "    - 构造函数，参数含age,date。\n",
    "    - 单独定义price价格函数pay()，用于返回特定实例的价格。\n",
    "    - price用if语句判断其值，return返回类型float。\n",
    "    - 用调用的函数的返回值来相加"
   ]
  },
  {
   "cell_type": "code",
   "execution_count": 15,
   "metadata": {},
   "outputs": [
    {
     "name": "stdout",
     "output_type": "stream",
     "text": [
      "100.0\n",
      "250.0\n"
     ]
    }
   ],
   "source": [
    "class Tourists():\n",
    "    price = 100.0\n",
    "    \n",
    "    def __init__(self,age,date):\n",
    "        if date not in range(1,8):\n",
    "            print('你从外星来的？')\n",
    "        self.age = age\n",
    "        self.date = date        \n",
    "        pass\n",
    "    \n",
    "    def pay(self):\n",
    "        if self.age < 12:\n",
    "            self.price = self.price / 2\n",
    "        if self.date == 6 or self.date == 7:\n",
    "            self.price = self.price * 1.2\n",
    "        return float(self.price)\n",
    "    \n",
    "a = Tourists(30,3)\n",
    "print(a.pay())\n",
    "b = Tourists(11,3)\n",
    "\n",
    "print(2*a.pay() + b.pay())"
   ]
  },
  {
   "cell_type": "markdown",
   "metadata": {
    "collapsed": true
   },
   "source": [
    "### 游戏编程：按以下要求定义一个乌龟类和鱼类并尝试编程\n",
    "- 假设游戏场景为范围(x,y)都是0-10之间的任意数，这里说的是10*10的平面区域，出题人能不能做个人？说明白了\n",
    "- 游戏生成一只乌龟，10条鱼\n",
    "- 他们的移动方向均随机\n",
    "- 乌龟的最大移动能力是2（随机选择移动1还是2），鱼的最大移动能力是1\n",
    "- 当移动到场景边缘，自动反方向移动\n",
    "- 乌龟初始化体力为100，每移动一次，消耗1点\n",
    "- 当乌龟和于重叠，乌龟吃掉鱼，乌龟体力增加20\n",
    "- 鱼无体力属性\n",
    "- 当乌龟体力值为0或者鱼数量为0时，游戏结束"
   ]
  },
  {
   "cell_type": "markdown",
   "metadata": {},
   "source": [
    "- 思路\n",
    "    - 有一个父类，Game.\n",
    "    - 移动的话可以尝试用mixin来做吗。。。\n",
    "    - 子类：乌龟tutle，鱼fish\n",
    "    - 乌龟和鱼都具备移动的方法。乌龟有体力属性，而鱼没有。但他们都有数量属性。\n",
    "    - 体力累计值应该用到全局变量，这样会方便一些。\n",
    "    - 执行的时候利用while和if语句去重复调用乌龟和鱼的移动方法\n",
    "    - 唔...用递归？"
   ]
  },
  {
   "cell_type": "code",
   "execution_count": 121,
   "metadata": {
    "scrolled": true
   },
   "outputs": [
    {
     "name": "stdout",
     "output_type": "stream",
     "text": [
      "1次,('本次龟坐标', 2, 0)，('本次鱼坐标', 0, 1),鱼还剩 2,龟体力还剩 99\n",
      "2次,('本次龟坐标', 1, 0)，('本次鱼坐标', 0, 2),鱼还剩 2,龟体力还剩 98\n",
      "3次,('本次龟坐标', 1, 1)，('本次鱼坐标', 0, 3),鱼还剩 2,龟体力还剩 97\n",
      "4次,('本次龟坐标', 1, 3)，('本次鱼坐标', 0, 4),鱼还剩 2,龟体力还剩 96\n",
      "5次,('本次龟坐标', 1, 1)，('本次鱼坐标', 1, 4),鱼还剩 2,龟体力还剩 95\n",
      "6次,('本次龟坐标', 1, 3)，('本次鱼坐标', 2, 4),鱼还剩 2,龟体力还剩 94\n",
      "7次,('本次龟坐标', 1, 2)，('本次鱼坐标', 2, 3),鱼还剩 2,龟体力还剩 93\n",
      "8次,('本次龟坐标', 1, 4)，('本次鱼坐标', 2, 4),鱼还剩 2,龟体力还剩 92\n",
      "9次,('本次龟坐标', 1, 4)，('本次鱼坐标', 1, 4),鱼还剩 1,龟体力还剩 111\n",
      "10次,('本次龟坐标', 1, 2)，('本次鱼坐标', 1, 3),鱼还剩 1,龟体力还剩 110\n",
      "11次,('本次龟坐标', 1, 3)，('本次鱼坐标', 1, 2),鱼还剩 1,龟体力还剩 109\n",
      "12次,('本次龟坐标', 1, 2)，('本次鱼坐标', 1, 3),鱼还剩 1,龟体力还剩 108\n",
      "13次,('本次龟坐标', 1, 1)，('本次鱼坐标', 1, 4),鱼还剩 1,龟体力还剩 107\n",
      "14次,('本次龟坐标', 2, 1)，('本次鱼坐标', 1, 3),鱼还剩 1,龟体力还剩 106\n",
      "15次,('本次龟坐标', 2, 2)，('本次鱼坐标', 1, 4),鱼还剩 1,龟体力还剩 105\n",
      "16次,('本次龟坐标', 4, 2)，('本次鱼坐标', 1, 5),鱼还剩 1,龟体力还剩 104\n",
      "17次,('本次龟坐标', 5, 2)，('本次鱼坐标', 1, 6),鱼还剩 1,龟体力还剩 103\n",
      "18次,('本次龟坐标', 5, 4)，('本次鱼坐标', 1, 7),鱼还剩 1,龟体力还剩 102\n",
      "19次,('本次龟坐标', 7, 4)，('本次鱼坐标', 1, 7),鱼还剩 1,龟体力还剩 101\n",
      "20次,('本次龟坐标', 7, 2)，('本次鱼坐标', 1, 7),鱼还剩 1,龟体力还剩 100\n",
      "21次,('本次龟坐标', 7, 4)，('本次鱼坐标', 1, 7),鱼还剩 1,龟体力还剩 99\n",
      "22次,('本次龟坐标', 9, 4)，('本次鱼坐标', 1, 7),鱼还剩 1,龟体力还剩 98\n",
      "23次,('本次龟坐标', 9, 3)，('本次鱼坐标', 1, 6),鱼还剩 1,龟体力还剩 97\n",
      "24次,('本次龟坐标', 9, 4)，('本次鱼坐标', 1, 6),鱼还剩 1,龟体力还剩 96\n",
      "25次,('本次龟坐标', 8, 4)，('本次鱼坐标', 2, 6),鱼还剩 1,龟体力还剩 95\n",
      "26次,('本次龟坐标', 9, 4)，('本次鱼坐标', 3, 6),鱼还剩 1,龟体力还剩 94\n",
      "27次,('本次龟坐标', 7, 4)，('本次鱼坐标', 3, 5),鱼还剩 1,龟体力还剩 93\n",
      "28次,('本次龟坐标', 8, 4)，('本次鱼坐标', 3, 6),鱼还剩 1,龟体力还剩 92\n",
      "29次,('本次龟坐标', 9, 4)，('本次鱼坐标', 3, 5),鱼还剩 1,龟体力还剩 91\n",
      "30次,('本次龟坐标', 9, 6)，('本次鱼坐标', 3, 4),鱼还剩 1,龟体力还剩 90\n",
      "31次,('本次龟坐标', 9, 4)，('本次鱼坐标', 3, 5),鱼还剩 1,龟体力还剩 89\n",
      "32次,('本次龟坐标', 9, 6)，('本次鱼坐标', 4, 5),鱼还剩 1,龟体力还剩 88\n",
      "33次,('本次龟坐标', 8, 6)，('本次鱼坐标', 4, 4),鱼还剩 1,龟体力还剩 87\n",
      "34次,('本次龟坐标', 8, 8)，('本次鱼坐标', 5, 4),鱼还剩 1,龟体力还剩 86\n",
      "35次,('本次龟坐标', 7, 8)，('本次鱼坐标', 5, 3),鱼还剩 1,龟体力还剩 85\n",
      "36次,('本次龟坐标', 7, 9)，('本次鱼坐标', 4, 3),鱼还剩 1,龟体力还剩 84\n",
      "37次,('本次龟坐标', 7, 8)，('本次鱼坐标', 4, 4),鱼还剩 1,龟体力还剩 83\n",
      "38次,('本次龟坐标', 7, 9)，('本次鱼坐标', 4, 3),鱼还剩 1,龟体力还剩 82\n",
      "39次,('本次龟坐标', 8, 9)，('本次鱼坐标', 4, 4),鱼还剩 1,龟体力还剩 81\n",
      "40次,('本次龟坐标', 9, 9)，('本次鱼坐标', 3, 4),鱼还剩 1,龟体力还剩 80\n",
      "41次,('本次龟坐标', 9, 9)，('本次鱼坐标', 3, 5),鱼还剩 1,龟体力还剩 79\n",
      "42次,('本次龟坐标', 9, 9)，('本次鱼坐标', 3, 4),鱼还剩 1,龟体力还剩 78\n",
      "43次,('本次龟坐标', 7, 9)，('本次鱼坐标', 4, 4),鱼还剩 1,龟体力还剩 77\n",
      "44次,('本次龟坐标', 7, 8)，('本次鱼坐标', 4, 3),鱼还剩 1,龟体力还剩 76\n",
      "45次,('本次龟坐标', 7, 7)，('本次鱼坐标', 5, 3),鱼还剩 1,龟体力还剩 75\n",
      "46次,('本次龟坐标', 7, 9)，('本次鱼坐标', 5, 2),鱼还剩 1,龟体力还剩 74\n",
      "47次,('本次龟坐标', 7, 8)，('本次鱼坐标', 5, 1),鱼还剩 1,龟体力还剩 73\n",
      "48次,('本次龟坐标', 7, 6)，('本次鱼坐标', 4, 1),鱼还剩 1,龟体力还剩 72\n",
      "49次,('本次龟坐标', 7, 4)，('本次鱼坐标', 4, 1),鱼还剩 1,龟体力还剩 71\n",
      "50次,('本次龟坐标', 7, 6)，('本次鱼坐标', 3, 1),鱼还剩 1,龟体力还剩 70\n",
      "51次,('本次龟坐标', 9, 6)，('本次鱼坐标', 4, 1),鱼还剩 1,龟体力还剩 69\n",
      "52次,('本次龟坐标', 9, 6)，('本次鱼坐标', 5, 1),鱼还剩 1,龟体力还剩 68\n",
      "53次,('本次龟坐标', 9, 6)，('本次鱼坐标', 5, 2),鱼还剩 1,龟体力还剩 67\n",
      "54次,('本次龟坐标', 9, 6)，('本次鱼坐标', 4, 2),鱼还剩 1,龟体力还剩 66\n",
      "55次,('本次龟坐标', 9, 4)，('本次鱼坐标', 4, 3),鱼还剩 1,龟体力还剩 65\n",
      "56次,('本次龟坐标', 9, 6)，('本次鱼坐标', 4, 4),鱼还剩 1,龟体力还剩 64\n",
      "57次,('本次龟坐标', 9, 7)，('本次鱼坐标', 3, 4),鱼还剩 1,龟体力还剩 63\n",
      "58次,('本次龟坐标', 9, 6)，('本次鱼坐标', 3, 3),鱼还剩 1,龟体力还剩 62\n",
      "59次,('本次龟坐标', 9, 5)，('本次鱼坐标', 4, 3),鱼还剩 1,龟体力还剩 61\n",
      "60次,('本次龟坐标', 9, 4)，('本次鱼坐标', 3, 3),鱼还剩 1,龟体力还剩 60\n",
      "61次,('本次龟坐标', 9, 4)，('本次鱼坐标', 3, 4),鱼还剩 1,龟体力还剩 59\n",
      "62次,('本次龟坐标', 8, 4)，('本次鱼坐标', 2, 4),鱼还剩 1,龟体力还剩 58\n",
      "63次,('本次龟坐标', 8, 4)，('本次鱼坐标', 3, 4),鱼还剩 1,龟体力还剩 57\n",
      "64次,('本次龟坐标', 8, 2)，('本次鱼坐标', 3, 3),鱼还剩 1,龟体力还剩 56\n",
      "65次,('本次龟坐标', 8, 1)，('本次鱼坐标', 4, 3),鱼还剩 1,龟体力还剩 55\n",
      "66次,('本次龟坐标', 9, 1)，('本次鱼坐标', 4, 2),鱼还剩 1,龟体力还剩 54\n",
      "67次,('本次龟坐标', 9, 1)，('本次鱼坐标', 4, 3),鱼还剩 1,龟体力还剩 53\n",
      "68次,('本次龟坐标', 9, 1)，('本次鱼坐标', 4, 2),鱼还剩 1,龟体力还剩 52\n",
      "69次,('本次龟坐标', 8, 1)，('本次鱼坐标', 4, 3),鱼还剩 1,龟体力还剩 51\n",
      "70次,('本次龟坐标', 7, 1)，('本次鱼坐标', 3, 3),鱼还剩 1,龟体力还剩 50\n",
      "71次,('本次龟坐标', 7, 1)，('本次鱼坐标', 2, 3),鱼还剩 1,龟体力还剩 49\n",
      "72次,('本次龟坐标', 6, 1)，('本次鱼坐标', 2, 2),鱼还剩 1,龟体力还剩 48\n",
      "73次,('本次龟坐标', 7, 1)，('本次鱼坐标', 2, 1),鱼还剩 1,龟体力还剩 47\n",
      "74次,('本次龟坐标', 8, 1)，('本次鱼坐标', 2, 2),鱼还剩 1,龟体力还剩 46\n",
      "75次,('本次龟坐标', 8, 1)，('本次鱼坐标', 2, 3),鱼还剩 1,龟体力还剩 45\n",
      "76次,('本次龟坐标', 6, 1)，('本次鱼坐标', 2, 4),鱼还剩 1,龟体力还剩 44\n",
      "77次,('本次龟坐标', 4, 1)，('本次鱼坐标', 2, 5),鱼还剩 1,龟体力还剩 43\n",
      "78次,('本次龟坐标', 4, 1)，('本次鱼坐标', 3, 5),鱼还剩 1,龟体力还剩 42\n",
      "79次,('本次龟坐标', 4, 3)，('本次鱼坐标', 2, 5),鱼还剩 1,龟体力还剩 41\n",
      "80次,('本次龟坐标', 4, 1)，('本次鱼坐标', 2, 6),鱼还剩 1,龟体力还剩 40\n",
      "81次,('本次龟坐标', 4, 1)，('本次鱼坐标', 2, 5),鱼还剩 1,龟体力还剩 39\n",
      "82次,('本次龟坐标', 3, 1)，('本次鱼坐标', 2, 4),鱼还剩 1,龟体力还剩 38\n",
      "83次,('本次龟坐标', 3, 3)，('本次鱼坐标', 1, 4),鱼还剩 1,龟体力还剩 37\n",
      "84次,('本次龟坐标', 3, 1)，('本次鱼坐标', 2, 4),鱼还剩 1,龟体力还剩 36\n",
      "85次,('本次龟坐标', 3, 3)，('本次鱼坐标', 3, 4),鱼还剩 1,龟体力还剩 35\n",
      "86次,('本次龟坐标', 3, 5)，('本次鱼坐标', 3, 3),鱼还剩 1,龟体力还剩 34\n",
      "87次,('本次龟坐标', 3, 4)，('本次鱼坐标', 3, 2),鱼还剩 1,龟体力还剩 33\n",
      "88次,('本次龟坐标', 5, 4)，('本次鱼坐标', 3, 3),鱼还剩 1,龟体力还剩 32\n",
      "89次,('本次龟坐标', 5, 6)，('本次鱼坐标', 3, 2),鱼还剩 1,龟体力还剩 31\n",
      "90次,('本次龟坐标', 7, 6)，('本次鱼坐标', 3, 1),鱼还剩 1,龟体力还剩 30\n",
      "91次,('本次龟坐标', 7, 8)，('本次鱼坐标', 3, 2),鱼还剩 1,龟体力还剩 29\n",
      "92次,('本次龟坐标', 7, 9)，('本次鱼坐标', 2, 2),鱼还剩 1,龟体力还剩 28\n",
      "93次,('本次龟坐标', 5, 9)，('本次鱼坐标', 1, 2),鱼还剩 1,龟体力还剩 27\n",
      "94次,('本次龟坐标', 5, 9)，('本次鱼坐标', 2, 2),鱼还剩 1,龟体力还剩 26\n",
      "95次,('本次龟坐标', 4, 9)，('本次鱼坐标', 3, 2),鱼还剩 1,龟体力还剩 25\n",
      "96次,('本次龟坐标', 4, 8)，('本次鱼坐标', 2, 2),鱼还剩 1,龟体力还剩 24\n",
      "97次,('本次龟坐标', 4, 9)，('本次鱼坐标', 2, 3),鱼还剩 1,龟体力还剩 23\n",
      "98次,('本次龟坐标', 4, 8)，('本次鱼坐标', 1, 3),鱼还剩 1,龟体力还剩 22\n",
      "99次,('本次龟坐标', 5, 8)，('本次鱼坐标', 1, 2),鱼还剩 1,龟体力还剩 21\n",
      "100次,('本次龟坐标', 5, 6)，('本次鱼坐标', 2, 2),鱼还剩 1,龟体力还剩 20\n",
      "101次,('本次龟坐标', 5, 7)，('本次鱼坐标', 1, 2),鱼还剩 1,龟体力还剩 19\n",
      "102次,('本次龟坐标', 5, 6)，('本次鱼坐标', 1, 2),鱼还剩 1,龟体力还剩 18\n",
      "103次,('本次龟坐标', 5, 8)，('本次鱼坐标', 2, 2),鱼还剩 1,龟体力还剩 17\n",
      "104次,('本次龟坐标', 3, 8)，('本次鱼坐标', 2, 1),鱼还剩 1,龟体力还剩 16\n",
      "105次,('本次龟坐标', 5, 8)，('本次鱼坐标', 3, 1),鱼还剩 1,龟体力还剩 15\n",
      "106次,('本次龟坐标', 5, 9)，('本次鱼坐标', 4, 1),鱼还剩 1,龟体力还剩 14\n",
      "107次,('本次龟坐标', 5, 7)，('本次鱼坐标', 4, 1),鱼还剩 1,龟体力还剩 13\n",
      "108次,('本次龟坐标', 7, 7)，('本次鱼坐标', 3, 1),鱼还剩 1,龟体力还剩 12\n",
      "109次,('本次龟坐标', 9, 7)，('本次鱼坐标', 3, 2),鱼还剩 1,龟体力还剩 11\n",
      "110次,('本次龟坐标', 9, 6)，('本次鱼坐标', 3, 3),鱼还剩 1,龟体力还剩 10\n",
      "111次,('本次龟坐标', 9, 8)，('本次鱼坐标', 2, 3),鱼还剩 1,龟体力还剩 9\n",
      "112次,('本次龟坐标', 8, 8)，('本次鱼坐标', 2, 4),鱼还剩 1,龟体力还剩 8\n",
      "113次,('本次龟坐标', 8, 7)，('本次鱼坐标', 2, 5),鱼还剩 1,龟体力还剩 7\n",
      "114次,('本次龟坐标', 8, 9)，('本次鱼坐标', 2, 6),鱼还剩 1,龟体力还剩 6\n",
      "115次,('本次龟坐标', 9, 9)，('本次鱼坐标', 2, 7),鱼还剩 1,龟体力还剩 5\n",
      "116次,('本次龟坐标', 9, 9)，('本次鱼坐标', 2, 6),鱼还剩 1,龟体力还剩 4\n",
      "117次,('本次龟坐标', 9, 9)，('本次鱼坐标', 2, 5),鱼还剩 1,龟体力还剩 3\n",
      "118次,('本次龟坐标', 9, 7)，('本次鱼坐标', 3, 5),鱼还剩 1,龟体力还剩 2\n",
      "119次,('本次龟坐标', 8, 7)，('本次鱼坐标', 2, 5),鱼还剩 1,龟体力还剩 1\n",
      "120次,('本次龟坐标', 8, 5)，('本次鱼坐标', 2, 4),鱼还剩 1,龟体力还剩 0\n",
      "Game Over\n"
     ]
    }
   ],
   "source": [
    "import random\n",
    "\n",
    "xt,yt,xf,yf = 0,0,0,0\n",
    "t_egy = 100\n",
    "num_fish = 2\n",
    "\n",
    "class Game():\n",
    "    lim_x = 10 # 定义边界属性，下面没用上，图省事儿了。\n",
    "    lim_y = 10    \n",
    "    pass\n",
    "\n",
    "class Turtle(Game):\n",
    "    def __init__(self):\n",
    "        pass\n",
    "    \n",
    "    def move(self):\n",
    "        global xt   \n",
    "        global yt\n",
    "        global t_egy\n",
    "        drc = random.choice(['x','y']) # 随机选取一个方向\n",
    "# 乌龟的x移动：\n",
    "        if drc == 'x':\n",
    "            if 1 <= xt <= 9:\n",
    "                xt = xt + random.randint(1,2)*random.choice([1,-1]) # 每走一步的坐标变化\n",
    "                if xt < 0:\n",
    "                    xt = xt + 2\n",
    "                if xt >10:\n",
    "                    xt = xt - 2\n",
    "            if xt == 0:\n",
    "                xt = xt + random.randint(1,2)\n",
    "            if xt == 10:\n",
    "                xt = xt - random.randint(1,2)\n",
    "            t_egy -= 1\n",
    "# 乌龟的y移动：       \n",
    "        if drc == 'y':\n",
    "            if 1 <= yt <= 9:\n",
    "                yt = yt + random.randint(1,2)*random.choice([1,-1]) # 每走一步的坐标变化\n",
    "                if yt < 0:\n",
    "                    yt = yt + 2\n",
    "                if yt >10:\n",
    "                    yt = yt - 2\n",
    "            if yt == 0:\n",
    "                yt = yt + random.randint(1,2)\n",
    "            if yt == 10:\n",
    "                yt = yt - random.randint(1,2)\n",
    "            t_egy -= 1\n",
    "            \n",
    "        return '本次龟坐标',xt,yt\n",
    "\n",
    "class Fish(Game):\n",
    "    def __init__(self):\n",
    "        pass\n",
    "\n",
    "    def move(self):\n",
    "        global xf\n",
    "        global yf\n",
    "        drc = random.choice(['x','y']) # 随机选取一个方向\n",
    "# 鱼的x移动：       \n",
    "        if drc == 'x':\n",
    "            if 1 <= xf <= 9:\n",
    "                xf = xf + random.choice([1,-1]) \n",
    "            if xf == 0:\n",
    "                xf = xf + 1\n",
    "            if xf == 10:\n",
    "                xf = xf - 1\n",
    "# 鱼的y移动：\n",
    "        if drc == 'y':\n",
    "            if 1 <= yf <= 9:\n",
    "                yf = yf + random.choice([1,-1]) \n",
    "            if yf == 0:\n",
    "                yf = yf + 1\n",
    "            if yf == 10:\n",
    "                yf = yf - 1\n",
    "                \n",
    "        return '本次鱼坐标',xf,yf \n",
    "    \n",
    "# 开始调用：\n",
    "\n",
    "t = Turtle()\n",
    "f = Fish()\n",
    "\n",
    "i = 0\n",
    "while True:\n",
    "    if t_egy > 0 and num_fish > 0:\n",
    "            \n",
    "        i += 1\n",
    "        print(i,end=\"次,\")    \n",
    "        print(t.move(),end=\"，\")\n",
    "        print(f.move(),end=',')\n",
    "               \n",
    "        if xt == xf and yt == yf:\n",
    "            num_fish -= 1\n",
    "            t_egy += 20\n",
    "            \n",
    "        print('鱼还剩',num_fish,end=',')\n",
    "        print('龟体力还剩',t_egy)      \n",
    "        \n",
    "    else:\n",
    "        break\n",
    "            \n",
    "print('Game Over')"
   ]
  },
  {
   "cell_type": "code",
   "execution_count": null,
   "metadata": {
    "collapsed": true
   },
   "outputs": [],
   "source": [
    "# 思考：上一题，实际上在类外面命名变量是个不好的习惯，所以，能不能把那几个变量作为静态方法，或者父类的属性呢。。。\n",
    "# 父类属性尝试失败"
   ]
  },
  {
   "cell_type": "code",
   "execution_count": 11,
   "metadata": {
    "collapsed": true
   },
   "outputs": [],
   "source": [
    "# 原来构造函数的属性是可以迭代的呀，他妈的，那上面那几个变量就能放在构造函数里了。命名空间混乱的问题就好说了。\n",
    "# 敲黑板！！！！！！ 构造函数只有实例化的时候被调用，在调用其它函数的时候，它是完全不参与的！！\n",
    "class A():\n",
    "    def __init__(self):\n",
    "        self.i = 100\n",
    "        \n",
    "    def sub(self):\n",
    "        self.i -= 1\n",
    "        return self.i\n",
    "    \n",
    "a = A()\n",
    "# for i in range(0,10):\n",
    "#     print(a.sub())"
   ]
  },
  {
   "cell_type": "markdown",
   "metadata": {
    "collapsed": true
   },
   "source": [
    "### 定义一个点，和直线类，使用方法getlen获取两点构成的直线长度"
   ]
  },
  {
   "cell_type": "code",
   "execution_count": 1,
   "metadata": {},
   "outputs": [
    {
     "data": {
      "text/plain": [
       "5.0"
      ]
     },
     "execution_count": 1,
     "metadata": {},
     "output_type": "execute_result"
    }
   ],
   "source": [
    "import math\n",
    "\n",
    "class Point(object):\n",
    "    def __init__(self, x=0, y=0):\n",
    "        self.x = x\n",
    "        self.y = y\n",
    "    pass\n",
    "p1 = Point(5,6)\n",
    "p2 = Point(2,10)\n",
    "\n",
    "class Line(object):\n",
    "    def __init__(self,p1,p2):\n",
    "        pass\n",
    "    \n",
    "    def distance(self):\n",
    "        dx = p1.x - p2.x\n",
    "        dy = p1.y - p2.y\n",
    "        dp = math.sqrt(math.pow(dx,2)+math.pow(dy,2))\n",
    "        return dp\n",
    "\n",
    "a = Line(p1,p2)\n",
    "\n",
    "a.distance()"
   ]
  },
  {
   "cell_type": "code",
   "execution_count": 2,
   "metadata": {
    "collapsed": true
   },
   "outputs": [],
   "source": [
    "import random"
   ]
  },
  {
   "cell_type": "code",
   "execution_count": 12,
   "metadata": {},
   "outputs": [
    {
     "name": "stdout",
     "output_type": "stream",
     "text": [
      "[1, 2, 3, 4]\n"
     ]
    }
   ],
   "source": [
    "l = [1,2,3,4]\n",
    "s = str(l)\n",
    "print(s)"
   ]
  },
  {
   "cell_type": "code",
   "execution_count": 14,
   "metadata": {},
   "outputs": [
    {
     "name": "stdout",
     "output_type": "stream",
     "text": [
      "97\n"
     ]
    }
   ],
   "source": [
    "print(ord('a'))"
   ]
  },
  {
   "cell_type": "code",
   "execution_count": 26,
   "metadata": {},
   "outputs": [
    {
     "name": "stdout",
     "output_type": "stream",
     "text": [
      "请输入三位数，输入'-1'终止游戏-1\n",
      "游戏结束\n"
     ]
    }
   ],
   "source": [
    "def num_game():    \n",
    "    import random\n",
    "    import math\n",
    "    score = 0\n",
    "    while True:\n",
    "        # 输入函数\n",
    "        num = input('请输入三位数，输入\\'-1\\'终止游戏')\n",
    "        num = int(num)\n",
    "        \n",
    "        if num == -1:\n",
    "            print('游戏结束')\n",
    "            break\n",
    "\n",
    "        # 检测是否在区间内\n",
    "        if not 100 <= num <= 999 :\n",
    "            print('请重新输入')\n",
    "            continue\n",
    "        else:\n",
    "            num_p = random.randint(100,999)\n",
    "            print('随机数为', num_p, '你输入的是', num)\n",
    "        # 中奖\n",
    "            if num == num_p:\n",
    "                print('你中奖了')\n",
    "                score += 100\n",
    "                print('你的分数是：',score)\n",
    "        # 打印位数\n",
    "            if num > num_p:\n",
    "                # print('随机数为', num_p, '你输入的是',num)\n",
    "                print('个位',num%10,'十位', (num%100)//10,'百位',num//100)\n",
    "        # 打印字符串\n",
    "            else:\n",
    "                # ascii码，65-90是大写英文字母，97-122是小写字母。\n",
    "                for i in range(0,10):\n",
    "\n",
    "                    n = ''\n",
    "                    for i in range(8):\n",
    "                        n1 = random.randint(0,9)\n",
    "                        n = n + str(n1)\n",
    "\n",
    "                    sn = ''\n",
    "                    for i in range(4):\n",
    "                        s = chr(random.randint(97, 122))\n",
    "                        sn = sn + s\n",
    "\n",
    "                    cc = sn + n\n",
    "                    # print('随机数为', num_p, '你输入的是',num)\n",
    "                    print(cc)\n",
    "                    # 执行文件存入操作\n",
    "                    with open('str_num.txt','a') as f:\n",
    "                        f.write(cc+'\\n')\n",
    "                        f.close()\n",
    "\n",
    "            continue\n",
    "            \n",
    "# 前面我们把它放在了函数当中\n",
    "\n",
    "if __name__ == '__main__':\n",
    "    num_game()\n",
    "else:\n",
    "    pass\n",
    "\n",
    "\n"
   ]
  },
  {
   "cell_type": "code",
   "execution_count": 28,
   "metadata": {
    "scrolled": true
   },
   "outputs": [
    {
     "name": "stdout",
     "output_type": "stream",
     "text": [
      "请输入三位数：999\n",
      "随机数为 716 你输入的是 999\n",
      "个位 9 十位 9 百位 9\n"
     ]
    }
   ],
   "source": [
    "# 封装成类\n",
    "class MyGame():\n",
    "\n",
    "    def num_game(self):\n",
    "        import random\n",
    "        import math\n",
    "        score = 0\n",
    "\n",
    "        while True:\n",
    "          \n",
    "            num = input('请输入三位数：')\n",
    "            num = int(num)\n",
    "            \n",
    "            if not 100 <= num <= 999 :\n",
    "                print('请重新输入')\n",
    "                continue\n",
    "                \n",
    "            else:\n",
    "                num_p = random.randint(100,999)\n",
    "                print('随机数为', num_p, '你输入的是', num)\n",
    "\n",
    "                if num == num_p:\n",
    "                    print('你中奖了')\n",
    "                    score += 100\n",
    "                    print(score)\n",
    "\n",
    "                if num > num_p:\n",
    "                    # print('随机数为', num_p, '你输入的是',num)\n",
    "                    print('个位',num%10,'十位', (num%100)//10,'百位',num//100)\n",
    "\n",
    "                else:\n",
    "                    # ascii码，65-90是大写英文字母，97-122是小写字母。\n",
    "                    for i in range(0,10):\n",
    "\n",
    "                        n = ''\n",
    "                        for i in range(8):\n",
    "                            n1 = random.randint(0,9)\n",
    "                            n = n + str(n1)\n",
    "\n",
    "                        sn = ''\n",
    "                        for i in range(4):\n",
    "                            s = chr(random.randint(97, 122))\n",
    "                            sn = sn + s\n",
    "\n",
    "                        cc = sn + n\n",
    "                        # print('随机数为', num_p, '你输入的是',num)\n",
    "                        print(cc)\n",
    "                        # 执行文件存入操作\n",
    "                        with open('str_num.txt','a') as f:\n",
    "                            f.write(cc+'\\n')\n",
    "                            f.close()\n",
    "                break\n",
    "\n",
    "game = MyGame()\n",
    "\n",
    "game.num_game()\n"
   ]
  },
  {
   "cell_type": "code",
   "execution_count": 37,
   "metadata": {},
   "outputs": [
    {
     "name": "stdout",
     "output_type": "stream",
     "text": [
      "a,b,c,d,e,f,g,h,i,j,k,l,m,n,o,p,q,r,s,t,u,v,w,x,y,z,\n",
      "A,B,C,D,E,F,G,H,I,J,K,L,M,N,O,P,Q,R,S,T,U,V,W,X,Y,Z,\n"
     ]
    }
   ],
   "source": [
    "# 打印26个字母\n",
    "for i in range(97,123):\n",
    "    s = chr(i)\n",
    "    print(s,end=',')\n",
    "print()\n",
    "for i in range(65,91):\n",
    "    s = chr(i)\n",
    "    print(s,end=',')\n",
    "print()\n",
    "# for i in range(91,97):\n",
    "#     s = chr(i)\n",
    "#     print(s,end=',') \n",
    "# print()\n",
    "# for i in range(0,65):\n",
    "#     s = chr(i)\n",
    "#     print(s,end=',') \n",
    "# print()\n",
    "# for i in range(123,200):\n",
    "#     s = chr(i)\n",
    "#     print(s,end=',') "
   ]
  },
  {
   "cell_type": "code",
   "execution_count": null,
   "metadata": {
    "collapsed": true
   },
   "outputs": [],
   "source": []
  },
  {
   "cell_type": "code",
   "execution_count": null,
   "metadata": {
    "collapsed": true
   },
   "outputs": [],
   "source": []
  },
  {
   "cell_type": "code",
   "execution_count": null,
   "metadata": {
    "collapsed": true
   },
   "outputs": [],
   "source": []
  },
  {
   "cell_type": "code",
   "execution_count": null,
   "metadata": {
    "collapsed": true
   },
   "outputs": [],
   "source": []
  },
  {
   "cell_type": "code",
   "execution_count": null,
   "metadata": {
    "collapsed": true
   },
   "outputs": [],
   "source": []
  },
  {
   "cell_type": "code",
   "execution_count": null,
   "metadata": {
    "collapsed": true
   },
   "outputs": [],
   "source": []
  },
  {
   "cell_type": "code",
   "execution_count": null,
   "metadata": {
    "collapsed": true
   },
   "outputs": [],
   "source": []
  },
  {
   "cell_type": "code",
   "execution_count": null,
   "metadata": {
    "collapsed": true
   },
   "outputs": [],
   "source": []
  },
  {
   "cell_type": "code",
   "execution_count": null,
   "metadata": {
    "collapsed": true
   },
   "outputs": [],
   "source": []
  },
  {
   "cell_type": "code",
   "execution_count": null,
   "metadata": {
    "collapsed": true
   },
   "outputs": [],
   "source": []
  }
 ],
 "metadata": {
  "kernelspec": {
   "display_name": "Python 3",
   "language": "python",
   "name": "python3"
  },
  "language_info": {
   "codemirror_mode": {
    "name": "ipython",
    "version": 3
   },
   "file_extension": ".py",
   "mimetype": "text/x-python",
   "name": "python",
   "nbconvert_exporter": "python",
   "pygments_lexer": "ipython3",
   "version": "3.6.3"
  }
 },
 "nbformat": 4,
 "nbformat_minor": 2
}
